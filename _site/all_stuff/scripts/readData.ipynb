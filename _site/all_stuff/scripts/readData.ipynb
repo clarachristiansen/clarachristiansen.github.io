{
 "cells": [
  {
   "cell_type": "markdown",
   "metadata": {},
   "source": [
    "## Read GPI Safety Dataset"
   ]
  },
  {
   "cell_type": "code",
   "execution_count": 1,
   "metadata": {},
   "outputs": [
    {
     "name": "stdout",
     "output_type": "stream",
     "text": [
      "                Country iso3c   2008   2009   2010   2011   2012   2013  \\\n",
      "0           Afghanistan   AFG  3.104  3.235  3.162  3.126  3.184  3.240   \n",
      "1                Angola   AGO  1.991  2.009  1.943  2.048  1.997  2.034   \n",
      "2               Albania   ALB  1.791  1.779  1.781  1.794  1.823  1.819   \n",
      "3  United Arab Emirates   ARE  1.651  1.627  1.647  1.642  1.700  1.665   \n",
      "4             Argentina   ARG  1.820  1.886  1.899  1.879  1.867  1.972   \n",
      "\n",
      "    2014   2015   2016   2017   2018   2019   2020   2021   2022   2023  \n",
      "0  3.167  3.254  3.338  3.386  3.512  3.538  3.581  3.588  3.545  3.448  \n",
      "1  2.065  1.922  1.960  1.936  1.988  1.952  1.918  2.016  1.970  2.020  \n",
      "2  1.824  1.824  1.779  1.786  1.723  1.733  1.774  1.781  1.764  1.745  \n",
      "3  1.735  1.793  1.826  1.929  1.892  1.886  2.022  1.980  1.979  1.979  \n",
      "4  1.882  1.929  1.954  1.934  1.911  1.984  1.948  1.926  1.904  1.837  \n"
     ]
    }
   ],
   "source": [
    "import pandas as pd\n",
    "\n",
    "# read GPI.csv and display the first 5 rows\n",
    "gpi = pd.read_csv('data/GPI.csv')\n",
    "print(gpi.head())"
   ]
  },
  {
   "cell_type": "markdown",
   "metadata": {},
   "source": [
    "## Read Resturant Dataset\n",
    "https://www.kaggle.com/datasets/damienbeneschi/krakow-ta-restaurans-data-raw/code"
   ]
  },
  {
   "cell_type": "code",
   "execution_count": 8,
   "metadata": {},
   "outputs": [
    {
     "name": "stdout",
     "output_type": "stream",
     "text": [
      "['Amsterdam' 'Athens' 'Barcelona' 'Berlin' 'Bratislava' 'Brussels'\n",
      " 'Budapest' 'Copenhagen' 'Dublin' 'Edinburgh' 'Geneva' 'Hamburg'\n",
      " 'Helsinki' 'Krakow' 'Lisbon' 'Ljubljana' 'London' 'Luxembourg' 'Lyon'\n",
      " 'Madrid' 'Milan' 'Munich' 'Oporto' 'Oslo' 'Paris' 'Prague' 'Rome'\n",
      " 'Stockholm' 'Vienna' 'Warsaw' 'Zurich']\n"
     ]
    }
   ],
   "source": [
    "# TA_resturants_europa.csv read and display the first 5 rows\n",
    "ta_resturants_europa = pd.read_csv('data/TA_restaurants_europa.csv')\n",
    "\n",
    "print(ta_resturants_europa['City'].unique())\n"
   ]
  },
  {
   "cell_type": "markdown",
   "metadata": {},
   "source": [
    "## Danskers Rejser"
   ]
  },
  {
   "cell_type": "code",
   "execution_count": 13,
   "metadata": {},
   "outputs": [
    {
     "name": "stdout",
     "output_type": "stream",
     "text": [
      "                      Område Transportmiddel  Mindre end fire overnatninger  \\\n",
      "0  Danmark og udlandet i alt             Bil                        6743435   \n",
      "1  Danmark og udlandet i alt             Tog                        1356664   \n",
      "2  Danmark og udlandet i alt            Skib                         254546   \n",
      "3  Danmark og udlandet i alt             Fly                         508316   \n",
      "4  Danmark og udlandet i alt             Bus                         481791   \n",
      "\n",
      "   Mindst fire overnatninger  \n",
      "0                    3036999  \n",
      "1                     335193  \n",
      "2                     209670  \n",
      "3                    2879415  \n",
      "4                     248459  \n"
     ]
    }
   ],
   "source": [
    "# DanskeRejsevaner.csv read and display the first 5 rows\n",
    "\n",
    "danske_rejsevaner = pd.read_csv('data/Transportmidler.csv')\n",
    "print(danske_rejsevaner.head())"
   ]
  },
  {
   "cell_type": "markdown",
   "metadata": {},
   "source": [
    "## Temperatur Lande"
   ]
  },
  {
   "cell_type": "code",
   "execution_count": null,
   "metadata": {},
   "outputs": [
    {
     "name": "stdout",
     "output_type": "stream",
     "text": [
      "              Country  Year  Annual Mean  5-yr smooth Code\n",
      "0  Dominican Republic  1901        23.71        23.65  DOM\n",
      "1  Dominican Republic  1902        23.40        23.52  DOM\n",
      "2  Dominican Republic  1903        23.45        23.38  DOM\n",
      "3  Dominican Republic  1904        23.03        23.26  DOM\n",
      "4  Dominican Republic  1905        23.44        23.16  DOM\n",
      "170\n"
     ]
    }
   ],
   "source": [
    "# read combined_temperature.csv and display the first 5 rows\n",
    "combined_temperature = pd.read_csv('data/combined_temperature.csv')\n",
    "print(combined_temperature.head())\n"
   ]
  },
  {
   "cell_type": "markdown",
   "metadata": {},
   "source": [
    "## Big Max Index load"
   ]
  },
  {
   "cell_type": "code",
   "execution_count": 17,
   "metadata": {},
   "outputs": [
    {
     "name": "stdout",
     "output_type": "stream",
     "text": [
      "  flagCode         country  BigMacIndex_BigMacIndex_USD_202406\n",
      "0       CH     Switzerland                                8.07\n",
      "1       UY         Uruguay                                7.07\n",
      "2       NO          Norway                                6.77\n",
      "3       AR       Argentina                                6.55\n",
      "4       GB  United Kingdom                                5.90\n"
     ]
    }
   ],
   "source": [
    "# read BigMacIndex.csv and display the first 5 rows$\n",
    "big_mac_index = pd.read_csv('data/BigMacIndex.csv')\n",
    "print(big_mac_index.head())"
   ]
  }
 ],
 "metadata": {
  "kernelspec": {
   "display_name": "base",
   "language": "python",
   "name": "python3"
  },
  "language_info": {
   "codemirror_mode": {
    "name": "ipython",
    "version": 3
   },
   "file_extension": ".py",
   "mimetype": "text/x-python",
   "name": "python",
   "nbconvert_exporter": "python",
   "pygments_lexer": "ipython3",
   "version": "3.12.2"
  }
 },
 "nbformat": 4,
 "nbformat_minor": 2
}
