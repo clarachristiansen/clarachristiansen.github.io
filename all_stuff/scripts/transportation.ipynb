{
 "cells": [
  {
   "cell_type": "markdown",
   "metadata": {},
   "source": [
    "# Imports"
   ]
  },
  {
   "cell_type": "code",
   "execution_count": 2,
   "metadata": {},
   "outputs": [],
   "source": [
    "import pandas as pd\n",
    "import numpy as np"
   ]
  },
  {
   "cell_type": "markdown",
   "metadata": {},
   "source": [
    "# Load Data"
   ]
  },
  {
   "cell_type": "code",
   "execution_count": 3,
   "metadata": {},
   "outputs": [],
   "source": [
    "data = pd.read_csv('../data/transportation_world.csv', encoding='unicode_escape', sep=';', header=None).drop(0, axis=1)\n",
    "data.columns = ['Duration', 'Type', 'Year', 'Vacations']\n",
    "data['Vacations'] = data['Vacations'].apply(lambda x: 0 if x=='..' else int(x))"
   ]
  },
  {
   "cell_type": "code",
   "execution_count": 4,
   "metadata": {},
   "outputs": [
    {
     "data": {
      "text/html": [
       "<div>\n",
       "<style scoped>\n",
       "    .dataframe tbody tr th:only-of-type {\n",
       "        vertical-align: middle;\n",
       "    }\n",
       "\n",
       "    .dataframe tbody tr th {\n",
       "        vertical-align: top;\n",
       "    }\n",
       "\n",
       "    .dataframe thead th {\n",
       "        text-align: right;\n",
       "    }\n",
       "</style>\n",
       "<table border=\"1\" class=\"dataframe\">\n",
       "  <thead>\n",
       "    <tr style=\"text-align: right;\">\n",
       "      <th></th>\n",
       "      <th>Duration</th>\n",
       "      <th>Type</th>\n",
       "      <th>Year</th>\n",
       "      <th>Vacations</th>\n",
       "    </tr>\n",
       "  </thead>\n",
       "  <tbody>\n",
       "    <tr>\n",
       "      <th>0</th>\n",
       "      <td>Mindre end fire overnatninger</td>\n",
       "      <td>Bil</td>\n",
       "      <td>2017</td>\n",
       "      <td>1074671</td>\n",
       "    </tr>\n",
       "    <tr>\n",
       "      <th>1</th>\n",
       "      <td>Mindre end fire overnatninger</td>\n",
       "      <td>Bil</td>\n",
       "      <td>2018</td>\n",
       "      <td>928717</td>\n",
       "    </tr>\n",
       "    <tr>\n",
       "      <th>2</th>\n",
       "      <td>Mindre end fire overnatninger</td>\n",
       "      <td>Bil</td>\n",
       "      <td>2019</td>\n",
       "      <td>779540</td>\n",
       "    </tr>\n",
       "    <tr>\n",
       "      <th>3</th>\n",
       "      <td>Mindre end fire overnatninger</td>\n",
       "      <td>Bil</td>\n",
       "      <td>2020</td>\n",
       "      <td>610632</td>\n",
       "    </tr>\n",
       "    <tr>\n",
       "      <th>4</th>\n",
       "      <td>Mindre end fire overnatninger</td>\n",
       "      <td>Bil</td>\n",
       "      <td>2021</td>\n",
       "      <td>477843</td>\n",
       "    </tr>\n",
       "    <tr>\n",
       "      <th>...</th>\n",
       "      <td>...</td>\n",
       "      <td>...</td>\n",
       "      <td>...</td>\n",
       "      <td>...</td>\n",
       "    </tr>\n",
       "    <tr>\n",
       "      <th>107</th>\n",
       "      <td>Mindst fire overnatninger</td>\n",
       "      <td>Andre transportmidler</td>\n",
       "      <td>2019</td>\n",
       "      <td>28908</td>\n",
       "    </tr>\n",
       "    <tr>\n",
       "      <th>108</th>\n",
       "      <td>Mindst fire overnatninger</td>\n",
       "      <td>Andre transportmidler</td>\n",
       "      <td>2020</td>\n",
       "      <td>5348</td>\n",
       "    </tr>\n",
       "    <tr>\n",
       "      <th>109</th>\n",
       "      <td>Mindst fire overnatninger</td>\n",
       "      <td>Andre transportmidler</td>\n",
       "      <td>2021</td>\n",
       "      <td>3896</td>\n",
       "    </tr>\n",
       "    <tr>\n",
       "      <th>110</th>\n",
       "      <td>Mindst fire overnatninger</td>\n",
       "      <td>Andre transportmidler</td>\n",
       "      <td>2022</td>\n",
       "      <td>20914</td>\n",
       "    </tr>\n",
       "    <tr>\n",
       "      <th>111</th>\n",
       "      <td>Mindst fire overnatninger</td>\n",
       "      <td>Andre transportmidler</td>\n",
       "      <td>2023</td>\n",
       "      <td>12400</td>\n",
       "    </tr>\n",
       "  </tbody>\n",
       "</table>\n",
       "<p>112 rows × 4 columns</p>\n",
       "</div>"
      ],
      "text/plain": [
       "                          Duration                   Type  Year  Vacations\n",
       "0    Mindre end fire overnatninger                    Bil  2017    1074671\n",
       "1    Mindre end fire overnatninger                    Bil  2018     928717\n",
       "2    Mindre end fire overnatninger                    Bil  2019     779540\n",
       "3    Mindre end fire overnatninger                    Bil  2020     610632\n",
       "4    Mindre end fire overnatninger                    Bil  2021     477843\n",
       "..                             ...                    ...   ...        ...\n",
       "107      Mindst fire overnatninger  Andre transportmidler  2019      28908\n",
       "108      Mindst fire overnatninger  Andre transportmidler  2020       5348\n",
       "109      Mindst fire overnatninger  Andre transportmidler  2021       3896\n",
       "110      Mindst fire overnatninger  Andre transportmidler  2022      20914\n",
       "111      Mindst fire overnatninger  Andre transportmidler  2023      12400\n",
       "\n",
       "[112 rows x 4 columns]"
      ]
     },
     "execution_count": 4,
     "metadata": {},
     "output_type": "execute_result"
    }
   ],
   "source": [
    "data"
   ]
  },
  {
   "cell_type": "code",
   "execution_count": 5,
   "metadata": {},
   "outputs": [],
   "source": [
    "data_long = data[data['Duration'] == 'Mindst fire overnatninger'].drop('Duration', axis=1)"
   ]
  },
  {
   "cell_type": "markdown",
   "metadata": {},
   "source": [
    "# Transportation across time and type"
   ]
  },
  {
   "cell_type": "code",
   "execution_count": 6,
   "metadata": {},
   "outputs": [],
   "source": [
    "data_long = data_long.pivot(index='Year', columns='Type', values='Vacations')\n",
    "data_long = data_long.reset_index().drop(['Cykel', 'Sejlbåd'], axis=1)\n",
    "data_long = data_long.rename_axis(None, axis=1)\n",
    "data_long['Year'] = data_long['Year'].astype(str)\n",
    "data_long = data_long[['Year','Fly', 'Bil', 'Tog', 'Skib', 'Bus', 'Andre transportmidler']]"
   ]
  },
  {
   "cell_type": "code",
   "execution_count": 7,
   "metadata": {},
   "outputs": [],
   "source": [
    "data_long = data_long.rename(columns={'Bil': 'Car', 'Tog': 'Train', 'Skib': 'Ship', 'Fly': 'Airplane', 'Andre transportmidler': 'Other forms of transportation'})"
   ]
  },
  {
   "cell_type": "code",
   "execution_count": 8,
   "metadata": {},
   "outputs": [
    {
     "data": {
      "text/plain": [
       "['Airplane', 'Car', 'Train', 'Ship', 'Bus', 'Other forms of transportation']"
      ]
     },
     "execution_count": 8,
     "metadata": {},
     "output_type": "execute_result"
    }
   ],
   "source": [
    "transportation_types = list(data_long.columns[1:])\n",
    "transportation_types"
   ]
  },
  {
   "cell_type": "code",
   "execution_count": 9,
   "metadata": {},
   "outputs": [],
   "source": [
    "from bokeh.io import show\n",
    "from bokeh.models import ColumnDataSource\n",
    "from bokeh.plotting import figure\n",
    "from bokeh.palettes import Category20\n",
    "\n",
    "\n",
    "# Ensure numeric types\n",
    "#for col in data_long.columns[1:]:  # skip 'Year' if it's a string category\n",
    "#    data_long[col] = pd.to_numeric(data_long[col], errors='coerce')\n",
    "#print(data_long['Year'].values)\n",
    "# Categories to stack\n",
    "\n",
    "# Create the source\n",
    "source = ColumnDataSource(data_long)\n",
    "\n",
    "# Set up the figure\n",
    "p = figure(x_range=data_long[\"Year\"], height=600, width=900, title=\"Forms of transport for vacation\",\n",
    "           toolbar_location=None, tools=\"hover\", tooltips=\"$name: @$name\")\n",
    "\n",
    "# Assign colors (Bokeh palettes are limited, so repeat if needed)\n",
    "colors = Category20[len(transportation_types)]\n",
    "\n",
    "# Add stacked bars\n",
    "p.vbar_stack(transportation_types, x='Year', width=0.9, color=colors, source=source, legend_label=transportation_types)\n",
    "\n",
    "# Style tweaks\n",
    "p.y_range.start = 0\n",
    "p.xgrid.grid_line_color = None\n",
    "p.axis.minor_tick_line_color = None\n",
    "p.outline_line_color = None\n",
    "\n",
    "\n",
    "p.legend.click_policy=\"mute\" ### assigns the click policy (you can try to use ''hide'\n",
    "p.legend.location = \"center\"\n",
    "\n",
    "########################################################\n",
    "# This line puts the legend outside of the plot area\n",
    "\n",
    "p.add_layout(p.legend[0], 'left')\n",
    "\n",
    "\n",
    "# Show the plot\n",
    "show(p)\n"
   ]
  },
  {
   "cell_type": "code",
   "execution_count": null,
   "metadata": {},
   "outputs": [],
   "source": [
    "## Can compare to DK where we primarily drive."
   ]
  }
 ],
 "metadata": {
  "kernelspec": {
   "display_name": "social_graphs",
   "language": "python",
   "name": "python3"
  },
  "language_info": {
   "codemirror_mode": {
    "name": "ipython",
    "version": 3
   },
   "file_extension": ".py",
   "mimetype": "text/x-python",
   "name": "python",
   "nbconvert_exporter": "python",
   "pygments_lexer": "ipython3",
   "version": "3.11.11"
  }
 },
 "nbformat": 4,
 "nbformat_minor": 2
}
