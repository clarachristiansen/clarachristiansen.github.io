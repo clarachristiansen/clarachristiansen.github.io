{
 "cells": [
  {
   "cell_type": "markdown",
   "id": "a51ade64",
   "metadata": {},
   "source": [
    "# Danish Tourism Patterns - Analysis Notebook\n",
    "\n",
    "## 1. Motivation\n",
    "\n",
    "### What is your dataset?\n",
    "\n",
    "We're analyzing Danish tourism patterns using data from multiple sources (see references for all details), which all are provided below:\n",
    "\n",
    "1. **Danish Tourism Statistics**, (Statistics Denmark - Statistik Banken)\n",
    "   - Demographics data: Socioeconomic (FU14), Regional (FU17), Age (FU18)\n",
    "   - Transport data: Modes of transportation (FF3), Departing Passengers (FLYV92)\n",
    "   - Destination data: Vacations per country (FF1)\n",
    "\n",
    "2. **Air Travel Comparisons**, (World Bank Group)\n",
    "   - DataBank tourism data\n",
    "\n",
    "3. **Global Reference Data**\n",
    "   - TripAdvisor Restaurants (31 European cities)\n",
    "   - Global Peace Index (GPI)\n",
    "   - Cost of Living Index\n",
    "   - Mean Temperature by Country\n",
    "   - CO2 Emissions\n",
    "\n",
    "4. **Image- og potentialeanalyse 2024**, (VisitDenmark)\n",
    "   - Tourism data: Activities on vacations (page 19), Reasons for vacation abroad (page 21)\n",
    "\n",
    "The Danish data covers demographics with detailed stats on who travels and how much they spend. The global data helps understand why Danes choose certain destinations.\n",
    "\n",
    "### Why did you choose these datasets?\n",
    "\n",
    "We could not find a unified datasets that did not restrict the analysis, as a result we choose several datasets. We wanted to answer questions like:\n",
    "- How has Danish tourism changed over time?\n",
    "- What factors make destinations popular?\n",
    "- Do different demographics travel differently?\n",
    "- Why do Danes travel abroad?\n",
    "- Which modes of transportation are most used?\n",
    "- And just in general get as much informations about travelling, with focus on danes.\n",
    "\n",
    "We combined government statistics with global data to get both local patterns and international context. The idea was to create something that helps people understand Danish travel trends and potentially plan their own trips.\n",
    "\n",
    "### What was your goal for the end user's experience?\n",
    "\n",
    "Our goal for the end user is that they are able to see how Danish tourism has evolved, compare countries on different metrics, explore demographic patterns and in the end be able to make informed travel decisions, and find out where their next travel destination should be."
   ]
  },
  {
   "cell_type": "markdown",
   "id": "819ab7a8",
   "metadata": {},
   "source": [
    "## 2. Basic stats\n",
    "\n",
    "### Data cleaning process\n",
    "\n",
    "Each visualization needed different cleaning approaches:\n",
    "\n",
    "<details>\n",
    "  <summary><b>For the choropleth map and correlation matrix</b></summary>\n",
    "The choropleth map and correlation matrix required integrating multiple datasets from diverse sources as also mentioned in the start, where all the datasets are linked under Global Reference Data. We standardized country names across all datasets (TripAdvisor Restaurants, Global Peace Index, Cost of Living Index, Temperature, and CO2 Emissions) using comprehensive mapping dictionaries. For time-series data like temperature and GPI, we extracted the most recent year's data for consistency. We normalized metrics to a 0-100 scale for clear comparison for the metrics it made sense on and added English translations for non-English country names. Restaurant data required special processing to convert cuisine style strings to proper lists. The final step involved merging these diverse datasets with country names as keys to create a interactive visualization.\n",
    "</details>\n",
    "\n",
    "\n",
    "<details>\n",
    "  <summary><b>VisitDenmark</b></summary>\n",
    "The dataset about reasons for spending the holiday abroad was sourced from VisitDenmark, a Danish organization, so the original data was in Danish. Only minimal preprocessing was needed. This included translating the category names from Danish to English and converting proportions into percentages by multiplying them by 100, which was necessary for use in the waffle chart. There were no missing values which made it easier. \n",
    "\n",
    "The dataset regarding activities on vacations was also sourced from VisitDenmark. Again it only required minimal preprocessing: The category names were translated from Danish to English and the values were normalized. \n",
    "</details>\n",
    "\n",
    "<details>\n",
    "  <summary><b>World Bank Group (Air Travel Comparisons)</b></summary>\n",
    "For the tourism bubble plot, we used World Bank Group's DataBank tourism data. We cleaned the data by converting column values to numeric format, removing commas from numbers, and handling any conversion errors. We created a GDP per capita metric by dividing GDP by population, and tourism departures per capita by dividing international departures by population. We also created a comprehensive continent mapping dictionary to classify all countries. \n",
    "To enhance analysis capabilities, we calculated the global median for both GDP per capita and tourism departures per capita for each year, creating a trend line that shows how the \"typical\" country has evolved over time. This allows for direct comparison with Denmark's position. We also added a special path trace showing Denmark's trajectory throughout the years, making it easy to visualize how Denmark's travel habits have changed relative to its economic growth. To make Denmark easy to spot visually, we flagged Danish data points with star markers and distinctive colors matching the Danish flag.\n",
    "For bubble sizing, we used a square root scale based on population to ensure smaller countries remained visible while maintaining accurate relative proportions between countries.\n",
    "</details>\n",
    "\n",
    "<details>\n",
    "  <summary><b>Statistics Denmark</b></summary>\n",
    "The dataset regarding most popular destinations was found through Statistics Denmark. The country names were translated from Danish to English and mapped to their respective continents as well. Missing values were marked with \"..\", which we replaced with 0, to keep the numeric format. The formatting of the year values was also corrected. We chose to use data from 2023 only, as it was the most complete, and we already had other visualizations showing changes over time through animations.\n",
    "\n",
    "The dataset about the number of departing passengers from Danish airports was sourced from Statistics Denmark. The date column looked like this \"2001M04\", which required formatting. We split this into separate year and month values, and set the day to 1 since there was only one observation per month. The final result of this formatting was converted to a proper datetime format. By now it was possible to create the line plot. The diverging bar plot additionally required finding the mean of the values and subtracting this from all observations. \n",
    "\n",
    "The dataset about the modes of transporation was sourced from Statistics Denmark. Once again, the category names were translated from Danish to English and missing values were marked with \"..\", which we replaced with 0, to keep the numeric format. We decided to focus on holidays of at least 4 nights or more - we found this more representative, especially for a comparison across domestic and international travels. We decided to drop two transporations categories, bike and sailboat, as these had such small values compared to the other modes of transporation that it did not really make sense. \n",
    "\n",
    "For the Danish travel spending visualization (radar plot) we also used Statistics Denmark data, we standardized column names by removing whitespace and using intuitive labels (converting '09.8 Pakkerejser' to 'Packages'). We created translation mappings to convert Danish socioeconomic categories to English (e.g., \"Gennemsnitshusstand\" → \"Average Household\"). Missing values were removed, and we calculated total spending by combining packages, restaurants, and accommodation expenses. The data was then formatted specifically for radar chart visualization.\n",
    "</details>\n",
    "\n",
    "\n",
    "### Dataset statistics\n",
    "\n",
    "| Visualization | Dataset | Size | Coverage | \n",
    "|--------------|---------|------|----------|\n",
    "| Bubble Chart | World Bank Group | 5,000+ rows | 1996-2019, 200+ countries |\n",
    "| Choropleth | Global Reference Data | 124,000+ rows | All from cost of living, peace, rent index, temperature to groceries prices CO2, resturant prices and also tripadvisor informations about best style resturants |\n",
    "| Radar Charts | Statistics Denmark | 30 rows | 2023, who spends money on travelling |\n",
    "| Vertical Stacked Bar Chart | Statistics Denmark | 122 rows | 2017-2023, total of 37.308.735 vacations recorded|\n",
    "| Line Chart & Diverging Bar Chart | Statistics Denmark | 288 rows | 2001-2024, all Danish commercial airports |\n",
    "| Treemap | Statistics Denmark | 49 rows | 2001-2023, top 50 most popular destinations every year|\n",
    "| Waffle Chart | VisitDenmark | 11 rows | 2023, survey answers|\n",
    "| Horizontal Stacked Bar Chart | VisitDenmark | 11 rows | 2023, survey answers|\n",
    "\n",
    "\n",
    "\n",
    "\n",
    "### Key findings from exploratory data analysis\n",
    "- Danish tourism departures per Capita grew from 0.957 to 1.563 (1996-2019).\n",
    "- Cost of living has stronger correlation with destination choice than safety.\n",
    "- High income groups spend 3x more on package holidays.\n",
    "- Danes prefer flying internationally and drive when travelling within Denmark.\n",
    "- The COVID-19 virus had a huge impact on the airline industry.\n",
    "- Danes usually spend most of their holiday during the summer months. \n",
    "- The countries in south Europe are popular tourism destination for Danes. \n",
    "- When travelling abroad Danes use more time on cultural activities while leisure activities are popular when vacationing in Denmark.\n",
    "- Danes have many reason for vacationing abroad. \n",
    "- A trend of \"higher GDP per capita, more international tourism departures\" exist. \n",
    "- The CO2 expendature is almost linearly related to the distance to the destination."
   ]
  },
  {
   "cell_type": "markdown",
   "id": "08c91754",
   "metadata": {},
   "source": [
    "## 3. Data Analysis\n",
    "\n",
    "### Describe your data analysis and explain what you've learned about the dataset\n",
    "\n",
    "---\n",
    "#### Denmark's Tourism Journey - Bubble Chart\n",
    "\n",
    "In this analysis, we explored tourism trends in relation to economic development across countries, with a particular focus on Denmark. We hypothesized that the number of international tourism departures had a positive correlation with GDP per capita across time. To explore these relationships over time, we chose to create a bubble chart, as it effectively illustrates changes and comparisons across multiple dimensions. The bubble chart visualization tracks Denmark's tourism evolution compared to other countries and shows the general trend we hypothesized. \n",
    "\n",
    "**Key Insights:**\n",
    "- There is a general trend where higher GDP per capita is associated with more international tourism per capita. This supports the hypothesis that wealthier populations travel abroad more frequently.\n",
    "- Denmark consistently ranks among the higher end of tourism per capita, particularly relative to countries with similar or even higher GDP per capita. This suggests a strong inclination toward international travel.\n",
    "- European and North American countries tend to cluster in the upper-right quadrant (high GDP and high tourism), while countries from Africa and parts of Asia remain lower in both metrics.\n",
    "- Nordic countries show similar patterns, but Denmark leads regionally.\n",
    "- Over the years, many countries show an upward movement in GDP per capita, and this is often resulting in a likewise growth in number of international departures. \n",
    "\n",
    "---\n",
    "#### Global Destination Factors - Choropleth Map\n",
    "\n",
    "The choropleth map is an interactive world map analyzing eight different destination factors:\n",
    "- Cost of Living Index\n",
    "- Global Peace Index\n",
    "- Rent Index\n",
    "- Temperature (celsius)\n",
    "- Groceries Index\n",
    "- CO2 Emissions (kg)\n",
    "- Restaurant Prices\n",
    "- Restaurant Information\n",
    "The preprocessing steps are already described briefly in the earlier section. Overall, all the data had to be merged correctly into a master dataframe before it was possible to build a Folium map. Each layer in the map corresponds to one of the factors and the user can switch between these different views. \n",
    "\n",
    "**Key Insights:**\n",
    "- Living condition indicators vary significantly across Europe, with Northern and Western European countries generally showing higher living and rent costs, but also higher peace ratings.\n",
    "- The CO2 expendature is almost linearly related to the distance to the destination.\n",
    "- Restaurant data emphasizes that the restaurant cost is not always directly related to the restaurant ratings. This must be taken with a grna of salt as this is extremely aggregated data. \n",
    "- Since the temperature was a reason for leaving Denmark this view would probably be useful if Danes used the visualization as a tool for planning vacations. \n",
    "\n",
    "---\n",
    "#### Demographic Spending Patterns - Radar Charts\n",
    "\n",
    "MISSING: Three radar charts compare spendings across demographics, being socioeconomic class, age and region. They are all related to the three travel expenses restaurants, package holidays and accomodation. \n",
    "\n",
    "**Key Insights:**\n",
    "- Self-employed heavily favor package holidays\n",
    "- Students spend proportionally more on accommodation\n",
    "- Regional differences show Copenhagen has up to 40% higher spending within the chosen categories. \n",
    "\n",
    "---\n",
    "#### Correlation Analysis - Destination Factors\n",
    "\n",
    "MISSING: The correlation matrix reveals relationships between the metrics\n",
    "\n",
    "**Key Insights:**\n",
    "- Cost metrics highly correlated (0.9+ between most)\n",
    "- Cost vs Safety: -0.524 (moderate negative)\n",
    "- Temperature vs CO2: +0.512 (climate impact)\n",
    "- Cost vs Temperature: -0.317 (warmer = cheaper)\n",
    "\n",
    "We also used:\n",
    "- Correlation analysis to identify destination attractors\n",
    "- Time series analysis for tourism trends\n",
    "- Normalization techniques for cross-metric comparison\n",
    "- Geographic clustering through choropleth visualization\n",
    "\n",
    "---\n",
    "#### Vertical Stacked Bar Plot - Modes of transport\n",
    "We analyzed Danish vacation transport patterns for the year 2023, distinguishing between domestic and international travel. The data was cleaned as explained above and visualized using Bokeh. \n",
    "**Key Insights:**\n",
    "- Danes primarily use cars for domestic vacations, possibly due to the country's compact geography, high car ownership and strong road infrastructure.\n",
    "- Airplanes dominate the international travel scene. \n",
    "- Air travel had consistently 3 million trips per year except for COVID-19 years. Air travel dropped significantly in 2020–2021, while domestic car travel surged, highlighting the effect of the COVID-19 pandemics travel restrictions. \n",
    "\n",
    "---\n",
    "#### Line plot - Departing Passengers\n",
    "We used the data on number of departing passengers from Danish airports in two ways. For this plot it was treated as a time series and plotted as a line plot. We were especially interested in finding events which's impacts were reflected in the data. \n",
    "**Key Insights:**\n",
    "- The number of passengers departing from Danish airports has generally increased\n",
    "- Air travel nearly collapsed in the beginning of 2020 as a result of the COVID-19 pandemic.\n",
    "- External economic factors such as the Great Recession also affects the airline industry.\n",
    "\n",
    "---\n",
    "#### Diverging bar plot - Departing Passengers per month\n",
    "The other way we used the data for number of departing passengers from Danish airports was by aggregating it by taking the mean across months. With this method we gained a 20-year mean for each month illustrating the seasonal changes of air travel. \n",
    "**Key Insights:**\n",
    "- It appears that Danes mostly fly during the summer months. This does make sense as it coincides with the vacation season. \n",
    "- We had hypothesized that other months—such as February, due to winter break in week 7, or December, due to holiday travel to visit family—would show increased travel activity. However, these trends were not clearly evident in the data or the visualization.\n",
    "---\n",
    "#### Waffel Chart - Reasons for holidays abroad\n",
    "The data from VisitDenmark was very important as it gave insights into the more qualitative aspects of the Danish travel patterns. Among these were the reasons for travelling abroad compared to staying in Denmark. The data was analyzed with different plots but we ended up deciding on the waffel chart as it provides an overview and is easy to compare sizes of the different categories.  \n",
    "**Key Insights:**\n",
    "- Danes are actively choosing what the world beyond has to offer both culturally and nature-wise.\n",
    "- Some Danes see limitations in the Danish weather and the feeling of everyday-life. \n",
    "\n",
    "---\n",
    "#### Treemap - Popular Destinations\n",
    "The data from Statistics Denmark was cleaned and we selected 2023 as it offered the most complete dataset. We chose not to include another map-based visualization, as it was already well represented by our comprehensive interactive \"tool\" map. However, we still needed a way to highlight the hierarchical structure of travel destinations — particularly the preference for Europe and southern countries. A treemap was well suited for this purpose, and Plotly provided much of the functionality required to create it.\n",
    "\n",
    "**Key Insights:**\n",
    "- Clear preference towards Europe\n",
    "- Spain is the unrivaled favourite!\n",
    "- Asia is the second most visited continent by Danes. \n",
    "---\n",
    "#### Horizontal Stacked Bar Chart - Activities\n",
    "The data from VisitDenmark for this visualization was more descriptive, as people were asked about their typical vacation activities. It made sense to approach this in terms of proportions, so we decided to use two horizontal stacked bar charts to allow for easy comparisons between vacation activities abroad and those in Denmark.\n",
    "\n",
    "**Key Insights:**\n",
    "- Danes appear more culturally engaged when abroad. \n",
    "- Leisure and entertainment-focused activities are more common when vacationing in Denmark.\n",
    "---"
   ]
  },
  {
   "cell_type": "markdown",
   "id": "7b74728f",
   "metadata": {},
   "source": [
    "## 4. Genre. \n",
    "\n",
    "### Which genre of data story did you use?\n",
    "\n",
    "For this project, we chose a magazine-style approach with interactive elements. This genre works well because it combines guided storytelling with user exploration, which is perfect for a topic like tourism where people have different interests and questions. Additionally, the website was designed such that we were able to use scrollytelling. Scrollytelling is a narrative technique where elements appear or change as the reader scrolls, which let's us guide users through the visualization and present the findings in the most natural order.\n",
    "\n",
    "### Which tools did you use from each of the 3 categories of Visual Narrative (Figure 7 in Segal and Heer). Why?\n",
    "We incorporated a variety of tools from all three categories of the Visual Narrative framework from Figure 7. These will be discussed below:\n",
    "\n",
    "**Visual Structuring**\n",
    "- *Establishing shot*. Our website lacks a strong establishing shot in the traditional sense. It does not explicitly guide the user’s attention upon first view. This is likely because of our consistent (but restrictive) design and layout across the site. One could argue that instead of a single establishing shot, we guide users using other techniques like interactivity, scrollytelling and visual consistency.\n",
    " \n",
    "- *Consistent Visual Platform* is one of the most prominently used techniques on our site. For example, the radar plot allows users to switch between categories while keeping the visual layout intact. Similarly, the interactive map changes content when different categories are selected, but its styling remains consistent. The vertical stacked bar chart comparing travel abroad vs. travel within Denmark also maintains consistent visual encoding across the datasets. This uniformity ensures users stay oriented and find transitions intuitive and visually coherent.\n",
    "\n",
    "- *Progress bar* is not used much throughout our visualization but the animated bubble chart includes a timeline slider, essentially functioning as a progress bar. This allows users to control the temporal dimension and explore trends year by year, especially if they are interested in a specific time point.\n",
    "\n",
    "- *Checklist structures* appear in the interactive map, where users can see available categories and revisit previous ones. This helps users understand the scope of the content and track what they've already explored.\n",
    "\n",
    "**Highlighting**\n",
    "- *Close-Ups* exist in several of the visualization, such as the map, treemap, and bubble chart, as they are interactive by standard. This allows users to zoom in or click for detailed information which supports deeper exploration and personalization of the data experience. The functionalities discussed here also covers the *Zooming* tool. \n",
    "\n",
    "- *Feature Distinction* refers to how we visually separate or emphasize key data elements. It is primarily done using color and/or size and is both used on a visualization level and on a website level.\n",
    "\n",
    "- *Additional highlights* includes the change of background colour in our line plot. Here the COVID-19 period is highlighted to explain and emphasize the reason for the sudden drop in the graph. In the bubble plot we track Denmark's position throughtout the years aligning with our focus on Denmark.\n",
    "\n",
    "**Transition guide**\n",
    "- *Viewer (Camera) Motion* is relevant in relation to our scrollytelling where the view moves through the visual space. As mentioned before this enables us to guide the user through our visualization. \n",
    "\n",
    "- *Object Continuity* is extremely incorporated into our website: We maintain structural consistency across all web pages through object continuity. For instance, each page starts with a recognizable setup — a title, a key image, and boxes with key insights. This repetition reinforces user expectations and aids navigation.\n",
    "\n",
    "- *Animated Transitions* is used in the animated bubble chart where we incorporates transitions between years, simulating a stop-motion effect. This makes temporal changes more intuitive and visually engaging, helping users perceive trends as continuous and natural.\n",
    "\n",
    "### Which tools did you use from each of the 3 categories of Narrative Structure (Figure 7 in Segal and Heer). Why?\n",
    "\n",
    "**Ordering**\n",
    "- *User-Directed*: Our website structure is user-directed. Visitors are free to select among several different pages, each focusing on a specific thematic area. However, this freedom is still framed within a semi-linear flow — users are not navigating randomly, but through a list of themes ordered accordingly.\n",
    "\n",
    "- *Linear*: Once a user selects a page, the structure shifts toward a linear, author-driven narrative, via scrollytelling. As users scroll down the page, visualizations and text are revealed in a pre-defined sequence. This allows us to guide users through the \"story\", where each step builds on the previous one.\n",
    "\n",
    "- We would argue that this hybrid approach balances exploration and narrative control: The user chooses what to explore, and we guide them through the content once inside.\n",
    "\n",
    "**Interactivity**\n",
    "- *Hover Highlighting / Details* is a core interactive feature across most of our visualizations. For example, users can hover over elements and graphs to obtain extra information. This enables the user to understand the specific data point and does not require the user to be skilled at reading graph values.\n",
    "\n",
    "- *Filtering / Selection / Search* plays an important role in simplifying complexity. In visualizations such as the radar plot or interactive map, users can select specific categories or groups. This allows them to focus on what's relevant, enhancing personalization and interpretability.\n",
    "\n",
    "- *Navigation Buttons* have been limited to a minimum ensuring the user only transition to new pages when needed and preserving a clean layout. In visualizations, where buttons are necessary (e.g. to change views or datasets), they are clearly labeled and placed at the top of the visuals to avoid disrupting the user’s flow.\n",
    "\n",
    "- *Explicit Instruction* is offered for more complex plots such as the vertical stacked bar plot where the user can shift between datasets or the interactive map where the toggle functionality is explained. \n",
    "\n",
    "- *Stimulating Default Views*. We made thoughtful choices in what is displayed by default in the visualizations with several views. In the interactive map, we default to Cost of Living, a topic of wide interest. In the radar plot, we show spending habits across socioeconomic groups, anticipating user curiosity around inequality and financial priorities. These default views act as strong entry points, inviting users into the data without overwhelming them.\n",
    "\n",
    "**Stimulating**\n",
    "- *Captions / Headlines* Each section of our pages is accompanied by headings and subheadings that explain the purpose of the visual or section. These headlines help orient users and convey the main message quickly. We have sometimes used alliteration and titles that rhymes just to make it more engaging to read. \n",
    "\n",
    "- *Annotations* are included to draw attention to key data points or explain anomalies. For example, highlighting the COVID-19 period in the line plot. This guides interpretation and emphasizes important trends.\n",
    "\n",
    "- *Accompanying Article* is naturally integrates via our magazine style format as narrative text are placed alongside visual. This is critical for tying visual evidence to real-world implications and for storytelling.\n",
    "\n",
    "- *Multi-Messaging* happens in our website by combining headlines, tooltips, annotations, and visual design resulting in communication on multiple layers of meaning. For example, users can understand trends at a glance and dive deeper with hover features or narrative text.\n",
    "\n",
    "- *Introductory Text* is what most of the pages begin with. It sets the context and the stage for the data. This includes background information, the main theme being explored, and what the user should expect.\n",
    "- *Summary / Synthesis* are provided as conclusion boxes at the end of some visual sections, summarising insights and helping users understand the bigger picture."
   ]
  },
  {
   "cell_type": "markdown",
   "id": "fcded2a1",
   "metadata": {},
   "source": [
    "## 5. Visualizations\n",
    "\n",
    "The visualization are categorized by page and will be explained briefly. We aimed to explore the topic from every possible angle by addressing all the key questions (who, why, how, which, and when) related to Danes’ travel patterns.\n",
    "\n",
    "**Danish Travel DNA: How and Where We Spend**\n",
    "\n",
    "For demographic analysis, we created three radar charts comparing spending patterns across socioeconomic groups, age ranges, and regions. All three use normalized scales to ensure fair comparison between categories like package holidays, restaurants, and accommodation. The color coding remains consistent to make patterns easier to spot. These charts reveal how different Danish demographics approach travel spending in an intuitive format that shows relative proportions clearly.\n",
    "\n",
    "The bubble chart shows Denmark's tourism journey from 1996 to 2019, with GDP on a log scale on the x-axis and tourism departures per capita on the y-axis. The bubble size represents population, and the animation progresses year by year. We marked Denmark with a star to make it easy to follow throughout the animation. This visualization was chosen because it shows Denmark's relative position in global tourism evolution - you can see how we've grown compared to other countries while our economy has developed.\n",
    "\n",
    "**Exploring the World: Recommendations for Danish Travelers**\n",
    "\n",
    "The choropleth map displays eight different metrics that influence destination choices. Users can switch between factors like cost of living, safety, temperature, and CO2 emissions. Each country is color-coded based on the selected metric, and hovering reveals detailed data. We added restaurant markers for major European cities to provide local context. This map enables direct comparison of potential destinations across multiple factors, making the decision-making process transparent for travelers.\n",
    "\n",
    "The correlation heatmap shows relationships between all destination factors. It uses a red-blue color scale where red indicates negative correlation and blue shows positive. All correlation values are displayed numerically for precision. This visualization provides quantitative evidence for what influences destination preferences, supporting data-driven decision making.\n",
    "\n",
    "**Danes on Planes**\n",
    "\n",
    "The vertical stacked bar charts tells the story of how Danish vacationers choose their modes of transport over time, both domestically and for international travel. This type of visualization allows for a clear year-by-year comparison while showing the contributions of each transport mode. The interactivity of choosing ”destination” enhances the storytelling of showing how much preferences shift depending on the destination. \n",
    "\n",
    "The line plot illustrates the development in the number of departing passengers from Danish commercial airports over time from 2001-2024. Line plots are particularly well-suited for time series data, and in this case, the visualization effectively captures the overall long-term growth, the sharp disruption caused by COVID-19, and the recurring seasonal patterns.\n",
    "\n",
    "The diverging bar chart visualizes the monthly variation in departing passengers from Danish airports by showing deviations from the annual average (an average across 20 years). This format and colouring (resulting in a visual contrast) highlights the seasonal travel patterns, making it easy to see which months consistently experience higher or lower passenger volumes.\n",
    "\n",
    "**Beyond Borders**\n",
    "\n",
    "The waffle chart is used here to visualize the reasons Danes choose to vacation outside of Denmark. Each square in the grid represents 1% of the respondents and the colours represent each of the reason for traveling abroad. This format is particularly effective for showing proportional data in a visually engaging and easily comparable way. With the small amount of chartjunk we reduce the data-ink ratio. However, the upside is a stronger narrative story given by visually reinforcing the theme of traveling.\n",
    "\n",
    "The treemap is used here to visualize the distribution of Danish holiday destinations abroad, grouped by continent and country. This type of chart is ideal for showing proportional relationships within a hierarchy, making it easy to compare the relative popularity of different countries as travel destinations while being relatively compact. We wanted the hierarchical structure as we wanted to show Europe’s dominance as the most popular tourism continent for Danes. \n",
    "\n",
    "This stacked horizontal bar chart compares the distribution of holiday activities between Danes travelling domestically and internationally. This type of visualization was chosen as it  effectively shows proportional differences across categories. It is especially strong in this side-by-side format which allows the user to spot where the activity categories align or diverge.\n",
    "\n",
    "To summaries we have answered many of the questions, we wanted, related to Danes’ travel patterns:\n",
    "\n",
    "| Question | Visualization Type                     | Answer                                                                 |\n",
    "|----------|----------------------------------------|--------------------------------------------------------------------------------------|\n",
    "| **Where?** | Choropleth Map                         | Empowers users to select destinations based on different factors                     |\n",
    "|          | Treemap                                | Shows the popularity of travel destinations among Danes                              |\n",
    "| **When?** | Bubble Chart                            | Shows Denmark and many other countries' tourism and GDP growth over time             |\n",
    "|          | Line Plot                               | Visualizes long-term trends and disruptions in air travel                            |\n",
    "|          | Diverging Bar Chart                     | Highlights seasonal travel patterns                                                  |\n",
    "| **How?**  | Stacked Bar Charts                      | Illustrates how transport preferences shift by destination                           |\n",
    "| **Which?**| Stacked Horizontal Bar Chart            | Compares holiday activities at home vs. abroad                                       |\n",
    "| **Why?**  | Waffle Chart                            | Visualizes reasons Danes travel abroad                                               |\n",
    "| **Who?**  | Radar Charts                            | Reveal demographic differences in travel spending                                    |\n"
   ]
  },
  {
   "cell_type": "markdown",
   "id": "b8add655",
   "metadata": {},
   "source": [
    "## 6. Discussion. Think critically about your creation\n",
    "\n",
    "**What went well?**\n",
    "\n",
    "We believe that the project has a comprehensive coverage of the subject, a strong and clear narrative and a variety of both static, interactive and animated visualizations. Throughout the project, we have tried to be mindful about applying the principles and tools introduced by Segal and Heer (and discussed earlier), but using them appropriately rather than forcing them into every visualization. We think that the magazine-style works well as our visualizations and the accompanying text together tell a strong story. We have tried to implement the techniques and skills gathered throughout the course and are overall happy with the result.\n",
    "\n",
    "**What could be improved?**\n",
    "\n",
    "We appreciated the feedback from the video session and made efforts to identify more individual-level behavior. However, this proved to be extremely difficult due to the lack of registries or data sources containing this type of information on Danes' travel patterns. We believe that access to less aggregated data could have provided valuable additional insights for the project.\n",
    "\n",
    "We could have decided on a less rigid design for our website in order to maximize our *Establishing shot* but we believe this could be at the cost of the consistency and narrative structure that the design provided. "
   ]
  },
  {
   "cell_type": "markdown",
   "id": "1ea2b9fa",
   "metadata": {},
   "source": [
    "## 7. Contributions. Who did what?\n",
    "| Parts                            | Primary responsibility |\n",
    "|----------------------------------|------------------------|\n",
    "| Section 1                        | Oscar                  |\n",
    "| Section 2                        | Oscar                  |\n",
    "| Section 3                        | Clara                  |\n",
    "| Section 4                        | Clara                  |\n",
    "| Section 5                        | Both equally           |\n",
    "| Page \"Danish Travel DNA [...]\"   | Oscar                  |\n",
    "| Page \"Danes on Planes\"           | Clara                  |\n",
    "| Page \"Exploring the World [...]\" | Oscar                  |\n",
    "| Page \"Beyond Borders\"            | Clara                  |"
   ]
  },
  {
   "cell_type": "markdown",
   "id": "f481ae23",
   "metadata": {},
   "source": [
    "### References\n",
    "- Statistics Denmark. (n.d.). Danish tourism statistics: Socioeconomic (FU14), regional (FU17), age (FU18). Statistikbanken. Retrieved from https://www.statistikbanken.dk/statbank5a/SelectVarVal/Define.asp?MainTable=FU14&PLanguage=0&PXSId=0&wsid=cftree\n",
    "\n",
    "- Statistics Denmark. (n.d.). Transport data: Modes of transportation (FF3), departing passengers (FLYV92). Retrieved from https://www.statistikbanken.dk/ff3\n",
    "\n",
    "- Statistics Denmark. (n.d.). Destination data: Vacations per country (FF1). Retrieved from https://www.statistikbanken.dk/statbank5a/SelectVarVal/Define.asp?MainTable=FF1&PLanguage=0&PXSId=0&wsid=cftree\n",
    "\n",
    "- World Bank Group. (n.d.). DataBank data. Retrieved from https://databank.worldbank.org/id/7ad54403\n",
    "\n",
    "- Beneschi, D. (February 27, 2018). TripAdvisor restaurants (31 European cities) [Data set]. Kaggle. Retrieved from https://www.kaggle.com/datasets/damienbeneschi/krakow-ta-restaurans-data-raw/code\n",
    "\n",
    "- Reguerin, N.. (2023). Global Peace Index (GPI) [Data set]. Kaggle. Retrieved from https://www.kaggle.com/datasets/natalyreguerin/global-peace-index-gpi\n",
    "\n",
    "- Numbeo. (n.d.). Cost of living index by country. Retrieved from https://www.numbeo.com/cost-of-living/rankings_by_country.jsp\n",
    "\n",
    "- Palinatx (n.d.). Mean temperature for countries by year (2014–2022) [Data set]. Kaggle. Retrieved from https://www.kaggle.com/datasets/palinatx/mean-temperature-for-countries-by-year-2014-2022?select=combined_temperature.csv\n",
    "\n",
    "- Sydow, B., et al.(n.d.). Flight Emission Map. Retrieved from https://flightemissionmap.org/#Copenhagen/55.67,12.57/127/20000\n",
    "\n",
    "- VisitDenmark. (2024). Image- og potentialeanalyse for Danmark 2024. Retrieved from https://www.visitdenmark.dk/sites/visitdenmark.com/files/2024-07/Image%20og%20potentialeanalyse%20for%20Danmark%202024.pdf"
   ]
  },
  {
   "cell_type": "markdown",
   "id": "4eb93aca",
   "metadata": {},
   "source": [
    "# CODE"
   ]
  },
  {
   "cell_type": "markdown",
   "id": "594b2e43",
   "metadata": {},
   "source": [
    "## Beyond Borders"
   ]
  },
  {
   "cell_type": "markdown",
   "id": "e1dc1813",
   "metadata": {},
   "source": [
    "### Waffle Chart"
   ]
  },
  {
   "cell_type": "code",
   "execution_count": 23,
   "id": "c9455423",
   "metadata": {},
   "outputs": [],
   "source": [
    "# Imports\n",
    "import pandas as pd\n",
    "from pywaffle import Waffle\n",
    "import matplotlib.pyplot as plt\n",
    "import matplotlib.cm as cm\n",
    "from matplotlib.colors import rgb2hex"
   ]
  },
  {
   "cell_type": "code",
   "execution_count": 24,
   "id": "18b9705f",
   "metadata": {},
   "outputs": [],
   "source": [
    "# Read data\n",
    "data = pd.read_csv('../data/reasons.csv')"
   ]
  },
  {
   "cell_type": "code",
   "execution_count": 25,
   "id": "eda10961",
   "metadata": {},
   "outputs": [],
   "source": [
    "# Preprocessing\n",
    "reason_translation = {\n",
    "    \"Andet\": \"Other\",\n",
    "    \"Jeg ved ikke rigtig, hvad der er at se i Danmark\": \"I don't really know what there is to see in Denmark\",\n",
    "    \"Jeg har besøgt venner eller familie i udlandet\": \"I have visited friends or family abroad\",\n",
    "    \"Jeg foretrækker at holde ferie andre steder end Danmark\": \"I prefer to vacation elsewhere than Denmark\",\n",
    "    \"Jeg vil gerne opleve nye smagsoplevelser i mine ferier, og som jeg ikke kan få i Danmark\": \"I want to experience new tastes in my vacations that I can't get in Denmark\",\n",
    "    \"Jeg får mere værdi for pengene ved at holde ferie i udlandet\": \"I get more value for money by vacationing abroad\",\n",
    "    \"Det var tilfældigt, at jeg ikke holdt ferie i Danmark\": \"It was by chance that I didn't vacation in Denmark\",\n",
    "    \"Det minder for meget om hverdagen at holde ferie i Danmark\": \"It feels too much like everyday life to vacation in Denmark\",\n",
    "    \"Jeg vil gerne opleve en anden natur, end den der er i Danmark\": \"I want to experience a different nature than what's in Denmark\",\n",
    "    \"Vejret i Danmark er for ustadigt – der er fx ingen sol- eller varmegaranti om sommeren\": \"The weather in Denmark is too unstable\",\n",
    "    \"Jeg vil gerne opleve en anden kultur i mine ferier\": \"I want to experience a different culture in my vacations\"\n",
    "}\n",
    "\n",
    "data['Reason'] = data['Begrundelse'].map(reason_translation)\n",
    "data = data[['Reason', 'Proportion']]\n",
    "data = data.sort_values(by='Proportion', ascending=False)"
   ]
  },
  {
   "cell_type": "code",
   "execution_count": null,
   "id": "15293f1c",
   "metadata": {},
   "outputs": [],
   "source": [
    "# Plot\n",
    "total_blocks = 100\n",
    "data['Values'] = (data['Proportion'] * total_blocks).astype(int)\n",
    "\n",
    "# Create dictionary for plotting\n",
    "waffle_data = dict(zip(data['Reason'], data['Values']))\n",
    "\n",
    "# Generate a muted color palette using a matplotlib colormap\n",
    "# Let's use 'Set2' which is a nice soft, muted categorical palette\n",
    "tab20 = cm.get_cmap('tab20')\n",
    "desired_indices = [0, 12, 5, 2, 1, 6, 8, 4, 13, 11, 10]\n",
    "colors = [rgb2hex(tab20(i / 19)) for i in desired_indices]\n",
    "\n",
    "\n",
    "# Plotting the Waffle Chart\n",
    "plt.figure(\n",
    "    figsize=(20, 10),\n",
    "    FigureClass=Waffle,\n",
    "    rows=8,  # 4 rows of blocks\n",
    "    columns=13,  # 25 columns of blocks\n",
    "    values=waffle_data,\n",
    "    colors=colors,  # Applying muted colors to the waffle blocks\n",
    "    legend={'bbox_to_anchor': (1.1, -0.1), 'ncol': 2, 'fontsize':12},  # Position the legend outside the chart\n",
    ")\n",
    "plt.tight_layout()\n",
    "plt.title('Reasons for going on holidays outside of Denmark', fontsize=18, fontweight='bold', pad=20)\n",
    "plt.savefig('../assets_own/images/vacation_reason.png')\n",
    "plt.show()"
   ]
  },
  {
   "cell_type": "markdown",
   "id": "674f3f01",
   "metadata": {},
   "source": [
    "### Treemap"
   ]
  },
  {
   "cell_type": "code",
   "execution_count": 27,
   "id": "3ef6d360",
   "metadata": {},
   "outputs": [],
   "source": [
    "# Imports\n",
    "import pandas as pd\n",
    "import pandas as pd\n",
    "import plotly.express as px"
   ]
  },
  {
   "cell_type": "code",
   "execution_count": 28,
   "id": "bfdb8d5c",
   "metadata": {},
   "outputs": [],
   "source": [
    "# Read data\n",
    "data = pd.read_csv('../data/destinations.csv', sep=';', header=None).iloc[:,1:]"
   ]
  },
  {
   "cell_type": "code",
   "execution_count": 29,
   "id": "451360f4",
   "metadata": {},
   "outputs": [],
   "source": [
    "# Preprocessing\n",
    "years = [f'20{i:02d}' for i in range(1, 24)]\n",
    "data.columns = ['Lande'] + years\n",
    "\n",
    "country_mapping = {\n",
    "    'Belgien': 'Belgium',\n",
    "    'Bulgarien': 'Bulgaria',\n",
    "    'Cypern': 'Cyprus',\n",
    "    'Estland': 'Estonia',\n",
    "    'Finland': 'Finland',\n",
    "    'Frankrig': 'France',\n",
    "    'Færøerne': 'Faroe Islands',\n",
    "    'Grækenland': 'Greece',\n",
    "    'Grønland': 'Greenland',\n",
    "    'Irland': 'Ireland',\n",
    "    'Island': 'Iceland',\n",
    "    'Italien': 'Italy',\n",
    "    'Letland': 'Latvia',\n",
    "    'Litauen': 'Lithuania',\n",
    "    'Luxembourg': 'Luxembourg',\n",
    "    'Malta': 'Malta',\n",
    "    'Nederlandene': 'Netherlands',\n",
    "    'Polen': 'Poland',\n",
    "    'Portugal': 'Portugal',\n",
    "    'Rumænien': 'Romania',\n",
    "    'Rusland': 'Russia',\n",
    "    'Schweiz': 'Switzerland',\n",
    "    'Slovakiet': 'Slovakia',\n",
    "    'Slovenien': 'Slovenia',\n",
    "    'Spanien': 'Spain',\n",
    "    'Storbritannien': 'UK',\n",
    "    'Sverige': 'Sweden',\n",
    "    'Norge': 'Norway',\n",
    "    'Tjekkiet': 'Czech Republic',\n",
    "    'Tyrkiet': 'Turkey',\n",
    "    'Tyskland': 'Germany',\n",
    "    'Ukraine': 'Ukraine',\n",
    "    'Ungarn': 'Hungary',\n",
    "    'Østrig': 'Austria',\n",
    "    'Europa i øvrigt': 'Other Europe',\n",
    "    'Sydafrika': 'South Africa',\n",
    "    'Afrika uden Sydafrika': 'Other Africa',\n",
    "    'Brasilien': 'Brazil',\n",
    "    'Canada': 'Canada',\n",
    "    'USA': 'USA',\n",
    "    'Syd- og Mellemamerika uden Brasilien': 'Other South America',\n",
    "    'Indien': 'India',\n",
    "    'Japan': 'Japan',\n",
    "    'Kina': 'China',\n",
    "    'Sydkorea': 'South Korea',\n",
    "    'Thailand': 'Thailand',\n",
    "    'Asien uden Kina, Japan, Sydkorea, Indien og Thailand': 'Other Asia',\n",
    "    'Australien': 'Australia',\n",
    "    'Oceanien uden Australien': 'Oceania excluding Australia',\n",
    "    'Uoplyst land': 'Unspecified country'\n",
    "}\n",
    "\n",
    "data['Country'] = data['Lande'].map(country_mapping)\n",
    "\n",
    "continent_mapping = {\n",
    "    # Europe\n",
    "    'Belgium': 'Europe', 'Bulgaria': 'Europe', 'Cyprus': 'Europe',\n",
    "    'Estonia': 'Europe', 'Finland': 'Europe', 'France': 'Europe',\n",
    "    'Faroe Islands': 'Europe', 'Greece': 'Europe', 'Greenland': 'Europe',  \n",
    "    'Ireland': 'Europe', 'Iceland': 'Europe', 'Italy': 'Europe',\n",
    "    'Latvia': 'Europe', 'Lithuania': 'Europe', 'Luxembourg': 'Europe',\n",
    "    'Malta': 'Europe', 'Netherlands': 'Europe', 'Poland': 'Europe',\n",
    "    'Portugal': 'Europe', 'Romania': 'Europe', 'Russia': 'Asia',  \n",
    "    'Switzerland': 'Europe', 'Slovakia': 'Europe', 'Slovenia': 'Europe',\n",
    "    'Spain': 'Europe', 'UK': 'Europe', 'Sweden': 'Europe',\n",
    "    'Norway': 'Europe', 'Czech Republic': 'Europe', 'Turkey': 'Europe',  \n",
    "    'Germany': 'Europe', 'Ukraine': 'Europe', 'Hungary': 'Europe',\n",
    "    'Austria': 'Europe', 'Other Europe': 'Europe',\n",
    "    \n",
    "    # Africa\n",
    "    'South Africa': 'Africa', 'Other Africa': 'Africa',\n",
    "    \n",
    "    # Americas\n",
    "    'Brazil': 'South America', 'Canada': 'North America', 'USA': 'North America',\n",
    "    'Other South America': 'South America',\n",
    "    \n",
    "    # Asia\n",
    "    'India': 'Asia', 'Japan': 'Asia', 'China': 'Asia',\n",
    "    'South Korea': 'Asia', 'Thailand': 'Asia',\n",
    "    'Other Asia': 'Asia',\n",
    "    \n",
    "    # Oceania\n",
    "    'Australia': 'Oceania', 'Oceania excluding Australia': 'Oceania',\n",
    "    \n",
    "    # Other\n",
    "    'Unspecified country': 'Unknown'\n",
    "}\n",
    "\n",
    "data['Continent'] = data['Country'].map(continent_mapping)"
   ]
  },
  {
   "cell_type": "code",
   "execution_count": 30,
   "id": "0e7ee910",
   "metadata": {},
   "outputs": [],
   "source": [
    "# Color mapping\n",
    "color_discrete_map = {\n",
    "    # Europe\n",
    "    '(?)': 'lightgrey',\n",
    "    'Belgium': '#b9a394',        # dusty cocoa\n",
    "    'Bulgaria': '#c9bca0',       # pale sand\n",
    "    'Cyprus': '#d3a87c',         # dusty apricot\n",
    "    'Estonia': '#8da7c4',        # muted steel blue\n",
    "    'Finland': '#9eb1c9',        # soft arctic blue\n",
    "    'France': '#748cab',         # dusty blue\n",
    "    'Faroe Islands': '#8ea9b8',  # cool grey blue\n",
    "    'Greece': '#7a9eab',         # sea slate\n",
    "    'Greenland': '#d9c8b4',      # icy beige\n",
    "    'Ireland': '#a2b29f',        # sage green\n",
    "    'Iceland': '#b5c2bc',        # dusty teal\n",
    "    'Italy': '#a09998',          # dusty olive\n",
    "    'Latvia': '#a47160',         # muted russet\n",
    "    'Lithuania': '#bba77e',      # faded ochre\n",
    "    'Luxembourg': '#bfb8af',     # light ash\n",
    "    'Malta': '#b4a19e',          # muted coral grey\n",
    "    'Netherlands': '#c98474',    # dusty orange\n",
    "    'Poland': '#c4a69f',         # pale rosewood\n",
    "    'Portugal': '#d0826a',       # terracotta blush\n",
    "    'Romania': '#c4b499',        # dusty parchment\n",
    "    'Russia': '#949e9e',         # grey frost (Asia)\n",
    "    'Switzerland': '#c56c6c',    # faded alpine red\n",
    "    'Slovakia': '#b6b9c1',       # muted blue-grey\n",
    "    'Slovenia': '#bfb6a3',       # stone beige\n",
    "    'Spain': '#c05a5a',          # dusty red\n",
    "    'UK': '#7e8b99',             # foggy navy\n",
    "    'Sweden': '#a3b4a2',         # forest mist\n",
    "    'Norway': '#9ba8aa',         # pine grey\n",
    "    'Czech Republic': '#a89888', # dusty taupe\n",
    "    'Turkey': '#c67f7f',         # faded terracotta\n",
    "    'Germany': '#9e8c88',        # muted brown-grey\n",
    "    'Ukraine': '#d0b562',        # wheat gold\n",
    "    'Hungary': '#a78277',        # soft brick\n",
    "    'Austria': '#c7a49c',        # faded blush\n",
    "    'Other Europe': '#d6c8bb',   # light beige\n",
    "\n",
    "    # Africa\n",
    "    'South Africa': '#998f7b',       # earthy khaki\n",
    "    'Other Africa': '#c6bfa2',       # dry savanna\n",
    "\n",
    "    # Americas\n",
    "    'Brazil': '#86a96f',             # dusty green\n",
    "    'Canada': '#a16b5a',             # faded maple\n",
    "    'USA': '#7a8690',                # grey denim\n",
    "    'Other South America': '#b68265',# sunset clay\n",
    "\n",
    "    # Asia\n",
    "    'India': '#c29c5d',              # saffron dust\n",
    "    'Japan': '#a68c94',              # muted sakura\n",
    "    'China': '#b27c6d',              # dusty rose\n",
    "    'South Korea': '#8ca0a5',        # cloudy grey-blue\n",
    "    'Thailand': '#bda188',           # sepia cream\n",
    "    'Other Asia': '#cabba5',         # parchment\n",
    "\n",
    "    # Oceania\n",
    "    'Australia': '#b29e8e',          # outback clay\n",
    "    'Oceania excluding Australia': '#c2b39c',  # pale tan\n",
    "}\n",
    "color_discrete_map.update({\n",
    "    'Italy': '#8aa786',         # dusty green (reflecting the green in the flag)\n",
    "    'Norway': '#a05c63',        # muted red (flag-based, still subdued)\n",
    "    'Sweden': '#cbb458',        # dusty yellow (flag's yellow in a muted tone)\n",
    "    'Thailand': '#a184a2',      # dusty purple (aesthetic-friendly alternative)\n",
    "    'Japan': '#c16868',         # soft red (evokes the red sun, in a dusty hue)\n",
    "})\n",
    "\n",
    "data = data[['Country', 'Continent'] + years]\n",
    "data = data.replace('..', 0)\n",
    "data[years] = data[years].astype(int)"
   ]
  },
  {
   "cell_type": "code",
   "execution_count": null,
   "id": "8b795433",
   "metadata": {},
   "outputs": [],
   "source": [
    "# Plot\n",
    "fig = px.treemap(\n",
    "    data, \n",
    "    path=['Continent', 'Country'], \n",
    "    values='2023',\n",
    "    color='Country',\n",
    "    color_discrete_map=color_discrete_map\n",
    ")\n",
    "\n",
    "ids = fig.data[0]['ids']\n",
    "labels = fig.data[0]['labels']\n",
    "country_to_value = dict(zip(data['Country'], data['2023']))\n",
    "\n",
    "# Construct hovertemplate per tile\n",
    "hovertemplate = []\n",
    "for label, id_ in zip(labels, ids):\n",
    "    if '/' in id_:  # country node\n",
    "        val = country_to_value.get(label, \"\")\n",
    "        hovertemplate.append(f\"<b>{label}</b><br>Proportion of total vacations: {val}%<extra></extra>\")\n",
    "    else:  # continent or root node\n",
    "        hovertemplate.append(None)  # disables hover\n",
    "\n",
    "fig.update_traces(\n",
    "    hovertemplate=hovertemplate,\n",
    ")\n",
    "\n",
    "fig.update_layout(\n",
    "    title=\"Danes' Vacation Destinations by Country and Continent (2023)\"\n",
    ")\n",
    "\n",
    "fig.write_html(\"../assets_own/destinations_treemap.html\")\n",
    "fig.show()"
   ]
  },
  {
   "cell_type": "markdown",
   "id": "e9043633",
   "metadata": {},
   "source": [
    "### Horizontal Stacked Bar Plot"
   ]
  },
  {
   "cell_type": "code",
   "execution_count": 32,
   "id": "daa2b901",
   "metadata": {},
   "outputs": [],
   "source": [
    "# Imports\n",
    "import pandas as pd\n",
    "import plotly.graph_objects as go\n",
    "import plotly.colors as pc"
   ]
  },
  {
   "cell_type": "code",
   "execution_count": 33,
   "id": "5989f841",
   "metadata": {},
   "outputs": [],
   "source": [
    "# Read data\n",
    "data = pd.read_csv('../data/activities.csv')"
   ]
  },
  {
   "cell_type": "code",
   "execution_count": 34,
   "id": "b8d7c90b",
   "metadata": {},
   "outputs": [],
   "source": [
    "# Preprocessing\n",
    "df = pd.DataFrame(data)\n",
    "df['Denmark'] = df['Proportion DK'] / df['Proportion DK'].sum()\n",
    "df['World'] = df['Proportion World'] / df['Proportion World'].sum()"
   ]
  },
  {
   "cell_type": "code",
   "execution_count": 35,
   "id": "56c7311f",
   "metadata": {},
   "outputs": [],
   "source": [
    "# Colors\n",
    "colors = pc.qualitative.Prism\n",
    "while len(colors) < len(df):  # Repeat colors if not enough\n",
    "    colors += colors"
   ]
  },
  {
   "cell_type": "code",
   "execution_count": 36,
   "id": "871042f5",
   "metadata": {},
   "outputs": [
    {
     "data": {
      "application/vnd.plotly.v1+json": {
       "config": {
        "plotlyServerURL": "https://plot.ly"
       },
       "data": [
        {
         "hovertemplate": "<b>Historical attractions, buildings and sights</b><br>Popularity: %{x:.0%}<extra></extra>",
         "marker": {
          "color": "rgb(95, 70, 144)"
         },
         "name": "Historical attractions, buildings and sights",
         "orientation": "h",
         "type": "bar",
         "x": [
          0.2151162790697674,
          0.29120879120879123
         ],
         "y": [
          "Denmark",
          "World"
         ]
        },
        {
         "hovertemplate": "<b>Museums and exhibitions</b><br>Popularity: %{x:.0%}<extra></extra>",
         "marker": {
          "color": "rgb(29, 105, 150)"
         },
         "name": "Museums and exhibitions",
         "orientation": "h",
         "type": "bar",
         "x": [
          0.18604651162790695,
          0.18681318681318682
         ],
         "y": [
          "Denmark",
          "World"
         ]
        },
        {
         "hovertemplate": "<b>Experience centers and amusement parks</b><br>Popularity: %{x:.0%}<extra></extra>",
         "marker": {
          "color": "rgb(56, 166, 165)"
         },
         "name": "Experience centers and amusement parks",
         "orientation": "h",
         "type": "bar",
         "x": [
          0.10465116279069765,
          0.04945054945054945
         ],
         "y": [
          "Denmark",
          "World"
         ]
        },
        {
         "hovertemplate": "<b>Animal parks, zoos and aquariums</b><br>Popularity: %{x:.0%}<extra></extra>",
         "marker": {
          "color": "rgb(15, 133, 84)"
         },
         "name": "Animal parks, zoos and aquariums",
         "orientation": "h",
         "type": "bar",
         "x": [
          0.09883720930232558,
          0.04945054945054945
         ],
         "y": [
          "Denmark",
          "World"
         ]
        },
        {
         "hovertemplate": "<b>Local food experiences at markets or festivals etc.</b><br>Popularity: %{x:.0%}<extra></extra>",
         "marker": {
          "color": "rgb(115, 175, 72)"
         },
         "name": "Local food experiences at markets or festivals etc.",
         "orientation": "h",
         "type": "bar",
         "x": [
          0.08720930232558138,
          0.1813186813186813
         ],
         "y": [
          "Denmark",
          "World"
         ]
        },
        {
         "hovertemplate": "<b>Water parks</b><br>Popularity: %{x:.0%}<extra></extra>",
         "marker": {
          "color": "rgb(237, 173, 8)"
         },
         "name": "Water parks",
         "orientation": "h",
         "type": "bar",
         "x": [
          0.06395348837209301,
          0.038461538461538464
         ],
         "y": [
          "Denmark",
          "World"
         ]
        },
        {
         "hovertemplate": "<b>Concerts, music festivals or theater performances</b><br>Popularity: %{x:.0%}<extra></extra>",
         "marker": {
          "color": "rgb(225, 124, 5)"
         },
         "name": "Concerts, music festivals or theater performances",
         "orientation": "h",
         "type": "bar",
         "x": [
          0.04069767441860465,
          0.03296703296703297
         ],
         "y": [
          "Denmark",
          "World"
         ]
        },
        {
         "hovertemplate": "<b>Other</b><br>Popularity: %{x:.0%}<extra></extra>",
         "marker": {
          "color": "rgb(204, 80, 62)"
         },
         "name": "Other",
         "orientation": "h",
         "type": "bar",
         "x": [
          0.03488372093023255,
          0.04395604395604395
         ],
         "y": [
          "Denmark",
          "World"
         ]
        },
        {
         "hovertemplate": "<b>Sports events</b><br>Popularity: %{x:.0%}<extra></extra>",
         "marker": {
          "color": "rgb(148, 52, 110)"
         },
         "name": "Sports events",
         "orientation": "h",
         "type": "bar",
         "x": [
          0.017441860465116275,
          0.021978021978021976
         ],
         "y": [
          "Denmark",
          "World"
         ]
        },
        {
         "hovertemplate": "<b>Don't know</b><br>Popularity: %{x:.0%}<extra></extra>",
         "marker": {
          "color": "rgb(111, 64, 112)"
         },
         "name": "Don't know",
         "orientation": "h",
         "type": "bar",
         "x": [
          0.011627906976744184,
          0.005494505494505494
         ],
         "y": [
          "Denmark",
          "World"
         ]
        },
        {
         "hovertemplate": "<b>None of the above</b><br>Popularity: %{x:.0%}<extra></extra>",
         "marker": {
          "color": "rgb(102, 102, 102)"
         },
         "name": "None of the above",
         "orientation": "h",
         "type": "bar",
         "x": [
          0.1395348837209302,
          0.0989010989010989
         ],
         "y": [
          "Denmark",
          "World"
         ]
        }
       ],
       "layout": {
        "barmode": "stack",
        "height": 600,
        "showlegend": false,
        "template": {
         "data": {
          "bar": [
           {
            "error_x": {
             "color": "#2a3f5f"
            },
            "error_y": {
             "color": "#2a3f5f"
            },
            "marker": {
             "line": {
              "color": "#E5ECF6",
              "width": 0.5
             },
             "pattern": {
              "fillmode": "overlay",
              "size": 10,
              "solidity": 0.2
             }
            },
            "type": "bar"
           }
          ],
          "barpolar": [
           {
            "marker": {
             "line": {
              "color": "#E5ECF6",
              "width": 0.5
             },
             "pattern": {
              "fillmode": "overlay",
              "size": 10,
              "solidity": 0.2
             }
            },
            "type": "barpolar"
           }
          ],
          "carpet": [
           {
            "aaxis": {
             "endlinecolor": "#2a3f5f",
             "gridcolor": "white",
             "linecolor": "white",
             "minorgridcolor": "white",
             "startlinecolor": "#2a3f5f"
            },
            "baxis": {
             "endlinecolor": "#2a3f5f",
             "gridcolor": "white",
             "linecolor": "white",
             "minorgridcolor": "white",
             "startlinecolor": "#2a3f5f"
            },
            "type": "carpet"
           }
          ],
          "choropleth": [
           {
            "colorbar": {
             "outlinewidth": 0,
             "ticks": ""
            },
            "type": "choropleth"
           }
          ],
          "contour": [
           {
            "colorbar": {
             "outlinewidth": 0,
             "ticks": ""
            },
            "colorscale": [
             [
              0,
              "#0d0887"
             ],
             [
              0.1111111111111111,
              "#46039f"
             ],
             [
              0.2222222222222222,
              "#7201a8"
             ],
             [
              0.3333333333333333,
              "#9c179e"
             ],
             [
              0.4444444444444444,
              "#bd3786"
             ],
             [
              0.5555555555555556,
              "#d8576b"
             ],
             [
              0.6666666666666666,
              "#ed7953"
             ],
             [
              0.7777777777777778,
              "#fb9f3a"
             ],
             [
              0.8888888888888888,
              "#fdca26"
             ],
             [
              1,
              "#f0f921"
             ]
            ],
            "type": "contour"
           }
          ],
          "contourcarpet": [
           {
            "colorbar": {
             "outlinewidth": 0,
             "ticks": ""
            },
            "type": "contourcarpet"
           }
          ],
          "heatmap": [
           {
            "colorbar": {
             "outlinewidth": 0,
             "ticks": ""
            },
            "colorscale": [
             [
              0,
              "#0d0887"
             ],
             [
              0.1111111111111111,
              "#46039f"
             ],
             [
              0.2222222222222222,
              "#7201a8"
             ],
             [
              0.3333333333333333,
              "#9c179e"
             ],
             [
              0.4444444444444444,
              "#bd3786"
             ],
             [
              0.5555555555555556,
              "#d8576b"
             ],
             [
              0.6666666666666666,
              "#ed7953"
             ],
             [
              0.7777777777777778,
              "#fb9f3a"
             ],
             [
              0.8888888888888888,
              "#fdca26"
             ],
             [
              1,
              "#f0f921"
             ]
            ],
            "type": "heatmap"
           }
          ],
          "histogram": [
           {
            "marker": {
             "pattern": {
              "fillmode": "overlay",
              "size": 10,
              "solidity": 0.2
             }
            },
            "type": "histogram"
           }
          ],
          "histogram2d": [
           {
            "colorbar": {
             "outlinewidth": 0,
             "ticks": ""
            },
            "colorscale": [
             [
              0,
              "#0d0887"
             ],
             [
              0.1111111111111111,
              "#46039f"
             ],
             [
              0.2222222222222222,
              "#7201a8"
             ],
             [
              0.3333333333333333,
              "#9c179e"
             ],
             [
              0.4444444444444444,
              "#bd3786"
             ],
             [
              0.5555555555555556,
              "#d8576b"
             ],
             [
              0.6666666666666666,
              "#ed7953"
             ],
             [
              0.7777777777777778,
              "#fb9f3a"
             ],
             [
              0.8888888888888888,
              "#fdca26"
             ],
             [
              1,
              "#f0f921"
             ]
            ],
            "type": "histogram2d"
           }
          ],
          "histogram2dcontour": [
           {
            "colorbar": {
             "outlinewidth": 0,
             "ticks": ""
            },
            "colorscale": [
             [
              0,
              "#0d0887"
             ],
             [
              0.1111111111111111,
              "#46039f"
             ],
             [
              0.2222222222222222,
              "#7201a8"
             ],
             [
              0.3333333333333333,
              "#9c179e"
             ],
             [
              0.4444444444444444,
              "#bd3786"
             ],
             [
              0.5555555555555556,
              "#d8576b"
             ],
             [
              0.6666666666666666,
              "#ed7953"
             ],
             [
              0.7777777777777778,
              "#fb9f3a"
             ],
             [
              0.8888888888888888,
              "#fdca26"
             ],
             [
              1,
              "#f0f921"
             ]
            ],
            "type": "histogram2dcontour"
           }
          ],
          "mesh3d": [
           {
            "colorbar": {
             "outlinewidth": 0,
             "ticks": ""
            },
            "type": "mesh3d"
           }
          ],
          "parcoords": [
           {
            "line": {
             "colorbar": {
              "outlinewidth": 0,
              "ticks": ""
             }
            },
            "type": "parcoords"
           }
          ],
          "pie": [
           {
            "automargin": true,
            "type": "pie"
           }
          ],
          "scatter": [
           {
            "fillpattern": {
             "fillmode": "overlay",
             "size": 10,
             "solidity": 0.2
            },
            "type": "scatter"
           }
          ],
          "scatter3d": [
           {
            "line": {
             "colorbar": {
              "outlinewidth": 0,
              "ticks": ""
             }
            },
            "marker": {
             "colorbar": {
              "outlinewidth": 0,
              "ticks": ""
             }
            },
            "type": "scatter3d"
           }
          ],
          "scattercarpet": [
           {
            "marker": {
             "colorbar": {
              "outlinewidth": 0,
              "ticks": ""
             }
            },
            "type": "scattercarpet"
           }
          ],
          "scattergeo": [
           {
            "marker": {
             "colorbar": {
              "outlinewidth": 0,
              "ticks": ""
             }
            },
            "type": "scattergeo"
           }
          ],
          "scattergl": [
           {
            "marker": {
             "colorbar": {
              "outlinewidth": 0,
              "ticks": ""
             }
            },
            "type": "scattergl"
           }
          ],
          "scattermap": [
           {
            "marker": {
             "colorbar": {
              "outlinewidth": 0,
              "ticks": ""
             }
            },
            "type": "scattermap"
           }
          ],
          "scattermapbox": [
           {
            "marker": {
             "colorbar": {
              "outlinewidth": 0,
              "ticks": ""
             }
            },
            "type": "scattermapbox"
           }
          ],
          "scatterpolar": [
           {
            "marker": {
             "colorbar": {
              "outlinewidth": 0,
              "ticks": ""
             }
            },
            "type": "scatterpolar"
           }
          ],
          "scatterpolargl": [
           {
            "marker": {
             "colorbar": {
              "outlinewidth": 0,
              "ticks": ""
             }
            },
            "type": "scatterpolargl"
           }
          ],
          "scatterternary": [
           {
            "marker": {
             "colorbar": {
              "outlinewidth": 0,
              "ticks": ""
             }
            },
            "type": "scatterternary"
           }
          ],
          "surface": [
           {
            "colorbar": {
             "outlinewidth": 0,
             "ticks": ""
            },
            "colorscale": [
             [
              0,
              "#0d0887"
             ],
             [
              0.1111111111111111,
              "#46039f"
             ],
             [
              0.2222222222222222,
              "#7201a8"
             ],
             [
              0.3333333333333333,
              "#9c179e"
             ],
             [
              0.4444444444444444,
              "#bd3786"
             ],
             [
              0.5555555555555556,
              "#d8576b"
             ],
             [
              0.6666666666666666,
              "#ed7953"
             ],
             [
              0.7777777777777778,
              "#fb9f3a"
             ],
             [
              0.8888888888888888,
              "#fdca26"
             ],
             [
              1,
              "#f0f921"
             ]
            ],
            "type": "surface"
           }
          ],
          "table": [
           {
            "cells": {
             "fill": {
              "color": "#EBF0F8"
             },
             "line": {
              "color": "white"
             }
            },
            "header": {
             "fill": {
              "color": "#C8D4E3"
             },
             "line": {
              "color": "white"
             }
            },
            "type": "table"
           }
          ]
         },
         "layout": {
          "annotationdefaults": {
           "arrowcolor": "#2a3f5f",
           "arrowhead": 0,
           "arrowwidth": 1
          },
          "autotypenumbers": "strict",
          "coloraxis": {
           "colorbar": {
            "outlinewidth": 0,
            "ticks": ""
           }
          },
          "colorscale": {
           "diverging": [
            [
             0,
             "#8e0152"
            ],
            [
             0.1,
             "#c51b7d"
            ],
            [
             0.2,
             "#de77ae"
            ],
            [
             0.3,
             "#f1b6da"
            ],
            [
             0.4,
             "#fde0ef"
            ],
            [
             0.5,
             "#f7f7f7"
            ],
            [
             0.6,
             "#e6f5d0"
            ],
            [
             0.7,
             "#b8e186"
            ],
            [
             0.8,
             "#7fbc41"
            ],
            [
             0.9,
             "#4d9221"
            ],
            [
             1,
             "#276419"
            ]
           ],
           "sequential": [
            [
             0,
             "#0d0887"
            ],
            [
             0.1111111111111111,
             "#46039f"
            ],
            [
             0.2222222222222222,
             "#7201a8"
            ],
            [
             0.3333333333333333,
             "#9c179e"
            ],
            [
             0.4444444444444444,
             "#bd3786"
            ],
            [
             0.5555555555555556,
             "#d8576b"
            ],
            [
             0.6666666666666666,
             "#ed7953"
            ],
            [
             0.7777777777777778,
             "#fb9f3a"
            ],
            [
             0.8888888888888888,
             "#fdca26"
            ],
            [
             1,
             "#f0f921"
            ]
           ],
           "sequentialminus": [
            [
             0,
             "#0d0887"
            ],
            [
             0.1111111111111111,
             "#46039f"
            ],
            [
             0.2222222222222222,
             "#7201a8"
            ],
            [
             0.3333333333333333,
             "#9c179e"
            ],
            [
             0.4444444444444444,
             "#bd3786"
            ],
            [
             0.5555555555555556,
             "#d8576b"
            ],
            [
             0.6666666666666666,
             "#ed7953"
            ],
            [
             0.7777777777777778,
             "#fb9f3a"
            ],
            [
             0.8888888888888888,
             "#fdca26"
            ],
            [
             1,
             "#f0f921"
            ]
           ]
          },
          "colorway": [
           "#636efa",
           "#EF553B",
           "#00cc96",
           "#ab63fa",
           "#FFA15A",
           "#19d3f3",
           "#FF6692",
           "#B6E880",
           "#FF97FF",
           "#FECB52"
          ],
          "font": {
           "color": "#2a3f5f"
          },
          "geo": {
           "bgcolor": "white",
           "lakecolor": "white",
           "landcolor": "#E5ECF6",
           "showlakes": true,
           "showland": true,
           "subunitcolor": "white"
          },
          "hoverlabel": {
           "align": "left"
          },
          "hovermode": "closest",
          "mapbox": {
           "style": "light"
          },
          "paper_bgcolor": "white",
          "plot_bgcolor": "#E5ECF6",
          "polar": {
           "angularaxis": {
            "gridcolor": "white",
            "linecolor": "white",
            "ticks": ""
           },
           "bgcolor": "#E5ECF6",
           "radialaxis": {
            "gridcolor": "white",
            "linecolor": "white",
            "ticks": ""
           }
          },
          "scene": {
           "xaxis": {
            "backgroundcolor": "#E5ECF6",
            "gridcolor": "white",
            "gridwidth": 2,
            "linecolor": "white",
            "showbackground": true,
            "ticks": "",
            "zerolinecolor": "white"
           },
           "yaxis": {
            "backgroundcolor": "#E5ECF6",
            "gridcolor": "white",
            "gridwidth": 2,
            "linecolor": "white",
            "showbackground": true,
            "ticks": "",
            "zerolinecolor": "white"
           },
           "zaxis": {
            "backgroundcolor": "#E5ECF6",
            "gridcolor": "white",
            "gridwidth": 2,
            "linecolor": "white",
            "showbackground": true,
            "ticks": "",
            "zerolinecolor": "white"
           }
          },
          "shapedefaults": {
           "line": {
            "color": "#2a3f5f"
           }
          },
          "ternary": {
           "aaxis": {
            "gridcolor": "white",
            "linecolor": "white",
            "ticks": ""
           },
           "baxis": {
            "gridcolor": "white",
            "linecolor": "white",
            "ticks": ""
           },
           "bgcolor": "#E5ECF6",
           "caxis": {
            "gridcolor": "white",
            "linecolor": "white",
            "ticks": ""
           }
          },
          "title": {
           "x": 0.05
          },
          "xaxis": {
           "automargin": true,
           "gridcolor": "white",
           "linecolor": "white",
           "ticks": "",
           "title": {
            "standoff": 15
           },
           "zerolinecolor": "white",
           "zerolinewidth": 2
          },
          "yaxis": {
           "automargin": true,
           "gridcolor": "white",
           "linecolor": "white",
           "ticks": "",
           "title": {
            "standoff": 15
           },
           "zerolinecolor": "white",
           "zerolinewidth": 2
          }
         }
        },
        "title": {
         "text": "Holiday Activities: Denmark vs. World"
        },
        "xaxis": {
         "tickformat": ".0%",
         "title": {
          "text": "Proportion"
         }
        },
        "yaxis": {
         "categoryarray": [
          "Denmark",
          "World"
         ],
         "categoryorder": "array"
        }
       }
      }
     },
     "metadata": {},
     "output_type": "display_data"
    }
   ],
   "source": [
    "# Plot\n",
    "fig = go.Figure()\n",
    "\n",
    "# Add a bar for each category\n",
    "for i, row in df.iterrows():\n",
    "    fig.add_trace(go.Bar(\n",
    "        y=['Denmark', 'World'],\n",
    "        x=[row['Denmark'], row['World']],\n",
    "        name=row['Category'],\n",
    "        orientation='h',\n",
    "        marker_color=colors[i],\n",
    "        hovertemplate=f\"<b>{row['Category']}</b><br>Popularity: %{{x:.0%}}<extra></extra>\"\n",
    "    ))\n",
    "\n",
    "# Update layout\n",
    "fig.update_layout(\n",
    "    barmode='stack',\n",
    "    title='Holiday Activities: Denmark vs. World',\n",
    "    xaxis=dict(title='Proportion', tickformat='.0%'),\n",
    "    yaxis=dict(categoryorder='array', categoryarray=['Denmark', 'World']),\n",
    "    showlegend=False,\n",
    "    height=600\n",
    ")\n",
    "fig.write_html(\"../assets_own/activities_proportions.html\", full_html=False, include_plotlyjs='cdn')\n",
    "fig.show()"
   ]
  },
  {
   "cell_type": "markdown",
   "id": "ae0143dd",
   "metadata": {},
   "source": [
    "## Danish Travel DNA: How and Where We Spend"
   ]
  },
  {
   "cell_type": "markdown",
   "id": "aa93cf22",
   "metadata": {},
   "source": [
    "### Danish Travel Spending Patterns"
   ]
  },
  {
   "cell_type": "code",
   "execution_count": null,
   "id": "14b3a3e4",
   "metadata": {},
   "outputs": [],
   "source": [
    "import pandas as pd\n",
    "import numpy as np\n",
    "import os\n",
    "import json\n",
    "\n",
    "# Make sure the output directory exists\n",
    "# This directory will store the generated HTML file\n",
    "os.makedirs('../assets', exist_ok=True)\n",
    "\n",
    "# Load data from CSV files\n",
    "# Assuming these files are located in a 'data' directory one level up from the script\n",
    "try:\n",
    "    socioeconomic = pd.read_csv('../data/socioeconomic.csv')\n",
    "    consumption = pd.read_csv('../data/Consumption.csv')\n",
    "    regions = pd.read_csv('../data/Region.csv')\n",
    "except FileNotFoundError as e:\n",
    "    print(f\"Error loading data file: {e}\")\n",
    "    print(\"Please ensure 'socioeconomic.csv', 'Consumption.csv', and 'Region.csv' are in the '../data/' directory.\")\n",
    "    # In a real script, you might handle this more gracefully, but for this example, we'll exit\n",
    "    exit()\n",
    "\n",
    "# Define translations for Danish to English socioeconomic statuses\n",
    "# This is used for clearer labeling in the radar charts\n",
    "socio_translations = {\n",
    "    \"Gennemsnitshusstand\": \"Average Household\",\n",
    "    \"Selvstændig\": \"Self-employed\",\n",
    "    \"Lønmodtager på højeste niveau\": \"High Income\",\n",
    "    \"Lønmodtager på mellemniveau\": \"Medium Income\",\n",
    "    \"Lønmodtager på grundniveau\": \"Basic Income\",\n",
    "    \"Arbejdsløs\": \"Unemployed\",\n",
    "    \"Uddannelsessøgende\": \"Student\",\n",
    "    \"Pensionist, efterlønsmodtager\": \"Pensioner\",\n",
    "    \"Ude af erhverv i øvrigt\": \"Not in Workforce\"\n",
    "}\n",
    "\n",
    "# Clean and process socioeconomic data\n",
    "# Renaming columns and adding a translated group column\n",
    "socio_df = socioeconomic.copy()\n",
    "socio_df.columns = [col.strip() for col in socio_df.columns] # Remove leading/trailing whitespace from column names\n",
    "socio_df = socio_df.rename(columns={\n",
    "    'Socioøkonomisk status': 'Group',\n",
    "    '09.8 Pakkerejser': 'Packages',\n",
    "    '11.1 Restaurationstjenester': 'Restaurants',\n",
    "    '11.2 Overnatningsfaciliteter': 'Accommodation'\n",
    "})\n",
    "\n",
    "# Add translated names\n",
    "socio_df['Group_EN'] = socio_df['Group'].map(socio_translations)\n",
    "\n",
    "# Handle any remaining NaN values\n",
    "socio_df = socio_df.dropna(subset=['Group_EN'])  # Remove rows where Group_EN is NaN\n",
    "\n",
    "# Calculate total spending\n",
    "socio_df['Total'] = socio_df['Packages'] + socio_df['Restaurants'] + socio_df['Accommodation']\n",
    "\n",
    "# Process consumption/age data\n",
    "age_df = consumption.copy()\n",
    "# Find the exact column names containing 'Package Holidays - Fixed Prices', etc.\n",
    "try:\n",
    "    package_col_age = [col for col in age_df.columns if 'Package Holidays - Fixed Prices' in col][0]\n",
    "    restaurant_col_age = [col for col in age_df.columns if 'Restaurant Services - Fixed Prices' in col][0]\n",
    "    accommodation_col_age = [col for col in age_df.columns if 'Accommodation Services - Fixed Prices' in col][0]\n",
    "except IndexError:\n",
    "    print(\"Error: Could not find expected 'Fixed Prices' columns in Consumption.csv.\")\n",
    "    print(\"Please check column names like 'Package Holidays - Fixed Prices'.\")\n",
    "    exit()\n",
    "\n",
    "age_df = age_df.rename(columns={\n",
    "    package_col_age: 'Packages',\n",
    "    restaurant_col_age: 'Restaurants',\n",
    "    accommodation_col_age: 'Accommodation',\n",
    "    'AGE': 'Age Group' # Assuming 'AGE' is the column for age groups\n",
    "})\n",
    "age_df['Total'] = age_df['Packages'] + age_df['Restaurants'] + age_df['Accommodation'] # Calculate total spending\n",
    "\n",
    "# Process region data\n",
    "region_df = regions.copy()\n",
    "# Find the exact column names containing 'Package Holidays - Fixed Prices', etc.\n",
    "try:\n",
    "    package_col_region = [col for col in region_df.columns if 'Package Holidays - Fixed Prices' in col][0]\n",
    "    restaurant_col_region = [col for col in region_df.columns if 'Restaurant Services - Fixed Prices' in col][0]\n",
    "    accommodation_col_region = [col for col in region_df.columns if 'Accommodation Services - Fixed Prices' in col][0]\n",
    "except IndexError:\n",
    "    print(\"Error: Could not find expected 'Fixed Prices' columns in Region.csv.\")\n",
    "    print(\"Please check column names like 'Package Holidays - Fixed Prices'.\")\n",
    "    exit()\n",
    "\n",
    "region_df = region_df.rename(columns={\n",
    "    package_col_region: 'Packages',\n",
    "    restaurant_col_region: 'Restaurants',\n",
    "    accommodation_col_region: 'Accommodation',\n",
    "    'REGION': 'Region' # Assuming 'REGION' is the column for regions\n",
    "})\n",
    "region_df['Total'] = region_df['Packages'] + region_df['Restaurants'] + region_df['Accommodation'] # Calculate total spending\n",
    "\n",
    "# Define vibrant colors for each spending category\n",
    "category_colors = {\n",
    "    'Packages': '#9b59b6',       # Amethyst (Vibrant Purple)\n",
    "    'Restaurants': '#2ecc71',      # Emerald (Vibrant Green)\n",
    "    'Accommodation': '#f1c40f'    # Sunflower (Vibrant Yellow)\n",
    "}\n",
    "\n",
    "# Define ENGLISH labels for the legend\n",
    "english_labels = {\n",
    "    'Packages': 'Package Holidays',\n",
    "    'Restaurants': 'Restaurants',\n",
    "    'Accommodation': 'Accommodation'\n",
    "}\n",
    "\n",
    "# Fixed maximum value for scaling\n",
    "fixed_max = 25000\n",
    "\n",
    "# Function to prepare data for Chart.js format\n",
    "def prepare_chart_data(df, group_col, display_col=None):\n",
    "    if display_col is None:\n",
    "        display_col = group_col\n",
    "\n",
    "    # Get the list of groups\n",
    "    groups = df[display_col].tolist()\n",
    "\n",
    "    # Prepare datasets for each category\n",
    "    datasets = []\n",
    "\n",
    "    # Create dataset for Restaurants (will be at bottom layer with lower opacity)\n",
    "    restaurants_values = df['Restaurants'].tolist()\n",
    "    restaurants_dataset = {\n",
    "        'label': english_labels['Restaurants'],\n",
    "        'data': restaurants_values,\n",
    "        'backgroundColor': 'rgba(46, 204, 113, 0.5)',   # Green with medium opacity\n",
    "        'borderColor': '#2ecc71',\n",
    "        'borderWidth': 2,\n",
    "        'pointBackgroundColor': '#2ecc71',\n",
    "        'pointBorderColor': '#fff',\n",
    "        'pointHoverBackgroundColor': '#fff',\n",
    "        'pointHoverBorderColor': '#2ecc71',\n",
    "        'order': 3   # Higher number = drawn first (bottom layer)\n",
    "    }\n",
    "    datasets.append(restaurants_dataset)\n",
    "\n",
    "    # Create dataset for Packages (will be middle layer)\n",
    "    packages_values = df['Packages'].tolist()\n",
    "    packages_dataset = {\n",
    "        'label': english_labels['Packages'],\n",
    "        'data': packages_values,\n",
    "        'backgroundColor': 'rgba(155, 89, 182, 0.6)',   # Purple with higher opacity\n",
    "        'borderColor': '#9b59b6',\n",
    "        'borderWidth': 2,\n",
    "        'pointBackgroundColor': '#9b59b6',\n",
    "        'pointBorderColor': '#fff',\n",
    "        'pointHoverBackgroundColor': '#fff',\n",
    "        'pointHoverBorderColor': '#9b59b6',\n",
    "        'order': 2   # Middle layer\n",
    "    }\n",
    "    datasets.append(packages_dataset)\n",
    "\n",
    "    # Create dataset for Accommodation (will be top layer with highest opacity)\n",
    "    accommodation_values = df['Accommodation'].tolist()\n",
    "    accommodation_dataset = {\n",
    "        'label': english_labels['Accommodation'],\n",
    "        'data': accommodation_values,\n",
    "        'backgroundColor': 'rgba(241, 196, 15, 0.61)',   # Yellow with highest opacity\n",
    "        'borderColor': '#f1c40f',\n",
    "        'borderWidth': 2,\n",
    "        'pointBackgroundColor': '#f1c40f',\n",
    "        'pointBorderColor': '#fff',\n",
    "        'pointHoverBackgroundColor': '#fff',\n",
    "        'pointHoverBorderColor': '#f1c40f',\n",
    "        'order': 1   # Lower number = drawn last (top layer)\n",
    "    }\n",
    "    datasets.append(accommodation_dataset)\n",
    "\n",
    "    return {\n",
    "        'labels': groups,\n",
    "        'datasets': datasets\n",
    "    }\n",
    "\n",
    "# Prepare data for each chart\n",
    "socioeconomic_data = prepare_chart_data(socio_df, 'Group', 'Group_EN')\n",
    "age_data = prepare_chart_data(age_df, 'Age Group')\n",
    "region_data = prepare_chart_data(region_df, 'Region')\n",
    "\n",
    "# Create a dictionary with all chart data\n",
    "chart_data = {\n",
    "    'socioeconomic': socioeconomic_data,\n",
    "    'age': age_data,\n",
    "    'region': region_data\n",
    "}\n",
    "\n",
    "# Convert to JSON for use in the HTML\n",
    "chart_data_json = json.dumps(chart_data)\n",
    "\n",
    "# Create HTML template for the interactive radar chart\n",
    "html_template = '''<!DOCTYPE html>\n",
    "<html lang=\"en\">\n",
    "<head>\n",
    "    <meta charset=\"UTF-8\">\n",
    "    <meta name=\"viewport\" content=\"width=device-width, initial-scale=1.0, maximum-scale=1.0, user-scalable=no\">\n",
    "    <title>Danish Travel Spending Patterns</title>\n",
    "    <script src=\"https://cdnjs.cloudflare.com/ajax/libs/Chart.js/3.9.1/chart.min.js\"></script>\n",
    "    <style>\n",
    "        /* Ensure html and body fill the iframe and hide overflow */\n",
    "        html, body {\n",
    "            height: 100%; /* Makes html and body take 100% of iframe's height */\n",
    "            width: 100%;\n",
    "            margin: 0;\n",
    "            padding: 0;\n",
    "            overflow: hidden; /* Hides any scrollbars within the iframe */\n",
    "        }\n",
    "        body {\n",
    "            font-family: 'Segoe UI', Tahoma, Geneva, Verdana, sans-serif;\n",
    "            padding: 0;\n",
    "            background-color: transparent;\n",
    "\n",
    "            /* Flexbox for vertical layout */\n",
    "            display: flex;\n",
    "            flex-direction: column;\n",
    "        }\n",
    "        .chart-container {\n",
    "            position: relative;\n",
    "            width: 100%;\n",
    "            margin: 0 auto; /* Centers horizontally if width is less than 100%, but width is 100% here */\n",
    "            background-color: white;\n",
    "            padding: 0;\n",
    "            overflow: hidden; /* Keep for internal canvas overflow */\n",
    "\n",
    "            /* Flexbox for remaining space */\n",
    "            flex-grow: 1; /* Allows it to take up all available vertical space */\n",
    "            min-height: 0; /* Crucial for flex items to shrink and prevent overflow */\n",
    "        }\n",
    "        /* Ensure fixed height elements don't cause overflow by not shrinking */\n",
    "        h1, .subtitle, .tab-container {\n",
    "            flex-shrink: 0; /* Prevents these elements from shrinking */\n",
    "        }\n",
    "\n",
    "        /* Original styles for aesthetic elements */\n",
    "        h1 {\n",
    "            text-align: center;\n",
    "            color: #333;\n",
    "            margin: 10px 0;\n",
    "        }\n",
    "        .subtitle {\n",
    "            text-align: center;\n",
    "            color: #666;\n",
    "            margin-bottom: 10px;\n",
    "            font-style: italic;\n",
    "        }\n",
    "        .tab-container {\n",
    "            display: flex;\n",
    "            justify-content: center;\n",
    "            margin-bottom: 20px;\n",
    "        }\n",
    "        .tab {\n",
    "            padding: 12px 24px;\n",
    "            background-color: #e0e0e0;\n",
    "            border: none;\n",
    "            cursor: pointer;\n",
    "            font-size: 16px;\n",
    "            font-weight: 500;\n",
    "            transition: all 0.3s ease;\n",
    "            border-radius: 4px;\n",
    "            margin: 0 8px;\n",
    "        }\n",
    "        .tab.active {\n",
    "            background-color: #3498db;\n",
    "            color: white;\n",
    "            box-shadow: 0 2px 8px rgba(52, 152, 219, 0.4);\n",
    "        }\n",
    "        .tab:hover:not(.active) {\n",
    "            background-color: #d0d0d0;\n",
    "        }\n",
    "        /* Canvas sizing within chart-container */\n",
    "        canvas {\n",
    "            display: block; /* Ensures no extra space below the canvas */\n",
    "            width: 100%; /* Chart.js responsive will adapt to parent width */\n",
    "            height: 100%; /* Chart.js responsive will adapt to parent height */\n",
    "        }\n",
    "        @media (max-width: 768px) {\n",
    "            .tab {\n",
    "                padding: 8px 16px;\n",
    "                font-size: 14px;\n",
    "            }\n",
    "        }\n",
    "    </style>\n",
    "</head>\n",
    "<body>\n",
    "    <h1>Danish Travel Spending Patterns</h1>\n",
    "    <p class=\"subtitle\">Explore how different Danish demographics allocate their travel budgets</p>\n",
    "\n",
    "    <div class=\"tab-container\">\n",
    "        <button class=\"tab active\" data-category=\"socioeconomic\">Socioeconomic Groups</button>\n",
    "        <button class=\"tab\" data-category=\"age\">Age Groups</button>\n",
    "        <button class=\"tab\" data-category=\"region\">Regions</button>\n",
    "    </div>\n",
    "\n",
    "    <div class=\"chart-container\">\n",
    "        <canvas id=\"radarChart\"></canvas>\n",
    "    </div>\n",
    "\n",
    "    <script>\n",
    "        // Store chart instance for updating\n",
    "        let radarChart;\n",
    "\n",
    "        // Chart data from Python\n",
    "        const chartData = CHART_DATA_PLACEHOLDER;\n",
    "\n",
    "        // Fixed maximum value for scaling\n",
    "        const fixedMaxValue = 25000;\n",
    "\n",
    "        // Chart configuration\n",
    "        const config = {\n",
    "            type: 'radar',\n",
    "            data: chartData.socioeconomic, // Initial dataset\n",
    "            options: {\n",
    "                responsive: true,\n",
    "                maintainAspectRatio: false,\n",
    "                plugins: {\n",
    "                    legend: {\n",
    "                        position: 'top',\n",
    "                        reverse: true, // Reverse legend order to match visual order\n",
    "                        labels: {\n",
    "                            font: {\n",
    "                                size: 14\n",
    "                            },\n",
    "                            padding: 20\n",
    "                        }\n",
    "                    },\n",
    "                    title: {\n",
    "                        display: true,\n",
    "                        text: 'Socioeconomic Groups: Travel Spending Distribution',\n",
    "                        font: {\n",
    "                            size: 18,\n",
    "                            weight: 'bold'\n",
    "                        },\n",
    "                        padding: {\n",
    "                            top: 10,\n",
    "                            bottom: 30\n",
    "                        }\n",
    "                    },\n",
    "                    tooltip: {\n",
    "                        callbacks: {\n",
    "                            label: function(context) {\n",
    "                                return ` ${context.dataset.label}: ${context.raw.toFixed(2)}`; // Display raw consumption value\n",
    "                            }\n",
    "                        }\n",
    "                    }\n",
    "                },\n",
    "                scales: {\n",
    "                    r: {\n",
    "                        angleLines: {\n",
    "                            color: '#cccccc'\n",
    "                        },\n",
    "                        grid: {\n",
    "                            color: '#cccccc'\n",
    "                        },\n",
    "                        pointLabels: {\n",
    "                            font: {\n",
    "                                size: 14\n",
    "                            },\n",
    "                            color: '#555555'\n",
    "                        },\n",
    "                        ticks: {\n",
    "                            backdropColor: 'transparent',\n",
    "                            color: '#777777',\n",
    "                            showLabelBackdrop: false,\n",
    "                            font: {\n",
    "                                size: 10\n",
    "                            },\n",
    "                            callback: function(value) {\n",
    "                                return value.toFixed(0); // Format ticks as whole numbers\n",
    "                            },\n",
    "                            max: fixedMaxValue, // Set the fixed maximum value for the scale\n",
    "                            min: 0,\n",
    "                            stepSize: 5000 // Optional: Add step size for better readability\n",
    "                        },\n",
    "                        suggestedMin: 0,\n",
    "                        suggestedMax: fixedMaxValue // Ensure suggested max is also set\n",
    "                    }\n",
    "                },\n",
    "                elements: {\n",
    "                    line: {\n",
    "                        tension: 0.1 // Smoother lines\n",
    "                    }\n",
    "                }\n",
    "            }\n",
    "        };\n",
    "\n",
    "        // Initialize the chart\n",
    "        window.onload = function() {\n",
    "            const ctx = document.getElementById('radarChart').getContext('2d');\n",
    "            radarChart = new Chart(ctx, config);\n",
    "\n",
    "            // Add event listeners to tabs using data attributes\n",
    "            document.querySelectorAll('.tab').forEach(tab => {\n",
    "                tab.addEventListener('click', function() {\n",
    "                    const category = this.getAttribute('data-category');\n",
    "                    showChart(category);\n",
    "                });\n",
    "            });\n",
    "        };\n",
    "\n",
    "        // Function to switch between datasets\n",
    "        function showChart(category) {\n",
    "            const titles = {\n",
    "                socioeconomic: 'Socioeconomic Groups: Travel Spending Distribution',\n",
    "                age: 'Age Groups: Travel Spending Distribution',\n",
    "                region: 'Regions: Travel Spending Distribution'\n",
    "            };\n",
    "\n",
    "            // Update chart data\n",
    "            radarChart.data = chartData[category];\n",
    "\n",
    "            // Update chart title\n",
    "            radarChart.options.plugins.title.text = titles[category];\n",
    "\n",
    "            // Update the scale's max and suggestedMax when switching charts\n",
    "            radarChart.options.scales.r.max = fixedMaxValue;\n",
    "            radarChart.options.scales.r.suggestedMax = fixedMaxValue;\n",
    "\n",
    "            // Update chart\n",
    "            radarChart.update();\n",
    "\n",
    "            // Update active tab\n",
    "            document.querySelectorAll('.tab').forEach(tab => {\n",
    "                if (tab.getAttribute('data-category') === category) {\n",
    "                    tab.classList.add('active');\n",
    "                } else {\n",
    "                    tab.classList.remove('active');\n",
    "                }\n",
    "            });\n",
    "        }\n",
    "    </script>\n",
    "</body>\n",
    "</html>\n",
    "'''\n",
    "\n",
    "# Replace the placeholder with the actual JSON data\n",
    "html_content = html_template.replace('CHART_DATA_PLACEHOLDER', chart_data_json)\n",
    "\n",
    "# Write the HTML to a file\n",
    "output_file = '../assets/danish_travel_radar_interactive.html'\n",
    "with open(output_file, 'w', encoding='utf-8') as f:\n",
    "    f.write(html_content)\n",
    "\n",
    "# show the radar plot wihtout the need for a web serverin the note\n",
    "webbrowser.open('file://' + os.path.realpath(output_file))\n",
    "\n",
    "\n",
    "\n",
    "print(f\"Interactive radar visualization created successfully and optimized for web fit with consistent scaling up to {fixed_max} at '{output_file}'!\")"
   ]
  },
  {
   "cell_type": "markdown",
   "id": "5fe773fc",
   "metadata": {},
   "source": [
    "### Denmark's Tourism Position in Global Context (Interactive Bubble Plot)"
   ]
  },
  {
   "cell_type": "code",
   "execution_count": null,
   "id": "67ecef09",
   "metadata": {},
   "outputs": [],
   "source": [
    "import pandas as pd\n",
    "import numpy as np\n",
    "import plotly.graph_objects as go\n",
    "import os\n",
    "\n",
    "\n",
    "# Make sure the output directory exists\n",
    "# Assuming you run this from a script in a 'scripts' folder, and 'data' and 'assets' are siblings\n",
    "os.makedirs('../assets', exist_ok=True)\n",
    "data_file_path = '../data/bubble_plot.csv' # Ensure this path is correct\n",
    "\n",
    "# Load the data\n",
    "try:\n",
    "    df = pd.read_csv(data_file_path)\n",
    "except FileNotFoundError:\n",
    "    print(f\"Error: The data file was not found at {data_file_path}\")\n",
    "    print(\"Please ensure the path to 'bubble_plot.csv' is correct.\")\n",
    "    exit()\n",
    "\n",
    "# Clean the data\n",
    "df['GDP'] = pd.to_numeric(df['GDP, PPP (current international $) [NY.GDP.MKTP.PP.CD]'].str.replace(',', ''), errors='coerce')\n",
    "df['Population'] = pd.to_numeric(df['Population, total [SP.POP.TOTL]'], errors='coerce')\n",
    "df['Departures'] = pd.to_numeric(df['International tourism, number of departures [ST.INT.DPRT]'].str.replace(',', ''), errors='coerce')\n",
    "df['PerCapita'] = pd.to_numeric(df['International Tourism Departures per capita'], errors='coerce')\n",
    "\n",
    "# Calculate GDP per capita (new for x-axis)\n",
    "df['GDP_Per_Capita'] = df['GDP'] / df['Population']\n",
    "\n",
    "# Create continent mapping\n",
    "continent_mapping = {\n",
    "    'Denmark': 'Europe', 'Sweden': 'Europe', 'Norway': 'Europe', 'Finland': 'Europe', 'Iceland': 'Europe',\n",
    "    'United Kingdom': 'Europe', 'Germany': 'Europe', 'France': 'Europe', 'Italy': 'Europe', 'Spain': 'Europe',\n",
    "    'Netherlands': 'Europe', 'Belgium': 'Europe', 'Switzerland': 'Europe', 'Austria': 'Europe', 'Poland': 'Europe',\n",
    "    'Czech Republic': 'Europe', 'Hungary': 'Europe', 'Romania': 'Europe', 'Portugal': 'Europe', 'Greece': 'Europe',\n",
    "    'Ireland': 'Europe', 'Luxembourg': 'Europe', 'Slovenia': 'Europe', 'Croatia': 'Europe', 'Lithuania': 'Europe',\n",
    "    'Latvia': 'Europe', 'Estonia': 'Europe', 'Slovakia': 'Europe', 'Bulgaria': 'Europe',\n",
    "    'United States': 'North America', 'Canada': 'North America', 'Mexico': 'North America',\n",
    "    'China': 'Asia', 'Japan': 'Asia', 'Korea, Rep.': 'Asia', 'India': 'Asia', 'Indonesia': 'Asia',\n",
    "    'Singapore': 'Asia', 'Malaysia': 'Asia', 'Thailand': 'Asia', 'Vietnam': 'Asia', 'Philippines': 'Asia',\n",
    "    'Hong Kong SAR, China': 'Asia', 'Russian Federation': 'Asia', 'Taiwan, China': 'Asia',\n",
    "    'Australia': 'Oceania', 'New Zealand': 'Oceania',\n",
    "    'South Africa': 'Africa', 'Egypt, Arab Rep.': 'Africa', 'Nigeria': 'Africa', 'Kenya': 'Africa', 'Morocco': 'Africa',\n",
    "    'Brazil': 'South America', 'Argentina': 'South America', 'Chile': 'South America', 'Colombia': 'South America',\n",
    "    'Peru': 'South America', 'Venezuela, RB': 'South America',\n",
    "    'Saudi Arabia': 'Middle East', 'United Arab Emirates': 'Middle East', 'Turkey': 'Middle East', 'Israel': 'Middle East',\n",
    "    'Albania': 'Europe', 'Belarus': 'Europe', 'Bosnia and Herzegovina': 'Europe', 'Kazakhstan': 'Asia',\n",
    "    'Mongolia': 'Asia', 'North Korea': 'Asia', 'Sri Lanka': 'Asia', 'Pakistan': 'Asia', 'Bangladesh': 'Asia',\n",
    "    'Myanmar': 'Asia', 'Nepal': 'Asia', 'Lebanon': 'Middle East', 'Jordan': 'Middle East', 'Kuwait': 'Middle East',\n",
    "    'Bahrain': 'Middle East', 'Qatar': 'Middle East', 'Oman': 'Middle East', 'Yemen': 'Middle East',\n",
    "    'Ethiopia': 'Africa', 'Ghana': 'Africa', 'Tanzania': 'Africa', 'Uganda': 'Africa', 'Zambia': 'Africa',\n",
    "    'Zimbabwe': 'Africa', 'Cameroon': 'Africa', 'Senegal': 'Africa', 'Mali': 'Africa', 'Niger': 'Africa',\n",
    "    'Chad': 'Africa', 'Sudan': 'Africa', 'Libya': 'Africa',\n",
    "    'Tunisia': 'Africa', 'Algeria': 'Africa',\n",
    "    'Ecuador': 'South America', 'Bolivia': 'South America', 'Paraguay': 'South America', 'Uruguay': 'South America',\n",
    "    'Papua New Guinea': 'Oceania', 'Fiji': 'Oceania', 'Solomon Islands': 'Oceania'\n",
    "}\n",
    "\n",
    "df['Continent'] = df['Country Name'].map(continent_mapping).fillna('Other')\n",
    "df_clean = df.dropna(subset=['GDP_Per_Capita', 'PerCapita', 'Population', 'Continent']).copy()\n",
    "years = sorted(df_clean['Time'].unique())\n",
    "years = [year for year in years if 1996 <= year <= 2019]\n",
    "\n",
    "# Modern, more vibrant color scheme\n",
    "continent_colors = {\n",
    "    'Europe': '#3498db',         # Bright blue\n",
    "    'North America': '#9b59b6',  # Purple\n",
    "    'Asia': '#2ecc71',           # Green\n",
    "    'Oceania': '#e74c3c',        # Red\n",
    "    'Africa': '#f39c12',         # Orange\n",
    "    'South America': '#1abc9c',  # Turquoise\n",
    "    'Middle East': '#34495e'     # Dark blue-gray\n",
    "}\n",
    "\n",
    "df_clean = df_clean[df_clean['Continent'] != 'Other'].copy()\n",
    "\n",
    "if df_clean.empty or not years:\n",
    "    print(\"Dataframe is empty after cleaning or no valid years found. Cannot proceed.\")\n",
    "    exit()\n",
    "\n",
    "df_clean['IsDenmark'] = df_clean['Country Name'] == 'Denmark'\n",
    "\n",
    "# Create a function to calculate bubble sizes - SMALLER than before\n",
    "def calculate_bubble_size(population):\n",
    "    # Reduced scaling factor for smaller bubbles\n",
    "    return np.sqrt(population / 6000000) * 5  # Further reduced from 6 to 5, and increased divisor\n",
    "\n",
    "fig = go.Figure()\n",
    "current_trace_idx = 0\n",
    "# Add legend traces\n",
    "for continent in continent_colors.keys():\n",
    "    fig.add_trace(go.Scatter(x=[None], y=[None], mode='markers', name=continent,\n",
    "                             marker=dict(size=8, color=continent_colors[continent]),\n",
    "                             showlegend=True, legendgroup=continent))\n",
    "    current_trace_idx += 1\n",
    "fig.add_trace(go.Scatter(x=[None], y=[None], mode='markers', name='🇩🇰 Denmark',\n",
    "                         marker=dict(size=10, color='#003f5c', line=dict(width=2, color='#C60C30'), symbol='star'),\n",
    "                         showlegend=True, legendgroup='Denmark'))\n",
    "current_trace_idx += 1\n",
    "\n",
    "data_trace_indices = []\n",
    "continent_order_for_traces = []\n",
    "first_year = years[0]\n",
    "\n",
    "# Add initial data traces for the first year\n",
    "for continent in continent_colors.keys():\n",
    "    data_trace_indices.append(current_trace_idx)\n",
    "    continent_order_for_traces.append(continent)\n",
    "    continent_data_initial = df_clean[(df_clean['Time'] == first_year) & (df_clean['Continent'] == continent) & (~df_clean['IsDenmark'])]\n",
    "    fig.add_trace(go.Scatter(\n",
    "        x=continent_data_initial['GDP_Per_Capita'], y=continent_data_initial['PerCapita'],\n",
    "        mode='markers', name=continent, text=continent_data_initial['Country Name'],\n",
    "        hovertemplate='<b>%{text}</b><br>GDP per Capita: $%{x:,.0f}<br>Tourism/Capita: %{y:.2f}<br><extra></extra>',\n",
    "        marker=dict(size=calculate_bubble_size(continent_data_initial['Population']) if not continent_data_initial.empty else [],\n",
    "                    sizemin=3, color=continent_colors[continent], opacity=0.7, line=dict(width=0.5, color='white')),\n",
    "        visible=True, legendgroup=continent, showlegend=False))\n",
    "    current_trace_idx += 1\n",
    "\n",
    "data_trace_indices.append(current_trace_idx)\n",
    "continent_order_for_traces.append('Denmark')\n",
    "denmark_data_initial = df_clean[(df_clean['Time'] == first_year) & (df_clean['IsDenmark'])]\n",
    "fig.add_trace(go.Scatter(\n",
    "    x=denmark_data_initial['GDP_Per_Capita'], y=denmark_data_initial['PerCapita'],\n",
    "    mode='markers', name='Denmark', text=(['Denmark'] * len(denmark_data_initial)) if not denmark_data_initial.empty else [],\n",
    "    hovertemplate='<b>Denmark</b><br>GDP per Capita: $%{x:,.0f}<br>Tourism/Capita: %{y:.2f}<br><extra></extra>',\n",
    "    marker=dict(size=calculate_bubble_size(denmark_data_initial['Population']) if not denmark_data_initial.empty else [],\n",
    "                color='#003f5c', line=dict(width=2, color='#C60C30'), symbol='star'),\n",
    "    visible=True, legendgroup='Denmark', showlegend=False))\n",
    "\n",
    "# --- Create Frames for Animation ---\n",
    "plotly_frames = []\n",
    "for year in years:\n",
    "    frame_data_payload = []\n",
    "    for continent_or_denmark in continent_order_for_traces:\n",
    "        if continent_or_denmark == 'Denmark':\n",
    "            current_year_data = df_clean[(df_clean['Time'] == year) & (df_clean['IsDenmark'])]\n",
    "            marker_size = calculate_bubble_size(current_year_data['Population']).tolist() if not current_year_data.empty else []\n",
    "            trace_update_dict = {'x': current_year_data['GDP_Per_Capita'].tolist(),\n",
    "                                 'y': current_year_data['PerCapita'].tolist(),\n",
    "                                 'marker': {'size': marker_size},\n",
    "                                 'text': (['Denmark'] * len(current_year_data)) if not current_year_data.empty else []}\n",
    "        else:\n",
    "            current_year_data = df_clean[(df_clean['Time'] == year) & (df_clean['Continent'] == continent_or_denmark) & (~df_clean['IsDenmark'])]\n",
    "            marker_size = calculate_bubble_size(current_year_data['Population']).tolist() if not current_year_data.empty else []\n",
    "            trace_update_dict = {'x': current_year_data['GDP_Per_Capita'].tolist(),\n",
    "                                 'y': current_year_data['PerCapita'].tolist(),\n",
    "                                 'marker': {'size': marker_size},\n",
    "                                 'text': current_year_data['Country Name'].tolist()}\n",
    "        frame_data_payload.append(trace_update_dict)\n",
    "    plotly_frames.append(go.Frame(data=frame_data_payload, name=str(year), traces=data_trace_indices))\n",
    "fig.frames = plotly_frames\n",
    "\n",
    "# Create slider steps\n",
    "steps = []\n",
    "for year in years:\n",
    "    step = dict(\n",
    "        method=\"animate\",\n",
    "        args=[[str(year)],\n",
    "              {\"frame\": {\"duration\": 0, \"redraw\": True},\n",
    "               \"mode\": \"immediate\",\n",
    "               \"transition\": {\"duration\": 0}}\n",
    "             ],\n",
    "        label=str(year)\n",
    "    )\n",
    "    steps.append(step)\n",
    "\n",
    "# Improved layout with GDP per capita on x-axis and optimized for no scrollbars\n",
    "# INCREASED HEIGHT TO 650px and adjusted layout for more space\n",
    "fig.update_layout(\n",
    "    title={\n",
    "        'text': \"Denmark's Tourism Position in Global Context\",\n",
    "        'y': 0.98,\n",
    "        'x': 0.5,\n",
    "        'xanchor': 'center',\n",
    "        'yanchor': 'top',\n",
    "        'font': {'size': 18}\n",
    "    },\n",
    "    xaxis=dict(\n",
    "        title={\"text\": \"GDP per Capita (USD, PPP)\", 'font': {'size': 12}},\n",
    "        type='log',\n",
    "        range=[np.log10(max(0.01, df_clean['GDP_Per_Capita'].min(skipna=True) * 0.8 if pd.notna(df_clean['GDP_Per_Capita'].min(skipna=True)) else 0.01)),\n",
    "               np.log10(max(1, df_clean['GDP_Per_Capita'].max(skipna=True) * 1.2 if pd.notna(df_clean['GDP_Per_Capita'].max(skipna=True)) else 1))],\n",
    "        tickmode='array',\n",
    "        tickvals=[1000, 5000, 10000, 50000, 100000],\n",
    "        ticktext=['$1K', '$5K', '$10K', '$50K', '$100K'],\n",
    "        showgrid=True,\n",
    "        gridcolor='#eeeeee',\n",
    "        tickfont={'size': 10}\n",
    "    ),\n",
    "    yaxis=dict(\n",
    "        title={\"text\": \"Tourism Departures per Capita\", 'font': {'size': 12}},\n",
    "        showgrid=True, \n",
    "        gridcolor='#eeeeee',\n",
    "        range=[-0.1, 2.4],  # Slightly tighter range\n",
    "        fixedrange=True,    # Prevents zoom/pan on y-axis\n",
    "        tickfont={'size': 10}\n",
    "    ),\n",
    "    showlegend=True,\n",
    "    legend=dict(\n",
    "        orientation=\"h\",          # Horizontal legend\n",
    "        yanchor=\"top\",\n",
    "        y=1.12,                   # Moved higher above the plot to make more room\n",
    "        xanchor=\"center\",\n",
    "        x=0.5,                    # Center horizontally\n",
    "        bgcolor=\"rgba(255,255,255,0.8)\",\n",
    "        bordercolor=\"lightgray\",\n",
    "        borderwidth=1,\n",
    "        itemsizing='constant',    # Keep marker sizes consistent\n",
    "        font={'size': 10},        # Smaller font\n",
    "        traceorder=\"normal\"       # Normal trace order\n",
    "    ),\n",
    "    plot_bgcolor='white',\n",
    "    width=None,                   # Let it be fully responsive\n",
    "    height=700,                   # INCREASED HEIGHT from 550 to 650\n",
    "    autosize=True,\n",
    "    margin=dict(l=40, r=40, t=90, b=140),  # Increased top and bottom margins for controls\n",
    "    annotations=[\n",
    "        dict(\n",
    "            x=0.98, y=0.02,\n",
    "            xref=\"paper\", yref=\"paper\",\n",
    "            text=\"Bubble size represents population\",\n",
    "            showarrow=False,\n",
    "            font=dict(size=9, color=\"gray\")\n",
    "        )\n",
    "    ],\n",
    "    updatemenus=[{\n",
    "        'type': 'buttons',\n",
    "        'showactive': False,\n",
    "        'y': -0.50,                # Moved down to avoid overlap\n",
    "        'x': 0.5,\n",
    "        'xanchor': 'center',\n",
    "        'yanchor': 'top',\n",
    "        'pad': {'t': 0, 'b': 0, 'r': 10},\n",
    "        'buttons': [\n",
    "            {'label': '▶️ Play', 'method': 'animate',\n",
    "             'args': [None,\n",
    "                      {'frame': {'duration': 800, 'redraw': True},\n",
    "                       'fromcurrent': True,\n",
    "                       'transition': {'duration': 300, 'easing': 'quadratic-in-out'},\n",
    "                       'mode': 'immediate',\n",
    "                       'autoplay': False}]},\n",
    "            {'label': '⏸️ Pause', 'method': 'animate',\n",
    "             'args': [[None],\n",
    "                      {'frame': {'duration': 0, 'redraw': False},\n",
    "                       'mode': 'immediate',\n",
    "                       'transition': {'duration': 0}}]}\n",
    "        ]\n",
    "    }],\n",
    "    sliders=[{\n",
    "        'active': 0,\n",
    "        'currentvalue': {\n",
    "            'prefix': 'Year: ',\n",
    "            'visible': True,\n",
    "            'xanchor': 'center',\n",
    "            'font': {'size': 12, 'color': '#333333'}\n",
    "        },\n",
    "        'pad': {'t': 30, 'b': 10}, # Increased padding at top\n",
    "        'steps': steps,\n",
    "        'len': 0.88,\n",
    "        'x': 0.5,\n",
    "        'xanchor': 'center',\n",
    "        'y': -0.10,                # Adjusted position to avoid overlap with buttons\n",
    "        'yanchor': 'top'\n",
    "    }]\n",
    ")\n",
    "\n",
    "# Add a line trace showing the global median trend of GDP per Capita vs Tourism per Capita\n",
    "median_by_year = df_clean.groupby('Time')[['GDP_Per_Capita', 'PerCapita']].median().reset_index()\n",
    "fig.add_trace(go.Scatter(\n",
    "    x=median_by_year['GDP_Per_Capita'],\n",
    "    y=median_by_year['PerCapita'],\n",
    "    mode='lines+markers',  # Added markers to make it hoverable\n",
    "    line=dict(color='rgba(0,0,0,0.25)', width=1, dash='dot'),\n",
    "    marker=dict(\n",
    "        size=6,\n",
    "        color='rgba(0,0,0,0.5)',\n",
    "        symbol='circle',\n",
    "        line=dict(color='rgba(0,0,0,0.2)', width=1)\n",
    "    ),\n",
    "    name='Global Median',  # Shortened name\n",
    "    hovertemplate='<b>Global Median</b><br>Year: %{text}<br>GDP/Capita: $%{x:,.0f}<br>Tourism/Capita: %{y:.2f}<extra></extra>',\n",
    "    text=median_by_year['Time'].astype(str),\n",
    "    visible=True,\n",
    "    showlegend=True\n",
    "))\n",
    "\n",
    "# Add a visual indicator for Denmark's path over time\n",
    "denmark_data = df_clean[df_clean['IsDenmark']].sort_values('Time')\n",
    "fig.add_trace(go.Scatter(\n",
    "    x=denmark_data['GDP_Per_Capita'],\n",
    "    y=denmark_data['PerCapita'],\n",
    "    mode='lines',\n",
    "    line=dict(color='rgba(198, 12, 48, 0.4)', width=1.5),\n",
    "    name='DK Path',   # Shortened name\n",
    "    hoverinfo='skip',\n",
    "    visible=True,\n",
    "    showlegend=True\n",
    "))\n",
    "\n",
    "# Create HTML with special container to prevent scrollbars\n",
    "html_template = \"\"\"<!DOCTYPE html>\n",
    "<html>\n",
    "<head>\n",
    "    <meta charset=\"UTF-8\">\n",
    "    <meta name=\"viewport\" content=\"width=device-width, initial-scale=1.0, maximum-scale=1.0, user-scalable=no\">\n",
    "    <style>\n",
    "        html, body {{\n",
    "            height: 100%;\n",
    "            width: 100%;\n",
    "            margin: 0;\n",
    "            padding: 0;\n",
    "            overflow: hidden;\n",
    "        }}\n",
    "        #chart-container {{\n",
    "            position: relative;\n",
    "            height: 100%;\n",
    "            width: 100%;\n",
    "        }}\n",
    "        .js-plotly-plot, .plot-container, .plotly {{\n",
    "            height: 100%;\n",
    "            width: 100%;\n",
    "        }}\n",
    "        .modebar {{\n",
    "            top: 5px !important;\n",
    "            right: 5px !important;\n",
    "        }}\n",
    "        /* Responsive adjustments */\n",
    "        @media (max-width: 600px) {{\n",
    "            .gtitle, .xtitle, .ytitle {{\n",
    "                font-size: 10px !important;\n",
    "            }}\n",
    "            .xtick text, .ytick text {{\n",
    "                font-size: 8px !important;\n",
    "            }}\n",
    "            .modebar-btn {{\n",
    "                width: 20px !important;\n",
    "                height: 20px !important;\n",
    "            }}\n",
    "            .legendtext {{\n",
    "                font-size: 8px !important;\n",
    "            }}\n",
    "            .updatemenu-item-text {{\n",
    "                font-size: 10px !important;\n",
    "            }}\n",
    "            .slidertext {{\n",
    "                font-size: 10px !important;\n",
    "            }}\n",
    "        }}\n",
    "    </style>\n",
    "</head>\n",
    "<body>\n",
    "    <div id=\"chart-container\">\n",
    "        {plot_div}\n",
    "    </div>\n",
    "</body>\n",
    "</html>\n",
    "\"\"\"\n",
    "\n",
    "# Write custom HTML to file\n",
    "output_filename = '../assets/denmark_tourism_bubble_interactive.html'\n",
    "with open(output_filename, 'w') as f:\n",
    "    plotly_html = fig.to_html(\n",
    "        include_plotlyjs='cdn',\n",
    "        config={\n",
    "            'responsive': True,\n",
    "            'displayModeBar': True,\n",
    "            'modeBarButtonsToRemove': [\n",
    "                'lasso2d', 'select2d', 'autoScale2d',\n",
    "                'hoverClosestCartesian', 'hoverCompareCartesian',\n",
    "                'toggleSpikelines'\n",
    "            ],\n",
    "            'displaylogo': False,\n",
    "            'scrollZoom': False,   # Disable scroll zooming to prevent accidental scrolling\n",
    "            'showAxisDragHandles': False  # Disable axis drag to prevent scroll capture\n",
    "        },\n",
    "        full_html=False\n",
    "    )\n",
    "    f.write(html_template.format(plot_div=plotly_html))\n",
    "\n",
    "# display bubblke plot in the note\n",
    "import webbrowser\n",
    "webbrowser.open('file://' + os.path.realpath(output_filename))\n",
    "\n",
    "print(f\"Responsive animated plot saved without scrollbars: {output_filename}\")"
   ]
  },
  {
   "cell_type": "markdown",
   "id": "8d2e1355",
   "metadata": {},
   "source": [
    "## Danes on Planes\n"
   ]
  },
  {
   "cell_type": "markdown",
   "id": "8fd363e0",
   "metadata": {},
   "source": [
    "### Vertical Stacked Bar Chart"
   ]
  },
  {
   "cell_type": "code",
   "execution_count": 1,
   "id": "fe2cbe76",
   "metadata": {},
   "outputs": [],
   "source": [
    "# Imports\n",
    "from bokeh.io import show, output_file\n",
    "from bokeh.models import ColumnDataSource, Select, CustomJS, HoverTool, NumeralTickFormatter\n",
    "from bokeh.plotting import figure\n",
    "from bokeh.layouts import column\n",
    "from bokeh.palettes import PuBu, BuGn, PuBuGn\n",
    "import pandas as pd"
   ]
  },
  {
   "cell_type": "code",
   "execution_count": null,
   "id": "e8ca16c3",
   "metadata": {},
   "outputs": [],
   "source": [
    "# Load data and preprocess it\n",
    "def load_and_prepare(filepath):\n",
    "    df = pd.read_csv(filepath, encoding='unicode_escape', sep=';', header=None).drop(0, axis=1)\n",
    "    df.columns = ['Duration', 'Type', 'Year', 'Vacations']\n",
    "    df['Vacations'] = df['Vacations'].apply(lambda x: 0 if x == '..' else int(x))\n",
    "    df = df[df['Duration'] == 'Mindst fire overnatninger'].drop('Duration', axis=1)\n",
    "    df = df.pivot(index='Year', columns='Type', values='Vacations').reset_index()\n",
    "    df = df.drop(columns=['Cykel', 'Sejlbåd'], errors='ignore')\n",
    "    df = df.rename(columns={\n",
    "        'Bil': 'Car', 'Tog': 'Train', 'Skib': 'Ship',\n",
    "        'Fly': 'Airplane', 'Andre transportmidler': 'Other'\n",
    "    })\n",
    "    df['Year'] = df['Year'].astype(str)\n",
    "    ordered_cols = ['Year', 'Airplane', 'Car', 'Train', 'Ship', 'Bus', 'Other']\n",
    "    df = df[[col for col in ordered_cols if col in df.columns]]\n",
    "    return df\n",
    "\n",
    "world_df = load_and_prepare('../data/transportation_world.csv')\n",
    "dk_df = load_and_prepare('../data/transportation_dk.csv')"
   ]
  },
  {
   "cell_type": "code",
   "execution_count": 3,
   "id": "8b26048c",
   "metadata": {},
   "outputs": [],
   "source": [
    "# Coloring and preprocessing\n",
    "transportation_types = list(world_df.columns[1:])\n",
    "#color_indices = [3, 1, 7, 5, 8, 0]\n",
    "#colors = [PuBu[max(PuBu.keys())][i] for i in color_indices]\n",
    "colors = [\n",
    "    PuBu[9][1],\n",
    "    BuGn[9][4],\n",
    "    BuGn[9][1],\n",
    "    PuBu[9][4],\n",
    "    PuBuGn[9][6],\n",
    "    PuBuGn[9][1],\n",
    "]\n",
    "source = ColumnDataSource(world_df)\n",
    "source_world = ColumnDataSource(world_df)\n",
    "source_dk = ColumnDataSource(dk_df)"
   ]
  },
  {
   "cell_type": "code",
   "execution_count": 4,
   "id": "622f4dd6",
   "metadata": {},
   "outputs": [],
   "source": [
    "# Actual plot\n",
    "# Create figure\n",
    "p = figure(x_range=world_df[\"Year\"], height=500, sizing_mode=\"stretch_width\",\n",
    "           title=\"Forms of transport for vacation\",\n",
    "           toolbar_location=None, tools=\"hover\", tooltips=\"$name: @$name\")\n",
    "\n",
    "p.vbar_stack(transportation_types, x='Year', width=0.9, color=colors, source=source, legend_label=transportation_types)\n",
    "\n",
    "hover = HoverTool(tooltips=[\n",
    "    (\"Transport type\", \"$name\"),\n",
    "    (\"Year\", \"@Year\"),\n",
    "    (\"Vacations\", \"@$name{0,0}\")\n",
    "])\n",
    "p.tools = [hover]\n",
    "\n",
    "p.y_range.start = 0\n",
    "p.y_range.end = 5_500_000\n",
    "p.yaxis.formatter = NumeralTickFormatter(format=\"0,0\")\n",
    "p.yaxis.axis_label = \"Number of vacations\"\n",
    "p.xgrid.grid_line_color = None\n",
    "p.xaxis.axis_label = \"Year\"\n",
    "p.axis.minor_tick_line_color = None\n",
    "p.outline_line_color = None\n",
    "p.legend.location = \"center\"\n",
    "p.add_layout(p.legend[0], 'left')\n",
    "\n",
    "# Dropdown select\n",
    "select = Select(title=\"Destination\", value=\"World\", options=[\"World\", \"Denmark\"])\n",
    "\n",
    "# JS callback\n",
    "select.js_on_change(\"value\", CustomJS(args=dict(source=source,\n",
    "                                                source_world=source_world,\n",
    "                                                source_dk=source_dk),\n",
    "    code=\"\"\"\n",
    "    const selected = cb_obj.value;\n",
    "    const new_data = selected === 'World' ? source_world.data : source_dk.data;\n",
    "    const updated = {};\n",
    "    for (const key in new_data) {\n",
    "        updated[key] = [...new_data[key]];\n",
    "    }\n",
    "    source.data = updated;\n",
    "    source.change.emit();\n",
    "\"\"\"))\n",
    "\n",
    "# Export to HTML\n",
    "output_file(\"../assets_own/transportation_bokeh_plot.html\", title=\"Vacation Transportation\")\n",
    "\n",
    "# Show with responsive layout\n",
    "show(column(select, p, sizing_mode=\"stretch_width\"))\n"
   ]
  },
  {
   "cell_type": "markdown",
   "id": "a5be7fb3",
   "metadata": {},
   "source": [
    "### Line plot"
   ]
  },
  {
   "cell_type": "code",
   "execution_count": 10,
   "id": "85b27e5d",
   "metadata": {},
   "outputs": [],
   "source": [
    "# Imports\n",
    "import pandas as pd\n",
    "import matplotlib.pyplot as plt\n",
    "import numpy as np\n",
    "from datetime import datetime"
   ]
  },
  {
   "cell_type": "code",
   "execution_count": 11,
   "id": "54728a74",
   "metadata": {},
   "outputs": [],
   "source": [
    "# Load data\n",
    "data = pd.read_csv('../data/airplane_passengers_monthly.csv', encoding='unicode_escape', sep=';', header=None).drop(0, axis=1)\n",
    "data.columns = ['str_date', 'passengers']"
   ]
  },
  {
   "cell_type": "code",
   "execution_count": 12,
   "id": "e904a5ff",
   "metadata": {},
   "outputs": [],
   "source": [
    "# Preprocess\n",
    "data['month'] = data['str_date'].apply(lambda x: int(x.split('M')[1]))\n",
    "data['year'] = data['str_date'].apply(lambda x: int(x.split('M')[0]))\n",
    "data = data[['year', 'month', 'passengers']]\n",
    "\n",
    "data['day'] = 1 # because we only have one observation per month\n",
    "data['date'] = pd.to_datetime(data[['day', 'month', 'year']])"
   ]
  },
  {
   "cell_type": "code",
   "execution_count": 17,
   "id": "12b7892b",
   "metadata": {},
   "outputs": [
    {
     "name": "stderr",
     "output_type": "stream",
     "text": [
      "/var/folders/_6/l3776shn2kq8j4f7hm3qr5bh0000gn/T/ipykernel_28118/3903097990.py:11: UserWarning: set_ticklabels() should only be used with a fixed number of ticks, i.e. after set_ticks() or using a FixedLocator.\n",
      "  ax.set_yticklabels([f\"{int(tick):,}\" for tick in yticks])  # Adjusted for actual passenger values\n"
     ]
    },
    {
     "data": {
      "image/png": "[encoded data removed]",
      "text/plain": [
       "<Figure size 800x550 with 1 Axes>"
      ]
     },
     "metadata": {},
     "output_type": "display_data"
    }
   ],
   "source": [
    "# Actual plot\n",
    "plt.style.use('seaborn-v0_8')  # Clean grid style\n",
    "plt.plot(data['date'], data['passengers'])\n",
    "plt.xlabel('Year')\n",
    "plt.ylabel('Number of passengers')\n",
    "plt.title('Departing Passengers\\nfrom Danish Airports', fontsize=14, weight='bold')\n",
    "\n",
    "# Format y-axis ticks (comma-separated thousands)\n",
    "ax = plt.gca()\n",
    "yticks = ax.get_yticks()\n",
    "ax.set_yticklabels([f\"{int(tick):,}\" for tick in yticks])  # Adjusted for actual passenger values\n",
    "\n",
    "# COVID-19 annotation (March 2020 - March 2022)\n",
    "covid_start = '2020-02'\n",
    "covid_end = '2022-03'\n",
    "y_min = ax.get_ylim()[0]  # Bottom of the plot\n",
    "\n",
    "# Add colored span (BuGn palette, semi-transparent)\n",
    "ax.axvspan(covid_start, covid_end, color='#d17d7d', alpha=0.2, lw=0)\n",
    "\n",
    "# Add label just above x-axis\n",
    "label_y = y_min + (ax.get_ylim()[1] - y_min) * 0.01  # 2% above bottom\n",
    "label_x = datetime(2021, 1, 1)  # January 2021 as datetime object\n",
    "ax.text(label_x, label_y, 'COVID-19 travel restrictions', \n",
    "        ha='center', va='bottom', color='black', fontsize=9)\n",
    "\n",
    "plt.savefig('../assets_own/departing_passengers.png')\n",
    "plt.show()"
   ]
  },
  {
   "cell_type": "markdown",
   "id": "66d6f811",
   "metadata": {},
   "source": [
    "### Diverging bar plot"
   ]
  },
  {
   "cell_type": "code",
   "execution_count": 18,
   "id": "f3384d1f",
   "metadata": {},
   "outputs": [],
   "source": [
    "# REUSES MUCH OF THE PREPROCESSING ABOVE FROM THE LINE PLOT\n",
    "mean_monthly = pd.DataFrame(data.groupby(['month'])['passengers'].mean()).reset_index()\n",
    "mean_monthly['mean_subtracted_passengers']=(mean_monthly['passengers']-mean_monthly['passengers'].mean())"
   ]
  },
  {
   "cell_type": "code",
   "execution_count": 19,
   "id": "ed3bcab7",
   "metadata": {},
   "outputs": [
    {
     "name": "stderr",
     "output_type": "stream",
     "text": [
      "/var/folders/_6/l3776shn2kq8j4f7hm3qr5bh0000gn/T/ipykernel_28118/2441104596.py:29: UserWarning: set_ticklabels() should only be used with a fixed number of ticks, i.e. after set_ticks() or using a FixedLocator.\n",
      "  ax.set_yticklabels([f\"{int(tick * 1000):,}\" for tick in yticks])  # Comma formatting for thousands\n"
     ]
    },
    {
     "data": {
      "image/png": "[encoded data removed]",
      "text/plain": [
       "<Figure size 1000x600 with 1 Axes>"
      ]
     },
     "metadata": {},
     "output_type": "display_data"
    }
   ],
   "source": [
    "\n",
    "plt.figure(figsize=(10, 6))\n",
    "plt.style.use('seaborn-v0_8')  # Clean grid style\n",
    "\n",
    "# Set up color gradient from red to green based on values\n",
    "positive_color = '#6c8dbf'  # Dusty Blue\n",
    "negative_color = '#d17d7d'  # Dusty Red\n",
    "\n",
    "colors = [positive_color if x > 0 else negative_color for x in mean_monthly['mean_subtracted_passengers']]\n",
    "\n",
    "# Create the bar plot with color gradient\n",
    "bars = plt.bar(mean_monthly['month'], \n",
    "               mean_monthly['mean_subtracted_passengers'], \n",
    "               edgecolor='white', color=colors)\n",
    "\n",
    "# Title and axis labels with better formatting\n",
    "plt.title('Monthly Departing Passengers from\\nDanish Airports (2001-2024)', fontsize=14, weight='bold')\n",
    "plt.xlabel('Month', fontsize=12)\n",
    "plt.ylabel('Deviation from Mean', fontsize=12)\n",
    "\n",
    "# Set x-axis ticks with improved readability\n",
    "plt.xticks(np.arange(1, 13), \n",
    "           ['Jan', 'Feb', 'Mar', 'Apr', 'May', 'Jun', \n",
    "            'Jul', 'Aug', 'Sep', 'Oct', 'Nov', 'Dec'],\n",
    "           fontsize=10)\n",
    "\n",
    "# Format y-axis with commas\n",
    "ax = plt.gca()\n",
    "yticks = ax.get_yticks()\n",
    "ax.set_yticklabels([f\"{int(tick * 1000):,}\" for tick in yticks])  # Comma formatting for thousands\n",
    "\n",
    "# Add subtle grid lines only on y-axis\n",
    "plt.grid(axis='y', linestyle='--', alpha=0.7)\n",
    "\n",
    "# Optional: Add a horizontal line at y=0 for reference\n",
    "plt.axhline(0, color='gray', linewidth=1)\n",
    "\n",
    "# Tight layout for better spacing\n",
    "plt.tight_layout()\n",
    "\n",
    "# Save and show plot\n",
    "plt.savefig('../assets_own/popular_months.png')\n",
    "plt.show()\n"
   ]
  },
  {
   "cell_type": "markdown",
   "id": "fd374d94",
   "metadata": {},
   "source": [
    "## Exploring the World: Recommendations for Danish Travelers"
   ]
  },
  {
   "cell_type": "markdown",
   "id": "2e73343b",
   "metadata": {},
   "source": [
    "### Interactive World Map (Choropleth + Tripadvisor pins for Euorope)"
   ]
  },
  {
   "cell_type": "code",
   "execution_count": null,
   "id": "393ce81c",
   "metadata": {},
   "outputs": [],
   "source": [
    "import folium\n",
    "import pandas as pd\n",
    "import branca.colormap as cm\n",
    "import json\n",
    "import requests\n",
    "import io\n",
    "from shapely.geometry import shape\n",
    "import ast\n",
    "import warnings\n",
    "\n",
    "# Suppress the specific warnings for a cleaner output\n",
    "warnings.filterwarnings('ignore', category=pd.errors.SettingWithCopyWarning)\n",
    "warnings.filterwarnings('ignore', category=FutureWarning)\n",
    "\n",
    "# Load the CSV files\n",
    "cost_df = pd.read_csv(\"../data/CostOfLiving.csv\")\n",
    "gpi_df = pd.read_csv(\"../data/GPI.csv\")\n",
    "temp_df = pd.read_csv(\"../data/combined_temperature.csv\")\n",
    "\n",
    "# Error here since tripadvisor data is not in the repo since it is too large so download from kaggle if you want to run this code: https://www.kaggle.com/datasets/damienbeneschi/krakow-ta-restaurans-data-raw/code\n",
    "restaurants_df = pd.read_csv(\"../data/TA_restaurants_europa.csv\")\n",
    "CO2_df = pd.read_csv(\"../data/CO2Emission.csv\")\n",
    "\n",
    "# Clean CO2 data\n",
    "CO2_df.columns = CO2_df.columns.str.strip()\n",
    "CO2_df['Country'] = CO2_df['Country'].str.strip()\n",
    "\n",
    "# Clean column names and country names for cost_df\n",
    "cost_df.columns = cost_df.columns.str.strip()\n",
    "cost_df['Country'] = cost_df['Country'].str.strip()  # Remove leading/trailing spaces\n",
    "\n",
    "# Process temperature data to get the most recent year for each country\n",
    "temp_df_latest = temp_df.sort_values('Year').groupby('Country').last().reset_index()\n",
    "temp_df_latest = temp_df_latest[['Country', 'Annual Mean', 'Code']]\n",
    "temp_df_latest.columns = ['Country', 'Annual_Mean_Temperature', 'iso3c']\n",
    "\n",
    "# Process GPI data to get the most recent year for each country\n",
    "gpi_latest = gpi_df[['Country', 'iso3c', '2023']]\n",
    "gpi_latest.columns = ['Country', 'iso3c', 'GPI']\n",
    "\n",
    "# Get list of countries from cost of living data\n",
    "cost_countries = cost_df['Country'].unique()\n",
    "\n",
    "# Define country name mapping\n",
    "country_name_map = {\n",
    "    'United States': 'United States of America',\n",
    "    'Russia': 'Russian Federation',\n",
    "    'South Korea': 'Korea, Republic of',\n",
    "    'Iran': 'Iran, Islamic Republic of',\n",
    "    'Vietnam': 'Viet Nam',\n",
    "    'Venezuela': 'Venezuela, Bolivarian Republic of',\n",
    "    'Tanzania': 'Tanzania, United Republic of',\n",
    "    'Syria': 'Syrian Arab Republic',\n",
    "    'Moldova': 'Moldova, Republic of',\n",
    "    'Taiwan': 'Taiwan, Province of China',\n",
    "    'Bolivia': 'Bolivia, Plurinational State of',\n",
    "    'Ivory Coast': \"Côte d'Ivoire\",\n",
    "    'North Macedonia': 'Macedonia, the former Yugoslav Republic of',\n",
    "    'Libya': 'Libyan Arab Jamahiriya',\n",
    "    'Bosnia And Herzegovina': 'Bosnia and Herzegovina',\n",
    "    'Brunei': 'Brunei Darussalam',\n",
    "    'United Kingdom': 'United Kingdom',\n",
    "    'Us Virgin Islands': 'Virgin Islands, U.S.',\n",
    "    'Hong Kong (China)': 'Hong Kong',\n",
    "    'Macao (China)': 'Macao',\n",
    "    'China': 'China',\n",
    "    'Kosovo (Disputed Territory)': 'Kosovo',\n",
    "    'Trinidad And Tobago': 'Trinidad and Tobago',\n",
    "    'United Arab Emirates': 'United Arab Emirates',\n",
    "    'Dominican Republic': 'Dominican Republic',\n",
    "    'Czech Republic': 'Czech Republic',\n",
    "    'New Zealand': 'New Zealand',\n",
    "    'Costa Rica': 'Costa Rica',\n",
    "    'El Salvador': 'El Salvador',\n",
    "    'Saudi Arabia': 'Saudi Arabia',\n",
    "    'South Africa': 'South Africa',\n",
    "    'Papua New Guinea': 'Papua New Guinea',\n",
    "    'Netherlands': 'Netherlands',\n",
    "    'United States of America': 'United States',\n",
    "    'Bahamas,': 'Bahamas',\n",
    "    'Congo, Dem. Rep.': 'Democratic Republic of the Congo',\n",
    "    'Iran, Islamic Rep.': 'Iran',\n",
    "    'Kyrgyz Republic': 'Kyrgyzstan',\n",
    "    'Korea, Rep.': 'South Korea',\n",
    "    'Russian Federation': 'Russia',\n",
    "    'Slovak Republic': 'Slovakia',\n",
    "    'Syrian Arab Republic': 'Syria',\n",
    "    'Yemen, Rep.': 'Yemen',\n",
    "    'Venezuela, Rb': 'Venezuela',\n",
    "    'Turkiye': 'Turkey',\n",
    "    'Bosnia and Herzegovina': 'Bosnia And Herzegovina',\n",
    "    'Trinidad and Tobago': 'Trinidad And Tobago',\n",
    "    'United Arab Emirates': 'United Arab Emirates'\n",
    "}\n",
    "\n",
    "# Create comprehensive mappings to standardize to Cost of Living format\n",
    "temperature_to_cost_map = {\n",
    "    'United States': 'United States',\n",
    "    'United Arab Emirates': 'United Arab Emirates', \n",
    "    'United Kingdom': 'United Kingdom',\n",
    "    'Russian Federation': 'Russia',\n",
    "    'Bahamas,': 'Bahamas',\n",
    "    'Korea, Rep.': 'South Korea',\n",
    "    'Korea-': 'South Korea',\n",
    "    'Iran, Islamic Rep.': 'Iran',\n",
    "    'Syrian Arab Republic': 'Syria',\n",
    "    'Yemen, Rep.': 'Yemen',\n",
    "    'Venezuela, Rb': 'Venezuela',\n",
    "    'Kyrgyz Republic': 'Kyrgyzstan',\n",
    "    'Slovak Republic': 'Slovakia',\n",
    "    'Congo, Dem. Rep.': 'Democratic Republic of the Congo',\n",
    "    'Timor Leste': 'Timor-Leste',\n",
    "    'Cote d\\'Ivoire': 'Ivory Coast',\n",
    "    'Gambia,': 'Gambia',\n",
    "    'Trinidad And Tobago': 'Trinidad And Tobago',\n",
    "    'Guinea Bissau': 'Guinea-Bissau',\n",
    "    'Bosnia And Herzegovina': 'Bosnia And Herzegovina',\n",
    "    'Dominican Republic': 'Dominican Republic',\n",
    "    'Czech Republic': 'Czech Republic',\n",
    "    'Costa Rica': 'Costa Rica',\n",
    "    'El Salvador': 'El Salvador',\n",
    "    'Saudi Arabia': 'Saudi Arabia',\n",
    "    'South Africa': 'South Africa',\n",
    "    'Papua New Guinea': 'Papua New Guinea',\n",
    "    'New Zealand': 'New Zealand',\n",
    "    'Turkey': 'Turkey'\n",
    "}\n",
    "\n",
    "gpi_to_cost_map = {\n",
    "    'United States of America': 'United States',\n",
    "    'Bosnia and Herzegovina': 'Bosnia And Herzegovina',\n",
    "    'Trinidad and Tobago': 'Trinidad And Tobago', \n",
    "    'Cote d\\' Ivoire': 'Ivory Coast',\n",
    "    'Democratic Republic of the Congo': 'Democratic Republic of the Congo',\n",
    "    'Republic of the Congo': 'Republic of the Congo',\n",
    "    'Czech Republic': 'Czech Republic',\n",
    "    'Dominican Republic': 'Dominican Republic',\n",
    "    'El Salvador': 'El Salvador',\n",
    "    'Saudi Arabia': 'Saudi Arabia',\n",
    "    'South Africa': 'South Africa',\n",
    "    'Costa Rica': 'Costa Rica',\n",
    "    'Papua New Guinea': 'Papua New Guinea',\n",
    "    'New Zealand': 'New Zealand',\n",
    "    'United Arab Emirates': 'United Arab Emirates',\n",
    "    'United Kingdom': 'United Kingdom',\n",
    "    'The Gambia': 'Gambia',\n",
    "    'Timor-Leste': 'Timor-Leste',\n",
    "    'North Macedonia': 'North Macedonia',\n",
    "    'South Korea': 'South Korea',\n",
    "    'Kyrgyz Republic': 'Kyrgyzstan',\n",
    "    'Turkiye': 'Turkey',\n",
    "    'Guinea-Bissau': 'Guinea-Bissau'\n",
    "}\n",
    "\n",
    "# CO2 to cost mapping\n",
    "co2_to_cost_map = {\n",
    "    'United States of America': 'United States',\n",
    "    'Bosnia and Herzegovina': 'Bosnia And Herzegovina',\n",
    "    'Trinidad and Tobago': 'Trinidad And Tobago',\n",
    "    'Czech Republic': 'Czech Republic',\n",
    "    'Dominican Republic': 'Dominican Republic',\n",
    "    'Saudi Arabia': 'Saudi Arabia',\n",
    "    'South Africa': 'South Africa',\n",
    "    'Costa Rica': 'Costa Rica',\n",
    "    'Papua New Guinea': 'Papua New Guinea',\n",
    "    'New Zealand': 'New Zealand',\n",
    "    'United Arab Emirates': 'United Arab Emirates',\n",
    "    'United Kingdom': 'United Kingdom'\n",
    "}\n",
    "\n",
    "# Standardize temperature data\n",
    "temp_df_latest_mapped = temp_df_latest.copy()\n",
    "for index, row in temp_df_latest_mapped.iterrows():\n",
    "    country = row['Country'].strip()\n",
    "    # Apply mapping if exists, otherwise keep original\n",
    "    standardized_country = temperature_to_cost_map.get(country, country)\n",
    "    temp_df_latest_mapped.at[index, 'Country'] = standardized_country\n",
    "\n",
    "# Filter temperature data to keep only countries in cost of living\n",
    "temp_df_latest = temp_df_latest_mapped[temp_df_latest_mapped['Country'].str.strip().isin(cost_countries)]\n",
    "\n",
    "# Standardize GPI data\n",
    "gpi_latest_mapped = gpi_latest.copy()\n",
    "for index, row in gpi_latest_mapped.iterrows():\n",
    "    country = row['Country'].strip()\n",
    "    # Apply mapping if exists, otherwise keep original\n",
    "    standardized_country = gpi_to_cost_map.get(country, country)\n",
    "    gpi_latest_mapped.at[index, 'Country'] = standardized_country\n",
    "\n",
    "# Filter GPI data to keep only countries in cost of living\n",
    "gpi_latest = gpi_latest_mapped[gpi_latest_mapped['Country'].str.strip().isin(cost_countries)]\n",
    "\n",
    "# Standardize CO2 data\n",
    "CO2_df_mapped = CO2_df.copy()\n",
    "for index, row in CO2_df_mapped.iterrows():\n",
    "    country = row['Country'].strip()\n",
    "    # Apply mapping if exists, otherwise keep original\n",
    "    standardized_country = co2_to_cost_map.get(country, country)\n",
    "    CO2_df_mapped.at[index, 'Country'] = standardized_country\n",
    "\n",
    "# Filter CO2 data to keep only countries in cost of living\n",
    "CO2_df_latest = CO2_df_mapped\n",
    "\n",
    "# Process restaurant data\n",
    "# Convert cuisine styles string to list\n",
    "restaurants_df['Cuisine Style'] = restaurants_df['Cuisine Style'].apply(lambda x: ast.literal_eval(x) if isinstance(x, str) else [])\n",
    "\n",
    "# Create a list where each cuisine is a separate row\n",
    "cuisines_list = []\n",
    "for idx, row in restaurants_df.iterrows():\n",
    "    for cuisine in row['Cuisine Style']:\n",
    "        cuisines_list.append({\n",
    "            'city': row['City'],\n",
    "            'place': row['Name'],\n",
    "            'cuisine_style': cuisine,\n",
    "            'rating': row['Rating'],\n",
    "            'reviews_number': row['Number of Reviews']\n",
    "        })\n",
    "\n",
    "cuisines_list = pd.DataFrame(cuisines_list)\n",
    "\n",
    "# Calculate top options for each city\n",
    "df_top_options = cuisines_list.groupby(['city', 'cuisine_style']).agg({\"rating\": \"mean\", \"reviews_number\": \"sum\"}).sort_values(by=['city', 'cuisine_style', \"reviews_number\", \"rating\"], ascending=False)\n",
    "top_options = df_top_options.groupby('city').head(50).sort_values(by=['city', \"reviews_number\", \"rating\"], ascending=[True, False, False]).round(2)\n",
    "\n",
    "# Create base map centered on Europe\n",
    "world_map = folium.Map(\n",
    "    location=[50, 10],  # Center on Europe\n",
    "    zoom_start=4,  # Zoomed in on Europe\n",
    "    tiles=\"OpenStreetMap\", \n",
    "    scrollWheelZoom=True,\n",
    "    control_scale=True,\n",
    "    width='100%',\n",
    "    height='100%'\n",
    ")\n",
    "\n",
    "# Define the GeoJSON URL\n",
    "geojson_url = 'https://raw.githubusercontent.com/python-visualization/folium/master/examples/data/world-countries.json'\n",
    "\n",
    "# Download the GeoJSON data\n",
    "geo_data = requests.get(geojson_url).json()\n",
    "\n",
    "# Define metrics with display names (in desired order)\n",
    "# Changed: Removed Purchasing Power and added CO2, moved Restaurant Prices near Restaurant Information\n",
    "metrics = [\n",
    "    ('Cost of Living Index', 'Cost of Living Index'),\n",
    "    ('GPI', 'Global Peace Index'),\n",
    "    ('Rent Index', 'Rent Index'),\n",
    "    ('Annual_Mean_Temperature', 'Temperature (°C)'),\n",
    "    ('Groceries Index', 'Groceries Index'),\n",
    "    ('CO2', 'CO2 Emissions (kg)'),\n",
    "    ('Restaurant Price Index', 'Restaurant Prices'),\n",
    "    ('restaurants', 'Restaurant Information')\n",
    "]\n",
    "\n",
    "# Get all unique countries from all datasets and GeoJSON\n",
    "all_countries = set()\n",
    "for feature in geo_data['features']:\n",
    "    all_countries.add(feature['properties']['name'])\n",
    "\n",
    "# Standardize country names in the DataFrames using copy() to avoid warnings\n",
    "cost_df_mapped = cost_df.copy()\n",
    "gpi_latest_mapped = gpi_latest.copy()\n",
    "temp_df_latest_mapped = temp_df_latest.copy()\n",
    "CO2_df_mapped = CO2_df_latest.copy()\n",
    "\n",
    "for index, row in cost_df_mapped.iterrows():\n",
    "    country = row['Country'].strip()\n",
    "    if country in country_name_map:\n",
    "        cost_df_mapped.at[index, 'Country_Mapped'] = country_name_map[country]\n",
    "    else:\n",
    "        cost_df_mapped.at[index, 'Country_Mapped'] = country\n",
    "\n",
    "for index, row in gpi_latest_mapped.iterrows():\n",
    "    country = row['Country'].strip()\n",
    "    if country in country_name_map:\n",
    "        gpi_latest_mapped.at[index, 'Country_Mapped'] = country_name_map[country]\n",
    "    else:\n",
    "        gpi_latest_mapped.at[index, 'Country_Mapped'] = country\n",
    "\n",
    "for index, row in temp_df_latest_mapped.iterrows():\n",
    "    country = row['Country'].strip()\n",
    "    if country in country_name_map:\n",
    "        temp_df_latest_mapped.at[index, 'Country_Mapped'] = country_name_map[country]\n",
    "    else:\n",
    "        temp_df_latest_mapped.at[index, 'Country_Mapped'] = country\n",
    "\n",
    "for index, row in CO2_df_mapped.iterrows():\n",
    "    country = row['Country'].strip()\n",
    "    if country in country_name_map:\n",
    "        CO2_df_mapped.at[index, 'Country_Mapped'] = country_name_map[country]\n",
    "    else:\n",
    "        CO2_df_mapped.at[index, 'Country_Mapped'] = country\n",
    "\n",
    "# Create complete dataframes with all countries\n",
    "complete_cost_df = cost_df_mapped.copy()\n",
    "complete_gpi_df = gpi_latest_mapped.copy()\n",
    "complete_temp_df = temp_df_latest_mapped.copy()\n",
    "complete_co2_df = CO2_df_mapped.copy()\n",
    "\n",
    "# Fill missing countries with proper null values\n",
    "for country in all_countries:\n",
    "    if country not in complete_cost_df['Country_Mapped'].values:\n",
    "        new_row = pd.DataFrame({\n",
    "            'Country_Mapped': [country], \n",
    "            'Cost of Living Index': [None], \n",
    "            'Rent Index': [None], \n",
    "            'Groceries Index': [None], \n",
    "            'Restaurant Price Index': [None]\n",
    "        })\n",
    "        complete_cost_df = pd.concat([complete_cost_df, new_row], ignore_index=True)\n",
    "    \n",
    "    if country not in complete_gpi_df['Country_Mapped'].values:\n",
    "        new_row = pd.DataFrame({\n",
    "            'Country_Mapped': [country], \n",
    "            'GPI': [None]\n",
    "        })\n",
    "        complete_gpi_df = pd.concat([complete_gpi_df, new_row], ignore_index=True)\n",
    "    \n",
    "    if country not in complete_temp_df['Country_Mapped'].values:\n",
    "        new_row = pd.DataFrame({\n",
    "            'Country_Mapped': [country], \n",
    "            'Annual_Mean_Temperature': [None]\n",
    "        })\n",
    "        complete_temp_df = pd.concat([complete_temp_df, new_row], ignore_index=True)\n",
    "    \n",
    "    if country not in complete_co2_df['Country_Mapped'].values:\n",
    "        new_row = pd.DataFrame({\n",
    "            'Country_Mapped': [country], \n",
    "            'CO2': [None]\n",
    "        })\n",
    "        complete_co2_df = pd.concat([complete_co2_df, new_row], ignore_index=True)\n",
    "\n",
    "# Merge datasets\n",
    "merged_df = complete_cost_df.merge(complete_gpi_df, on='Country_Mapped', how='outer', suffixes=('', '_gpi'))\n",
    "merged_df = merged_df.merge(complete_temp_df, on='Country_Mapped', how='outer', suffixes=('', '_temp'))\n",
    "merged_df = merged_df.merge(complete_co2_df, on='Country_Mapped', how='outer', suffixes=('', '_co2'))\n",
    "\n",
    "# Make sure we're using the right country name when it exists in any dataset\n",
    "merged_df['Country'] = merged_df['Country'].combine_first(merged_df['Country_gpi'] if 'Country_gpi' in merged_df.columns else pd.Series([None] * len(merged_df)))\n",
    "merged_df['Country'] = merged_df['Country'].combine_first(merged_df['Country_temp'] if 'Country_temp' in merged_df.columns else pd.Series([None] * len(merged_df)))\n",
    "merged_df['Country'] = merged_df['Country'].combine_first(merged_df['Country_co2'] if 'Country_co2' in merged_df.columns else pd.Series([None] * len(merged_df)))\n",
    "\n",
    "# Normalize GPI to 0-100 scale (inverted since lower GPI is better)\n",
    "if 'GPI' in merged_df.columns:\n",
    "    gpi_values = merged_df['GPI'].dropna()\n",
    "    if len(gpi_values) > 0:\n",
    "        min_gpi = gpi_values.min()\n",
    "        max_gpi = gpi_values.max()\n",
    "        merged_df['Normalized_GPI'] = 100 * (max_gpi - merged_df['GPI']) / (max_gpi - min_gpi)\n",
    "\n",
    "# We don't normalize temperature as it's already in a meaningful scale (degrees Celsius)\n",
    "merged_df['Normalized_Annual_Mean_Temperature'] = merged_df['Annual_Mean_Temperature']\n",
    "\n",
    "# We don't normalize CO2 as it's already in a meaningful scale (kg)\n",
    "merged_df['Normalized_CO2'] = merged_df['CO2']\n",
    "\n",
    "# Normalize other metrics to 0-100 scale\n",
    "for col in ['Cost of Living Index', 'Rent Index', 'Groceries Index', 'Restaurant Price Index']:\n",
    "    if col in merged_df.columns:\n",
    "        col_values = merged_df[col].dropna()\n",
    "        if len(col_values) > 0:\n",
    "            min_val = col_values.min()\n",
    "            max_val = col_values.max()\n",
    "            if max_val > min_val:  # Avoid division by zero\n",
    "                merged_df[f'Normalized_{col}'] = 100 * (merged_df[col] - min_val) / (max_val - min_val)\n",
    "\n",
    "# Create mapping dict for tooltips with normalized data\n",
    "country_data = {}\n",
    "for _, row in merged_df.iterrows():\n",
    "    try:\n",
    "        country_mapped = row['Country_Mapped'] if pd.notna(row['Country_Mapped']) else None\n",
    "        if country_mapped is not None:\n",
    "            data_dict = {}\n",
    "            \n",
    "            # Add Cost of Living data if available\n",
    "            if 'Cost of Living Index' in row and pd.notna(row['Cost of Living Index']):\n",
    "                data_dict['Cost of Living Index'] = float(row['Cost of Living Index'])\n",
    "                if 'Normalized_Cost of Living Index' in row and pd.notna(row['Normalized_Cost of Living Index']):\n",
    "                    data_dict['Normalized_Cost of Living Index'] = float(row['Normalized_Cost of Living Index'])\n",
    "            \n",
    "            # Add GPI data if available\n",
    "            if 'GPI' in row and pd.notna(row['GPI']):\n",
    "                data_dict['GPI'] = float(row['GPI'])\n",
    "                if 'Normalized_GPI' in row and pd.notna(row['Normalized_GPI']):\n",
    "                    data_dict['Normalized_GPI'] = float(row['Normalized_GPI'])\n",
    "            \n",
    "            # Add Rent data if available\n",
    "            if 'Rent Index' in row and pd.notna(row['Rent Index']):\n",
    "                data_dict['Rent Index'] = float(row['Rent Index'])\n",
    "                if 'Normalized_Rent Index' in row and pd.notna(row['Normalized_Rent Index']):\n",
    "                    data_dict['Normalized_Rent Index'] = float(row['Normalized_Rent Index'])\n",
    "            \n",
    "            # Add Temperature data if available\n",
    "            if 'Annual_Mean_Temperature' in row and pd.notna(row['Annual_Mean_Temperature']):\n",
    "                data_dict['Annual_Mean_Temperature'] = float(row['Annual_Mean_Temperature'])\n",
    "                data_dict['Normalized_Annual_Mean_Temperature'] = float(row['Annual_Mean_Temperature'])\n",
    "            \n",
    "            # Add Groceries data if available\n",
    "            if 'Groceries Index' in row and pd.notna(row['Groceries Index']):\n",
    "                data_dict['Groceries Index'] = float(row['Groceries Index'])\n",
    "                if 'Normalized_Groceries Index' in row and pd.notna(row['Normalized_Groceries Index']):\n",
    "                    data_dict['Normalized_Groceries Index'] = float(row['Normalized_Groceries Index'])\n",
    "            \n",
    "            # Add CO2 data if available\n",
    "            if 'CO2' in row and pd.notna(row['CO2']):\n",
    "                data_dict['CO2'] = float(row['CO2'])\n",
    "                data_dict['Normalized_CO2'] = float(row['CO2'])\n",
    "            \n",
    "            # Add Restaurant data if available\n",
    "            if 'Restaurant Price Index' in row and pd.notna(row['Restaurant Price Index']):\n",
    "                data_dict['Restaurant Price Index'] = float(row['Restaurant Price Index'])\n",
    "                if 'Normalized_Restaurant Price Index' in row and pd.notna(row['Normalized_Restaurant Price Index']):\n",
    "                    data_dict['Normalized_Restaurant Price Index'] = float(row['Normalized_Restaurant Price Index'])\n",
    "            \n",
    "            country_data[country_mapped] = data_dict\n",
    "    except Exception as e:\n",
    "        print(f\"Error processing row: {e}\")\n",
    "\n",
    "# English display names for some countries that might have non-English names\n",
    "english_country_names = {\n",
    "    'Deutschland': 'Germany',\n",
    "    'España': 'Spain',\n",
    "    'Россия': 'Russia',\n",
    "    'Polska': 'Poland',\n",
    "    'Česko': 'Czech Republic',\n",
    "    'Österreich': 'Austria',\n",
    "    'Schweiz': 'Switzerland',\n",
    "    'Sverige': 'Sweden',\n",
    "    'Suomi': 'Finland',\n",
    "    'Norge': 'Norway',\n",
    "    'Danmark': 'Denmark',\n",
    "    'Nederland': 'Netherlands',\n",
    "    'Belgique': 'Belgium',\n",
    "    'Ελλάδα': 'Greece',\n",
    "    'България': 'Bulgaria',\n",
    "    'România': 'Romania',\n",
    "    'Magyarország': 'Hungary',\n",
    "    'Slovensko': 'Slovakia',\n",
    "    'Hrvatska': 'Croatia',\n",
    "    'Србија': 'Serbia',\n",
    "    'Ísland': 'Iceland',\n",
    "    'Slovenija': 'Slovenia',\n",
    "    'Latvija': 'Latvia',\n",
    "    'Eesti': 'Estonia',\n",
    "    'Lietuva': 'Lithuania',\n",
    "    'Κύπρος': 'Cyprus',\n",
    "    'Lëtzebuerg': 'Luxembourg',\n",
    "    'Malta': 'Malta',\n",
    "    '日本': 'Japan',\n",
    "    '中国': 'China',\n",
    "    '대한민국': 'South Korea',\n",
    "    'भारत': 'India',\n",
    "    'ประเทศไทย': 'Thailand',\n",
    "    'Việt Nam': 'Vietnam',\n",
    "    'Indonesia': 'Indonesia',\n",
    "    'Россия': 'Russia',\n",
    "    'Украина': 'Ukraine',\n",
    "    'Беларусь': 'Belarus',\n",
    "    'Brasil': 'Brazil',\n",
    "    'México': 'Mexico',\n",
    "    'Argentina': 'Argentina',\n",
    "    'Chile': 'Chile',\n",
    "    'Perú': 'Peru',\n",
    "    'Colombia': 'Colombia',\n",
    "    'Venezuela': 'Venezuela',\n",
    "    'Türkiye': 'Turkey',\n",
    "    'مصر': 'Egypt',\n",
    "    'المغرب': 'Morocco',\n",
    "    'الجزائر': 'Algeria',\n",
    "    'تونس': 'Tunisia',\n",
    "    'ليبيا': 'Libya',\n",
    "    'السعودية': 'Saudi Arabia',\n",
    "    'الإمارات': 'UAE',\n",
    "    'قطر': 'Qatar',\n",
    "    'الكويت': 'Kuwait',\n",
    "    'عمان': 'Oman',\n",
    "    'البحرين': 'Bahrain',\n",
    "    'لبنان': 'Lebanon',\n",
    "    'الأردن': 'Jordan',\n",
    "    'سوريا': 'Syria',\n",
    "    'العراق': 'Iraq',\n",
    "    'إيران': 'Iran'\n",
    "}\n",
    "\n",
    "# Define city coordinates with flags\n",
    "map_cities = {\n",
    "    'Amsterdam': {\n",
    "        'lat': 52.3547,\n",
    "        'lon': 4.7638,\n",
    "        'flag': 'https://i.imgur.com/blc3acB.png'\n",
    "    },\n",
    "    'Athens': {\n",
    "        'lat': 37.9908,\n",
    "        'lon': 23.7033,\n",
    "        'flag': 'https://i.imgur.com/EGGLpd1.png'\n",
    "    },\n",
    "    'Barcelona': {\n",
    "        'lat': 41.3948,\n",
    "        'lon': 2.0787,\n",
    "        'flag': 'https://i.imgur.com/vUh0XT5.png'\n",
    "    }, \n",
    "    \"Berlin\": {\n",
    "        'lat': 52.5069, \n",
    "        'lon': 13.3345,\n",
    "        'flag': 'https://i.imgur.com/IWmwjUA.png'\n",
    "    },\n",
    "    \"Bratislava\": {\n",
    "        'lat': 48.1359, \n",
    "        'lon': 16.9758,\n",
    "        'flag': 'https://i.imgur.com/48ARppO.png'\n",
    "    },              \n",
    "    \"Brussels\": {\n",
    "        'lat': 50.8550, \n",
    "        'lon': 4.3053,\n",
    "        'flag': 'https://i.imgur.com/8dsgG0Z.png'\n",
    "    },              \n",
    "    \"Budapest\": {\n",
    "        'lat': 47.4813, \n",
    "        'lon': 18.9902,\n",
    "        'flag': 'https://i.imgur.com/3wn3zdO.png'\n",
    "    },              \n",
    "    \"Copenhagen\": {\n",
    "        'lat': 55.6713, \n",
    "        'lon': 12.4537,\n",
    "        'flag': 'https://i.imgur.com/6qIQO7a.png'\n",
    "    },                \n",
    "    \"Dublin\": {\n",
    "        'lat': 53.3244, \n",
    "        'lon': -6.3857,\n",
    "        'flag': 'https://i.imgur.com/XKBE096.png'\n",
    "    },\n",
    "    \"Edinburgh\": {\n",
    "        'lat': 55.941, \n",
    "        'lon': -3.2753,\n",
    "        'flag': 'https://i.imgur.com/D0M33Pp.png'\n",
    "    },\n",
    "    \"Geneva\": {\n",
    "        'lat': 46.2050, \n",
    "        'lon': 6.1090,\n",
    "        'flag': 'https://i.imgur.com/bYvB2U5.png'\n",
    "    },\n",
    "    \"Hamburg\": {\n",
    "        'lat': 53.5586, \n",
    "        'lon': 9.6476,\n",
    "        'flag': 'https://i.imgur.com/IWmwjUA.png'\n",
    "    },\n",
    "    \"Helsinki\": {\n",
    "        'lat': 60.1100, \n",
    "        'lon': 24.7385,\n",
    "        'flag': 'https://i.imgur.com/RMgJjUZ.png'\n",
    "    },\n",
    "    \"Krakow\": {\n",
    "        'lat': 50.0469, \n",
    "        'lon': 19.8647,\n",
    "        'flag': 'https://i.imgur.com/Pz2wDfL.png'\n",
    "    },\n",
    "    \"Lisbon\": {\n",
    "        'lat': 38.7437, \n",
    "        'lon': -9.2302,\n",
    "        'flag': 'https://i.imgur.com/u0PAGku.png'\n",
    "    },\n",
    "    \"Ljubljana\": {\n",
    "        'lat': 46.06627, \n",
    "        'lon': 14.3920,\n",
    "        'flag': 'https://i.imgur.com/SaeK70A.png'\n",
    "    },\n",
    "    \"London\": {\n",
    "        'lat': 51.5287, \n",
    "        'lon': -0.3817,\n",
    "        'flag': 'https://i.imgur.com/82dLnLB.png'\n",
    "    },\n",
    "    \"Luxembourg\": {\n",
    "        'lat': 49.8148, \n",
    "        'lon': 5.5728,\n",
    "        'flag': 'https://i.imgur.com/jKBqD0Z.png'\n",
    "    },\n",
    "    \"Lyon\": {\n",
    "        'lat': 45.7580, \n",
    "        'lon': 4.7650,\n",
    "        'flag': 'https://i.imgur.com/7vrY3jL.png'\n",
    "    },\n",
    "    \"Madrid\": {\n",
    "        'lat': 40.4381, \n",
    "        'lon': -3.8196,\n",
    "        'flag': 'https://i.imgur.com/vUh0XT5.png'\n",
    "    },\n",
    "    \"Milan\": {\n",
    "        'lat': 45.4628, \n",
    "        'lon': 9.1076,\n",
    "        'flag': 'https://i.imgur.com/9ciRLpM.png'\n",
    "    },\n",
    "    \"Munich\": {\n",
    "        'lat': 48.1550, \n",
    "        'lon': 11.4017,\n",
    "        'flag': 'https://i.imgur.com/IWmwjUA.png'\n",
    "    },\n",
    "    \"Oporto\": {\n",
    "        'lat': 41.1622, \n",
    "        'lon': -8.6919,\n",
    "        'flag': 'https://i.imgur.com/u0PAGku.png'\n",
    "    },\n",
    "    \"Oslo\": {\n",
    "        'lat': 59.8939, \n",
    "        'lon': 10.6450,\n",
    "        'flag': 'https://i.imgur.com/FM8gW1N.png'\n",
    "    },\n",
    "    \"Paris\": {\n",
    "        'lat': 48.8589, \n",
    "        'lon': 2.2770,\n",
    "        'flag': 'https://i.imgur.com/7vrY3jL.png'\n",
    "    },\n",
    "    \"Prague\": {\n",
    "        'lat': 50.0598, \n",
    "        'lon': 14.3255,\n",
    "        'flag': 'https://i.imgur.com/1gDnRgD.png'\n",
    "    },\n",
    "    'Rome': {\n",
    "        'lat': 41.9102,\n",
    "        'lon': 12.3959,\n",
    "        'flag': 'https://i.imgur.com/9ciRLpM.png'\n",
    "    },\n",
    "    \"Stockholm\": {\n",
    "        'lat': 59.3262, \n",
    "        'lon': 17.8419,\n",
    "        'flag': 'https://i.imgur.com/VSHZpY9.png'\n",
    "    },\n",
    "    \"Vienna\": {\n",
    "        'lat': 48.2208, \n",
    "        'lon': 16.2399,\n",
    "        'flag': 'https://i.imgur.com/xRyqWqH.png'\n",
    "    },\n",
    "     \"Warsaw\": {\n",
    "        'lat': 52.2330, \n",
    "        'lon': 20.7810,\n",
    "        'flag': 'https://i.imgur.com/Pz2wDfL.png'\n",
    "    },\n",
    "     \"Zurich\": {\n",
    "        'lat': 47.3775, \n",
    "        'lon': 8.4666,\n",
    "        'flag': 'https://i.imgur.com/bYvB2U5.png'\n",
    "    }             \n",
    "}\n",
    "\n",
    "# Default to show Cost of Living Index first\n",
    "default_metric = 'Cost of Living Index'\n",
    "default_title = 'Cost of Living Index'\n",
    "\n",
    "# Create a container for the colorbar\n",
    "colorbar_div = folium.Element(\"\"\"\n",
    "<div id=\"dynamic-colorbar\" style=\"position:fixed; right:20px; bottom:20px; z-index:9999; background:white; padding:5px; border-radius:5px; box-shadow: 0 0 10px rgba(0,0,0,0.2);\"></div>\n",
    "\"\"\")\n",
    "world_map.get_root().html.add_child(colorbar_div)\n",
    "\n",
    "# Define different color schemes for each metric\n",
    "color_schemes = {\n",
    "    'Cost of Living Index': ['#ffcccc', '#ffb3b3', '#ff9999', '#ff8080', '#ff4d4d', '#cc0000'],\n",
    "    'GPI': ['#e6ccb3', '#d9b38c', '#cc9966', '#bf8040', '#995c00', '#663d00'],\n",
    "    'Rent Index': ['#e6ccff', '#d9b3ff', '#cc99ff', '#b366ff', '#9933ff', '#6600cc'],\n",
    "    'Annual_Mean_Temperature': ['#cce6ff', '#99ccff', '#66b3ff', '#3399ff', '#0080ff', '#004d99'],\n",
    "    'Groceries Index': ['#ccffcc', '#99ff99', '#66ff66', '#33cc33', '#00b300', '#006600'],\n",
    "    'CO2': ['#FFE4B5', '#FFDAB9', '#FFA500', '#FF8C00', '#FF7F50', '#FF4500'],\n",
    "    'Restaurant Price Index': ['#ffcce6', '#ff99cc', '#ff66b3', '#ff3399', '#cc0066', '#990066']\n",
    "}\n",
    "\n",
    "# Define which metrics should use inverted color scales\n",
    "inverted_metrics = ['GPI']\n",
    "\n",
    "# Create colormaps for each metric\n",
    "colormaps = {}\n",
    "colorbar_htmls = {}\n",
    "\n",
    "for col, title in metrics:\n",
    "    if col != 'restaurants':  # Skip restaurants as it doesn't have a colormap\n",
    "        # Use the normalized column\n",
    "        norm_col = f'Normalized_{col}'\n",
    "        \n",
    "        # Set fixed min/max for normalized data (0-100)\n",
    "        vmin = 0\n",
    "        vmax = 100\n",
    "        \n",
    "        # Get the color scheme for this metric\n",
    "        colors = color_schemes[col]\n",
    "        \n",
    "        # For temperature and CO2, use actual range (not normalized)\n",
    "        if col == 'Annual_Mean_Temperature':\n",
    "            # Use a simple linear scale for temperature with fixed endpoints\n",
    "            temp_min = -10\n",
    "            temp_max = 30\n",
    "            \n",
    "            # Create a linear colormap with fixed temperature range\n",
    "            colormap = cm.LinearColormap(\n",
    "                colors=colors,\n",
    "                vmin=temp_min,\n",
    "                vmax=temp_max,\n",
    "                caption=f\"{title}\"\n",
    "            )\n",
    "        elif col == 'CO2':\n",
    "            # Use actual CO2 values\n",
    "            co2_min = 0\n",
    "            co2_max = 5000  # Set max based on data range\n",
    "            \n",
    "            # Create a linear colormap with fixed CO2 range\n",
    "            colormap = cm.LinearColormap(\n",
    "                colors=colors,\n",
    "                vmin=co2_min,\n",
    "                vmax=co2_max,\n",
    "                caption=f\"{title}\"\n",
    "            )\n",
    "        else:\n",
    "            # Create fixed steps for the color scale\n",
    "            steps = [0, 20, 40, 60, 80, 100]\n",
    "            \n",
    "            # Choose color order based on metric type\n",
    "            colormap = cm.LinearColormap(\n",
    "                colors=colors,\n",
    "                index=steps,\n",
    "                vmin=vmin,\n",
    "                vmax=vmax,\n",
    "                caption=f\"{title}\"\n",
    "            )\n",
    "        \n",
    "        colormaps[col] = colormap\n",
    "        # Store colorbar HTML for this metric\n",
    "        colorbar_htmls[title] = colormap._repr_html_()\n",
    "\n",
    "# Create a feature group for each metric\n",
    "feature_groups = {}\n",
    "for col, title in metrics:\n",
    "    # Create a feature group\n",
    "    fg = folium.FeatureGroup(name=title, show=(title == default_title))\n",
    "    feature_groups[title] = fg\n",
    "    \n",
    "    if col == 'restaurants':\n",
    "        # Add restaurant information markers at country centers\n",
    "        def get_flag(city):\n",
    "            flag = map_cities.get(city)\n",
    "            if flag:\n",
    "                flag_url = flag['flag']\n",
    "                return(flag_url)\n",
    "            return \"\"\n",
    "\n",
    "        def get_top_options2(city):\n",
    "            opt = top_options[top_options.index.get_level_values('city').isin([city])][:3]\n",
    "            opt = opt.reset_index()\n",
    "            opt = opt.sort_values(by=[\"rating\", \"reviews_number\"], ascending=[False, False])\n",
    "            top_3 = \"\"\n",
    "            icon_class = \"\"\n",
    "            for i in opt.iterrows():\n",
    "                if (i[1]['cuisine_style'] == \"Gluten Free Options\") or (i[1]['cuisine_style'] == \"Vegan Options\"):\n",
    "                    icon_class = \"fa-pagelines\"\n",
    "                elif i[1]['cuisine_style'] == \"Vegetarian Friendly\":\n",
    "                    icon_class = \"fa-tree\"\n",
    "                else:\n",
    "                    icon_class = \"fa-globe\"\n",
    "                top_3 += \"<div  style =\\\"height:25px;\\\"><i class=\\\"fa \"+ icon_class + \"\\\"></i>&nbsp;\" + i[1]['cuisine_style'] + \"&nbsp;\" + str(i[1]['rating']) + \" (\" + str(i[1]['reviews_number']) +  \" reviews)</div>\"\n",
    "            return(top_3)\n",
    "        \n",
    "        for k, v in map_cities.items():\n",
    "            flag = get_flag(k)\n",
    "            html =  \"<!DOCTYPE html><html><head><link rel=\\\"stylesheet\\\" href=\\\"https://cdnjs.cloudflare.com/ajax/libs/font-awesome/4.7.0/css/font-awesome.min.css\\\"></head><body>\"\n",
    "            html += \"<div><div style =\\\"height:30px;\\\"><strong>{}</strong>&nbsp;<img src='{}' width='18px' height='18px'></div><div>{}</div>\".format(k, flag, get_top_options2(k))\n",
    "            html += \"</body></html>\"    \n",
    "            iframe = folium.IFrame(html, width=(300)+20, height=(110)+20)\n",
    "            popup = folium.Popup(iframe, max_width=1000)    \n",
    "            \n",
    "            folium.Marker(location =[v['lat'], v['lon']], \n",
    "                        popup=popup,\n",
    "                        icon = folium.Icon(color='darkpurple', icon='fa-cutlery', prefix='fa')\n",
    "            ).add_to(fg)\n",
    "    else:\n",
    "        # Use normalized column\n",
    "        norm_col = f'Normalized_{col}'\n",
    "        \n",
    "        # Define a style function for this metric with strict data checking\n",
    "        def style_function(feature, col=col, norm_col=norm_col, colormap=colormaps[col]):\n",
    "            country_name = feature['properties']['name']\n",
    "            # Only apply color if country exists in data AND has value for this metric\n",
    "            if country_name in country_data:\n",
    "                data = country_data[country_name]\n",
    "                \n",
    "                # Check for temperature and CO2 (not normalized)\n",
    "                if col in ['Annual_Mean_Temperature', 'CO2']:\n",
    "                    if col in data and data[col] is not None and not pd.isna(data[col]):\n",
    "                        return {\n",
    "                            'fillColor': colormap(data[col]),\n",
    "                            'color': 'black',\n",
    "                            'weight': 0.5,\n",
    "                            'fillOpacity': 0.7\n",
    "                        }\n",
    "                \n",
    "                # Check for other metrics (normalized)\n",
    "                elif norm_col in data and data[norm_col] is not None and not pd.isna(data[norm_col]):\n",
    "                    return {\n",
    "                        'fillColor': colormap(data[norm_col]),\n",
    "                        'color': 'black',\n",
    "                        'weight': 0.5,\n",
    "                        'fillOpacity': 0.7\n",
    "                    }\n",
    "            \n",
    "            # No data available - use gray\n",
    "            return {\n",
    "                'fillColor': '#d3d3d3', \n",
    "                'color': 'black', \n",
    "                'weight': 0.5, \n",
    "                'fillOpacity': 0.5\n",
    "            }\n",
    "\n",
    "        # Create a tooltip function for this layer and metric\n",
    "        def tooltip_function(feature, col=col, norm_col=norm_col, title=title):\n",
    "            country_name = feature['properties']['name']\n",
    "            \n",
    "            # Use English name if available\n",
    "            display_name = english_country_names.get(country_name, country_name)\n",
    "            \n",
    "            if country_name in country_data:\n",
    "                data = country_data[country_name]\n",
    "                \n",
    "                # Build a popup with available data\n",
    "                popup_content = f\"\"\"\n",
    "                <div style=\"min-width:200px\">\n",
    "                    <h4 style=\"margin:0 0 5px;padding-bottom:5px;border-bottom:1px solid #ccc; font-weight:bold; font-size:16px;\">{display_name}</h4>\n",
    "                    <table style=\"width:100%;border-collapse:collapse;font-size:13px; margin-top:5px;\">\n",
    "                \"\"\"\n",
    "                \n",
    "                # Show whether current metric is available\n",
    "                metric_available = False\n",
    "                current_value = None\n",
    "                \n",
    "                if col in ['Annual_Mean_Temperature', 'CO2']:\n",
    "                    if col in data and pd.notna(data[col]):\n",
    "                        metric_available = True\n",
    "                        current_value = data[col]\n",
    "                else:\n",
    "                    if col in data and pd.notna(data[col]):\n",
    "                        metric_available = True\n",
    "                        current_value = data[col]\n",
    "                \n",
    "                # Add available metrics to popup\n",
    "                if 'Cost of Living Index' in data and pd.notna(data['Cost of Living Index']):\n",
    "                    popup_content += f\"<tr><td><b>Cost of Living:</b></td><td align='right'>{data['Cost of Living Index']:.1f}</td></tr>\"\n",
    "                \n",
    "                if 'GPI' in data and pd.notna(data['GPI']):\n",
    "                    popup_content += f\"<tr><td><b>Peace Index:</b></td><td align='right'>{data['GPI']:.3f}</td></tr>\"\n",
    "                \n",
    "                if 'Rent Index' in data and pd.notna(data['Rent Index']):\n",
    "                    popup_content += f\"<tr><td><b>Rent:</b></td><td align='right'>{data['Rent Index']:.1f}</td></tr>\"\n",
    "                \n",
    "                if 'Annual_Mean_Temperature' in data and pd.notna(data['Annual_Mean_Temperature']):\n",
    "                    popup_content += f\"<tr><td><b>Temperature:</b></td><td align='right'>{data['Annual_Mean_Temperature']:.1f}°C</td></tr>\"\n",
    "                \n",
    "                if 'Groceries Index' in data and pd.notna(data['Groceries Index']):\n",
    "                    popup_content += f\"<tr><td><b>Groceries:</b></td><td align='right'>{data['Groceries Index']:.1f}</td></tr>\"\n",
    "                \n",
    "                if 'CO2' in data and pd.notna(data['CO2']):\n",
    "                    popup_content += f\"<tr><td><b>CO2 Emissions:</b></td><td align='right'>{data['CO2']:.0f} kg</td></tr>\"\n",
    "                \n",
    "                if 'Restaurant Price Index' in data and pd.notna(data['Restaurant Price Index']):\n",
    "                    popup_content += f\"<tr><td><b>Restaurant:</b></td><td align='right'>{data['Restaurant Price Index']:.1f}</td></tr>\"\n",
    "                \n",
    "                # Warn if current metric is not available\n",
    "                if not metric_available:\n",
    "                    popup_content += f\"\"\"\n",
    "                        <tr><td colspan='2' style='color:red; font-weight:bold; padding-top:10px;'>\n",
    "                            Current metric ({title}) not available\n",
    "                        </td></tr>\n",
    "                    \"\"\"\n",
    "                \n",
    "                popup_content += \"\"\"\n",
    "                    </table>\n",
    "                    <div style=\"margin-top:8px;font-weight:bold;color:#c00; font-size:14px;\">\n",
    "                        Current View: \"\"\" + title\n",
    "                \n",
    "                if metric_available and current_value is not None:\n",
    "                    if col == 'Annual_Mean_Temperature':\n",
    "                        popup_content += f\" ({current_value:.1f}°C)\"\n",
    "                    elif col == 'CO2':\n",
    "                        popup_content += f\" ({current_value:.0f} kg)\"\n",
    "                    elif col == 'GPI':\n",
    "                        popup_content += f\" ({current_value:.3f})\"\n",
    "                    else:\n",
    "                        popup_content += f\" ({current_value:.1f})\"\n",
    "                else:\n",
    "                    popup_content += \" (No data)\"\n",
    "                \n",
    "                popup_content += \"\"\"\n",
    "                    </div>\n",
    "                </div>\n",
    "                \"\"\"\n",
    "                \n",
    "                return popup_content\n",
    "            else:\n",
    "                return f\"<b>{display_name}</b><br>No data available\"\n",
    "\n",
    "        # Add the GeoJSON layer with styling for this metric\n",
    "        geo_json = folium.GeoJson(\n",
    "            geo_data,\n",
    "            name=title,\n",
    "            style_function=style_function,\n",
    "            highlight_function=lambda x: {'weight': 2, 'color': '#333333', 'fillOpacity': 0.8}\n",
    "        )\n",
    "        \n",
    "        # Add the GeoJSON layer to the feature group\n",
    "        geo_json.add_to(fg)\n",
    "        \n",
    "        # Add country labels and tooltips with improved geometric placement\n",
    "        for feature in geo_data['features']:\n",
    "            country_name = feature['properties']['name']\n",
    "            display_name = english_country_names.get(country_name, country_name)\n",
    "            \n",
    "            if country_name in country_data:\n",
    "                try:\n",
    "                    # Convert the geometry to a shapely object\n",
    "                    country_geom = shape(feature['geometry'])\n",
    "                    \n",
    "                    # Handle MultiPolygon (countries with multiple parts like islands)\n",
    "                    if country_geom.geom_type == 'MultiPolygon':\n",
    "                        # Find the largest polygon in the MultiPolygon\n",
    "                        largest_polygon = max(country_geom.geoms, key=lambda a: a.area)\n",
    "                        # Use representative_point which guarantees the point is within the polygon\n",
    "                        label_point = largest_polygon.representative_point()\n",
    "                    else:\n",
    "                        # For simple polygons, just use representative_point\n",
    "                        label_point = country_geom.representative_point()\n",
    "                    \n",
    "                    # Get the coordinates from the point\n",
    "                    center = (label_point.y, label_point.x)  # Folium uses (lat, lon)\n",
    "                    \n",
    "                    # Only add labels for countries with area above threshold (to avoid cluttering)\n",
    "                    if country_geom.area > 0.5:  # Threshold can be adjusted\n",
    "                        # Create a hover tooltip for this country\n",
    "                        tooltip_html = tooltip_function(feature)\n",
    "                        \n",
    "                        # Create a div icon with class for JavaScript to control\n",
    "                        icon = folium.DivIcon(\n",
    "                            icon_size=(100, 20),\n",
    "                            icon_anchor=(50, 10),\n",
    "                            html=f'''\n",
    "                                <div class=\"country-label\" \n",
    "                                     data-country=\"{country_name}\" \n",
    "                                     data-area=\"{country_geom.area:.2f}\" \n",
    "                                     style=\"font-size: 10px; \n",
    "                                            color: #333; \n",
    "                                            font-weight: bold; \n",
    "                                            text-shadow: 1px 1px 1px #fff, -1px -1px 1px #fff, 1px -1px 1px #fff, -1px 1px 1px #fff; \n",
    "                                            text-align: center;\">\n",
    "                                    {display_name}\n",
    "                                </div>\n",
    "                            '''\n",
    "                        )\n",
    "                        \n",
    "                        # Add the label marker\n",
    "                        marker = folium.Marker(\n",
    "                            location=center,\n",
    "                            icon=icon,\n",
    "                            tooltip=folium.Tooltip(tooltip_html, sticky=True)\n",
    "                        )\n",
    "                        marker.add_to(fg)\n",
    "                except Exception as e:\n",
    "                    # Skip countries where geometry calculations fail\n",
    "                    print(f\"Error processing {country_name}: {e}\")\n",
    "                    continue\n",
    "    \n",
    "    # Add this feature group to the map\n",
    "    fg.add_to(world_map)\n",
    "\n",
    "# Add layer control to toggle between metrics\n",
    "folium.LayerControl(collapsed=False).add_to(world_map)\n",
    "\n",
    "# Create a dynamic title header for the map\n",
    "header_html = \"\"\"\n",
    "<div id=\"dynamic-title\" style=\"position:fixed; top:10px; left:50%; transform:translateX(-50%); \n",
    "    z-index:9999; background:white; padding:5px 10px; border-radius:5px; \n",
    "    font-family:Arial; font-weight:bold; font-size:16px; \n",
    "    box-shadow: 0 0 10px rgba(0,0,0,0.2);\">\n",
    "    Global Indicators Map - <span id=\"metric-title\">Cost of Living Index</span>\n",
    "</div>\n",
    "\"\"\"\n",
    "world_map.get_root().html.add_child(folium.Element(header_html))\n",
    "\n",
    "# Add JavaScript to handle layer switching, dynamic colorbar, and dynamic title\n",
    "js_code = \"\"\"\n",
    "<script>\n",
    "(function() {\n",
    "    // Store all colorbar HTMLs\n",
    "    var colorbarHTMLs = {\n",
    "\"\"\"\n",
    "\n",
    "# Add each metric's colorbar HTML as a JavaScript string\n",
    "for i, (col, title) in enumerate(metrics):\n",
    "    if col != 'restaurants':  # Skip restaurants since it doesn't have a colorbar\n",
    "        if i > 0:\n",
    "            js_code += \",\\n\"\n",
    "        # Properly escape the HTML for JavaScript\n",
    "        html_escaped = colorbar_htmls[title].replace('\\\\', '\\\\\\\\').replace(\"'\", \"\\\\'\").replace('\\n', '\\\\n')\n",
    "        js_code += f\"        '{title}': '{html_escaped}'\"\n",
    "\n",
    "js_code += \"\"\"\n",
    "    };\n",
    "    \n",
    "    // Function to update the colorbar and title\n",
    "    function updateColorbarAndTitle(layerName) {\n",
    "        var colorbarDiv = document.getElementById('dynamic-colorbar');\n",
    "        var titleSpan = document.getElementById('metric-title');\n",
    "        \n",
    "        if (layerName === 'Restaurant Information') {\n",
    "            // Hide colorbar for restaurants\n",
    "            colorbarDiv.innerHTML = '';\n",
    "        } else if (colorbarHTMLs[layerName]) {\n",
    "            colorbarDiv.innerHTML = colorbarHTMLs[layerName];\n",
    "        }\n",
    "        \n",
    "        if (titleSpan) {\n",
    "            titleSpan.textContent = layerName;\n",
    "        }\n",
    "    }\n",
    "    \n",
    "    // Function to handle responsive country labels\n",
    "    function updateCountryLabels(zoomLevel) {\n",
    "        var labels = document.querySelectorAll('.country-label');\n",
    "        \n",
    "        labels.forEach(function(label) {\n",
    "            var countryArea = parseFloat(label.getAttribute('data-area') || '0');\n",
    "            \n",
    "            // Scale font size based on zoom level and country area\n",
    "            var baseFontSize = 10;\n",
    "            var scaleFactor = Math.min(zoomLevel / 2, 2.5);\n",
    "            \n",
    "            // Adjust font size based on country size and zoom level\n",
    "            if (zoomLevel < 3) {\n",
    "                // At lower zoom levels, only show larger countries\n",
    "                if (countryArea < 5) {\n",
    "                    label.style.display = 'none';\n",
    "                } else {\n",
    "                    label.style.display = 'block';\n",
    "                    var fontSize = Math.max(baseFontSize * scaleFactor * 0.8, 8);\n",
    "                    label.style.fontSize = fontSize + 'px';\n",
    "                }\n",
    "            } else if (zoomLevel < 5) {\n",
    "                // At medium zoom levels, show medium and larger countries\n",
    "                if (countryArea < 1) {\n",
    "                    label.style.display = 'none';\n",
    "                } else {\n",
    "                    label.style.display = 'block';\n",
    "                    var fontSize = Math.max(baseFontSize * scaleFactor * 0.9, 9);\n",
    "                    label.style.fontSize = fontSize + 'px';\n",
    "                }\n",
    "            } else {\n",
    "                // At higher zoom levels, show all countries\n",
    "                label.style.display = 'block';\n",
    "                var fontSize = Math.max(baseFontSize * scaleFactor, 10);\n",
    "                label.style.fontSize = fontSize + 'px';\n",
    "            }\n",
    "            \n",
    "            // Make labels more visible at higher zoom levels\n",
    "            var opacity = Math.min(1, 0.7 + (zoomLevel - 2) * 0.1);\n",
    "            label.style.opacity = opacity.toString();\n",
    "        });\n",
    "    }\n",
    "    \n",
    "    // Function to completely remove all map features\n",
    "    function removeAllFeatures() {\n",
    "        var map = document.querySelector('.folium-map')._leaflet_map;\n",
    "        if (map) {\n",
    "            var layersToRemove = [];\n",
    "            \n",
    "            // Collect all layers that need to be removed\n",
    "            map.eachLayer(function(layer) {\n",
    "                // Keep only the base tile layer\n",
    "                if (!layer._url) {\n",
    "                    layersToRemove.push(layer);\n",
    "                }\n",
    "            });\n",
    "            \n",
    "            // Remove all collected layers\n",
    "            layersToRemove.forEach(function(layer) {\n",
    "                map.removeLayer(layer);\n",
    "            });\n",
    "            \n",
    "            // Remove any lingering markers or labels\n",
    "            var markerElements = document.querySelectorAll('.leaflet-marker-pane .leaflet-marker-icon');\n",
    "            markerElements.forEach(function(element) {\n",
    "                element.remove();\n",
    "            });\n",
    "            \n",
    "            // Clear tooltip pane\n",
    "            var tooltipElements = document.querySelectorAll('.leaflet-tooltip-pane .leaflet-tooltip');\n",
    "            tooltipElements.forEach(function(element) {\n",
    "                element.remove();\n",
    "            });\n",
    "            \n",
    "            // Clear popup pane\n",
    "            var popupElements = document.querySelectorAll('.leaflet-popup-pane .leaflet-popup');\n",
    "            popupElements.forEach(function(element) {\n",
    "                element.remove();\n",
    "            });\n",
    "            \n",
    "            // Reset any previous geojson styles by removing all path elements\n",
    "            var svgElements = document.querySelectorAll('.leaflet-overlay-pane svg');\n",
    "            svgElements.forEach(function(svg) {\n",
    "                var paths = svg.querySelectorAll('path');\n",
    "                paths.forEach(function(path) {\n",
    "                    path.remove();\n",
    "                });\n",
    "            });\n",
    "        }\n",
    "    }\n",
    "    \n",
    "    // Function to force layer recreation\n",
    "    function forceLayerReload(metricName) {\n",
    "        // Save current map view\n",
    "        var map = document.querySelector('.folium-map')._leaflet_map;\n",
    "        var center = map.getCenter();\n",
    "        var zoom = map.getZoom();\n",
    "        \n",
    "        // First, completely remove all features\n",
    "        removeAllFeatures();\n",
    "        \n",
    "        // Wait for removal to complete\n",
    "        setTimeout(function() {\n",
    "            // Uncheck all checkboxes\n",
    "            var layerControls = document.querySelectorAll('.leaflet-control-layers-overlays input[type=\"checkbox\"]');\n",
    "            layerControls.forEach(function(checkbox) {\n",
    "                checkbox.checked = false;\n",
    "            });\n",
    "            \n",
    "            // Wait a bit more\n",
    "            setTimeout(function() {\n",
    "                // Click the correct checkbox to recreate the layer\n",
    "                layerControls.forEach(function(checkbox) {\n",
    "                    var labelText = checkbox.nextElementSibling.textContent.trim();\n",
    "                    if (labelText === metricName) {\n",
    "                        checkbox.checked = true;\n",
    "                        // Trigger the change event manually\n",
    "                        var event = new Event('change', { bubbles: true });\n",
    "                        checkbox.dispatchEvent(event);\n",
    "                    }\n",
    "                });\n",
    "                \n",
    "                // Restore map view\n",
    "                setTimeout(function() {\n",
    "                    map.setView(center, zoom);\n",
    "                }, 300);\n",
    "            }, 150);\n",
    "        }, 100);\n",
    "    }\n",
    "    \n",
    "    // Set default colorbar and title\n",
    "    setTimeout(function() {\n",
    "        // Check if we have a stored layer selection\n",
    "        var storedLayer = sessionStorage.getItem('selectedLayer');\n",
    "        var defaultLayer = storedLayer || '\"\"\" + default_title + \"\"\"';\n",
    "        \n",
    "        // Set the initial colorbar\n",
    "        updateColorbarAndTitle(defaultLayer);\n",
    "        \n",
    "        // Get map instance\n",
    "        var map = document.querySelector('.folium-map')._leaflet_map;\n",
    "        if (map) {\n",
    "            // Initial update of label sizes\n",
    "            updateCountryLabels(map.getZoom());\n",
    "            \n",
    "            // Listen for zoom changes\n",
    "            map.on('zoomend', function() {\n",
    "                updateCountryLabels(map.getZoom());\n",
    "            });\n",
    "        }\n",
    "        \n",
    "        // Add event listeners to layer control checkboxes after they're fully loaded\n",
    "        var checkInterval = setInterval(function() {\n",
    "            var layerControls = document.querySelectorAll('.leaflet-control-layers-overlays input[type=\"checkbox\"]');\n",
    "            if (layerControls.length > 0) {\n",
    "                clearInterval(checkInterval);\n",
    "                \n",
    "                layerControls.forEach(function(checkbox) {\n",
    "                    checkbox.addEventListener('change', function() {\n",
    "                        if (this.checked) {\n",
    "                            // Get the layer name from the next element (the label)\n",
    "                            var layerName = this.nextElementSibling.textContent.trim();\n",
    "                            \n",
    "                            // Store the selected layer name\n",
    "                            sessionStorage.setItem('selectedLayer', layerName);\n",
    "                            \n",
    "                            // Uncheck all other checkboxes immediately\n",
    "                            layerControls.forEach(function(cb) {\n",
    "                                if (cb !== checkbox && cb.checked) {\n",
    "                                    cb.checked = false;\n",
    "                                }\n",
    "                            });\n",
    "                            \n",
    "                            // Update colorbar and title\n",
    "                            updateColorbarAndTitle(layerName);\n",
    "                            \n",
    "                            // Force complete reload with slight delay\n",
    "                            setTimeout(function() {\n",
    "                                forceLayerReload(layerName);\n",
    "                            }, 50);\n",
    "                        }\n",
    "                    });\n",
    "                });\n",
    "            }\n",
    "        }, 200);\n",
    "    }, 1000);\n",
    "})();\n",
    "</script>\n",
    "\"\"\"\n",
    "\n",
    "world_map.get_root().html.add_child(folium.Element(js_code))\n",
    "\n",
    "# Add CSS to make the map fill the container\n",
    "css = \"\"\"\n",
    "<style>\n",
    ".folium-map {\n",
    "    width: 100%;\n",
    "    height: 100vh;\n",
    "    position: absolute;\n",
    "    top: 0;\n",
    "    left: 0;\n",
    "}\n",
    ".country-label {\n",
    "    white-space: nowrap;\n",
    "    pointer-events: none;\n",
    "    text-align: center;\n",
    "    transition: font-size 0.2s ease;\n",
    "}\n",
    ".leaflet-tooltip {\n",
    "    font-family: Arial, sans-serif;\n",
    "}\n",
    "/* Better contrast for country labels */\n",
    ".country-label {\n",
    "    text-shadow: \n",
    "        -1px -1px 0 #fff,\n",
    "        1px -1px 0 #fff,\n",
    "        -1px 1px 0 #fff,\n",
    "        1px 1px 0 #fff,\n",
    "        0 -2px 0 #fff,\n",
    "        0 2px 0 #fff,\n",
    "        -2px 0 0 #fff,\n",
    "        2px 0 0 #fff;\n",
    "    font-weight: bold;\n",
    "}\n",
    "</style>\n",
    "\"\"\"\n",
    "\n",
    "world_map.get_root().html.add_child(folium.Element(css))\n",
    "\n",
    "# Save the map as an HTML file\n",
    "world_map.save('global_cost_of_living_map.html')\n",
    "\n",
    "# Display the map Does not work for you since TripAdviso dataset is too large to have in github which means you can not run the code since it won't find the dataset\n",
    "world_map"
   ]
  },
  {
   "cell_type": "markdown",
   "id": "3c7e900b",
   "metadata": {},
   "source": [
    "### Correlation Matrix - Tourism Destination Factors"
   ]
  },
  {
   "cell_type": "code",
   "execution_count": 22,
   "id": "3186dc7b",
   "metadata": {},
   "outputs": [
    {
     "name": "stdout",
     "output_type": "stream",
     "text": [
      "\n",
      "Key Correlations (sorted by strength):\n",
      "                Metric 1            Metric 2  Correlation  Countries\n",
      "3   Cost of Living Index     Groceries Index     0.946954        139\n",
      "5   Cost of Living Index   Restaurant Prices     0.916608        139\n",
      "1   Cost of Living Index          Rent Index     0.858366        139\n",
      "19       Groceries Index   Restaurant Prices     0.837287        139\n",
      "14            Rent Index   Restaurant Prices     0.785055        139\n",
      "12            Rent Index     Groceries Index     0.780299        139\n",
      "10    Global Peace Index   Restaurant Prices    -0.524321        119\n",
      "0   Cost of Living Index  Global Peace Index    -0.523900        119\n",
      "16      Temperature (°C)  CO2 Emissions (kg)     0.512394         94\n",
      "8     Global Peace Index     Groceries Index    -0.508812        119\n"
     ]
    },
    {
     "data": {
      "application/vnd.plotly.v1+json": {
       "config": {
        "plotlyServerURL": "https://plot.ly"
       },
       "data": [
        {
         "colorbar": {
          "tickfont": {
           "size": 9
          },
          "title": {
           "text": "Correlation"
          }
         },
         "colorscale": [
          [
           0,
           "rgb(103,0,31)"
          ],
          [
           0.1,
           "rgb(178,24,43)"
          ],
          [
           0.2,
           "rgb(214,96,77)"
          ],
          [
           0.3,
           "rgb(244,165,130)"
          ],
          [
           0.4,
           "rgb(253,219,199)"
          ],
          [
           0.5,
           "rgb(247,247,247)"
          ],
          [
           0.6,
           "rgb(209,229,240)"
          ],
          [
           0.7,
           "rgb(146,197,222)"
          ],
          [
           0.8,
           "rgb(67,147,195)"
          ],
          [
           0.9,
           "rgb(33,102,172)"
          ],
          [
           1,
           "rgb(5,48,97)"
          ]
         ],
         "text": {
          "bdata": "AAAAAAAA8D/4U+Olm8Tgv9v5fmq8dOs/fT81XrpJ1L/n+6nx0k3uP6RwPQrXo9C/8tJNYhBY7T/4U+Olm8TgvwAAAAAAAPA/BoGVQ4ts379xPQrXo3DdP30/NV66SeC/gZVDi2znyz/4U+Olm8Tgv9v5fmq8dOs/BoGVQ4ts378AAAAAAADwP/LSTWIQWMm/9ihcj8L16D+e76fGSzfJvx+F61G4Huk/fT81XrpJ1L9xPQrXo3DdP/LSTWIQWMm/AAAAAAAA8D81XrpJDALTv/yp8dJNYuA/H4XrUbge3b/n+6nx0k3uP30/NV66SeC/9ihcj8L16D81XrpJDALTvwAAAAAAAPA/L90kBoGVw79iEFg5tMjqP6RwPQrXo9C/gZVDi2znyz+e76fGSzfJv/yp8dJNYuA/L90kBoGVw78AAAAAAADwPwaBlUOLbNe/8tJNYhBY7T/4U+Olm8Tgvx+F61G4Huk/H4XrUbge3b9iEFg5tMjqPwaBlUOLbNe/AAAAAAAA8D8=",
          "dtype": "f8",
          "shape": "7, 7"
         },
         "textfont": {
          "size": 9
         },
         "texttemplate": "%{text}",
         "type": "heatmap",
         "x": [
          "Cost of Living Index",
          "Global Peace Index",
          "Rent Index",
          "Temperature (°C)",
          "Groceries Index",
          "CO2 Emissions (kg)",
          "Restaurant Prices"
         ],
         "y": [
          "Cost of Living Index",
          "Global Peace Index",
          "Rent Index",
          "Temperature (°C)",
          "Groceries Index",
          "CO2 Emissions (kg)",
          "Restaurant Prices"
         ],
         "z": {
          "bdata": "AAAAAAAA8D9155Z+ysPgvwxBYny8d+s/RPqCkXlD1L/cqWACck3uPx2BiOrXqdC/yvmOAdpU7T9155Z+ysPgvwAAAAAAAPA/I9Yrb7xn37+k9JEg2WvdP87LW+QwSOC/0EoBQ1Dxyz9urcPPPMfgvwxBYny8d+s/I9Yrb7xn378AAAAAAADwP0A+4isVUsm/Ot3WBzb46D9vbPBy3ivJv9vtEGIsH+k/RPqCkXlD1L+k9JEg2WvdP0A+4isVUsm/AAAAAAAA8D9wZzOUFf/Sv32UDQWIZeA/9veVVJge3b/cqWACck3uP87LW+QwSOC/Ot3WBzb46D9wZzOUFf/SvwAAAAAAAPA/9PwW+HKIw7+O/lWADsvqPx2BiOrXqdC/0EoBQ1Dxyz9vbPBy3ivJv32UDQWIZeA/9PwW+HKIw78AAAAAAADwPx/jwDt1cNe/yvmOAdpU7T9urcPPPMfgv9vtEGIsH+k/9veVVJge3b+O/lWADsvqPx/jwDt1cNe/AAAAAAAA8D8=",
          "dtype": "f8",
          "shape": "7, 7"
         },
         "zmid": 0
        }
       ],
       "layout": {
        "autosize": true,
        "font": {
         "size": 10
        },
        "margin": {
         "b": 100,
         "l": 130,
         "pad": 4,
         "r": 50,
         "t": 60
        },
        "template": {
         "data": {
          "bar": [
           {
            "error_x": {
             "color": "#2a3f5f"
            },
            "error_y": {
             "color": "#2a3f5f"
            },
            "marker": {
             "line": {
              "color": "#E5ECF6",
              "width": 0.5
             },
             "pattern": {
              "fillmode": "overlay",
              "size": 10,
              "solidity": 0.2
             }
            },
            "type": "bar"
           }
          ],
          "barpolar": [
           {
            "marker": {
             "line": {
              "color": "#E5ECF6",
              "width": 0.5
             },
             "pattern": {
              "fillmode": "overlay",
              "size": 10,
              "solidity": 0.2
             }
            },
            "type": "barpolar"
           }
          ],
          "carpet": [
           {
            "aaxis": {
             "endlinecolor": "#2a3f5f",
             "gridcolor": "white",
             "linecolor": "white",
             "minorgridcolor": "white",
             "startlinecolor": "#2a3f5f"
            },
            "baxis": {
             "endlinecolor": "#2a3f5f",
             "gridcolor": "white",
             "linecolor": "white",
             "minorgridcolor": "white",
             "startlinecolor": "#2a3f5f"
            },
            "type": "carpet"
           }
          ],
          "choropleth": [
           {
            "colorbar": {
             "outlinewidth": 0,
             "ticks": ""
            },
            "type": "choropleth"
           }
          ],
          "contour": [
           {
            "colorbar": {
             "outlinewidth": 0,
             "ticks": ""
            },
            "colorscale": [
             [
              0,
              "#0d0887"
             ],
             [
              0.1111111111111111,
              "#46039f"
             ],
             [
              0.2222222222222222,
              "#7201a8"
             ],
             [
              0.3333333333333333,
              "#9c179e"
             ],
             [
              0.4444444444444444,
              "#bd3786"
             ],
             [
              0.5555555555555556,
              "#d8576b"
             ],
             [
              0.6666666666666666,
              "#ed7953"
             ],
             [
              0.7777777777777778,
              "#fb9f3a"
             ],
             [
              0.8888888888888888,
              "#fdca26"
             ],
             [
              1,
              "#f0f921"
             ]
            ],
            "type": "contour"
           }
          ],
          "contourcarpet": [
           {
            "colorbar": {
             "outlinewidth": 0,
             "ticks": ""
            },
            "type": "contourcarpet"
           }
          ],
          "heatmap": [
           {
            "colorbar": {
             "outlinewidth": 0,
             "ticks": ""
            },
            "colorscale": [
             [
              0,
              "#0d0887"
             ],
             [
              0.1111111111111111,
              "#46039f"
             ],
             [
              0.2222222222222222,
              "#7201a8"
             ],
             [
              0.3333333333333333,
              "#9c179e"
             ],
             [
              0.4444444444444444,
              "#bd3786"
             ],
             [
              0.5555555555555556,
              "#d8576b"
             ],
             [
              0.6666666666666666,
              "#ed7953"
             ],
             [
              0.7777777777777778,
              "#fb9f3a"
             ],
             [
              0.8888888888888888,
              "#fdca26"
             ],
             [
              1,
              "#f0f921"
             ]
            ],
            "type": "heatmap"
           }
          ],
          "histogram": [
           {
            "marker": {
             "pattern": {
              "fillmode": "overlay",
              "size": 10,
              "solidity": 0.2
             }
            },
            "type": "histogram"
           }
          ],
          "histogram2d": [
           {
            "colorbar": {
             "outlinewidth": 0,
             "ticks": ""
            },
            "colorscale": [
             [
              0,
              "#0d0887"
             ],
             [
              0.1111111111111111,
              "#46039f"
             ],
             [
              0.2222222222222222,
              "#7201a8"
             ],
             [
              0.3333333333333333,
              "#9c179e"
             ],
             [
              0.4444444444444444,
              "#bd3786"
             ],
             [
              0.5555555555555556,
              "#d8576b"
             ],
             [
              0.6666666666666666,
              "#ed7953"
             ],
             [
              0.7777777777777778,
              "#fb9f3a"
             ],
             [
              0.8888888888888888,
              "#fdca26"
             ],
             [
              1,
              "#f0f921"
             ]
            ],
            "type": "histogram2d"
           }
          ],
          "histogram2dcontour": [
           {
            "colorbar": {
             "outlinewidth": 0,
             "ticks": ""
            },
            "colorscale": [
             [
              0,
              "#0d0887"
             ],
             [
              0.1111111111111111,
              "#46039f"
             ],
             [
              0.2222222222222222,
              "#7201a8"
             ],
             [
              0.3333333333333333,
              "#9c179e"
             ],
             [
              0.4444444444444444,
              "#bd3786"
             ],
             [
              0.5555555555555556,
              "#d8576b"
             ],
             [
              0.6666666666666666,
              "#ed7953"
             ],
             [
              0.7777777777777778,
              "#fb9f3a"
             ],
             [
              0.8888888888888888,
              "#fdca26"
             ],
             [
              1,
              "#f0f921"
             ]
            ],
            "type": "histogram2dcontour"
           }
          ],
          "mesh3d": [
           {
            "colorbar": {
             "outlinewidth": 0,
             "ticks": ""
            },
            "type": "mesh3d"
           }
          ],
          "parcoords": [
           {
            "line": {
             "colorbar": {
              "outlinewidth": 0,
              "ticks": ""
             }
            },
            "type": "parcoords"
           }
          ],
          "pie": [
           {
            "automargin": true,
            "type": "pie"
           }
          ],
          "scatter": [
           {
            "fillpattern": {
             "fillmode": "overlay",
             "size": 10,
             "solidity": 0.2
            },
            "type": "scatter"
           }
          ],
          "scatter3d": [
           {
            "line": {
             "colorbar": {
              "outlinewidth": 0,
              "ticks": ""
             }
            },
            "marker": {
             "colorbar": {
              "outlinewidth": 0,
              "ticks": ""
             }
            },
            "type": "scatter3d"
           }
          ],
          "scattercarpet": [
           {
            "marker": {
             "colorbar": {
              "outlinewidth": 0,
              "ticks": ""
             }
            },
            "type": "scattercarpet"
           }
          ],
          "scattergeo": [
           {
            "marker": {
             "colorbar": {
              "outlinewidth": 0,
              "ticks": ""
             }
            },
            "type": "scattergeo"
           }
          ],
          "scattergl": [
           {
            "marker": {
             "colorbar": {
              "outlinewidth": 0,
              "ticks": ""
             }
            },
            "type": "scattergl"
           }
          ],
          "scattermap": [
           {
            "marker": {
             "colorbar": {
              "outlinewidth": 0,
              "ticks": ""
             }
            },
            "type": "scattermap"
           }
          ],
          "scattermapbox": [
           {
            "marker": {
             "colorbar": {
              "outlinewidth": 0,
              "ticks": ""
             }
            },
            "type": "scattermapbox"
           }
          ],
          "scatterpolar": [
           {
            "marker": {
             "colorbar": {
              "outlinewidth": 0,
              "ticks": ""
             }
            },
            "type": "scatterpolar"
           }
          ],
          "scatterpolargl": [
           {
            "marker": {
             "colorbar": {
              "outlinewidth": 0,
              "ticks": ""
             }
            },
            "type": "scatterpolargl"
           }
          ],
          "scatterternary": [
           {
            "marker": {
             "colorbar": {
              "outlinewidth": 0,
              "ticks": ""
             }
            },
            "type": "scatterternary"
           }
          ],
          "surface": [
           {
            "colorbar": {
             "outlinewidth": 0,
             "ticks": ""
            },
            "colorscale": [
             [
              0,
              "#0d0887"
             ],
             [
              0.1111111111111111,
              "#46039f"
             ],
             [
              0.2222222222222222,
              "#7201a8"
             ],
             [
              0.3333333333333333,
              "#9c179e"
             ],
             [
              0.4444444444444444,
              "#bd3786"
             ],
             [
              0.5555555555555556,
              "#d8576b"
             ],
             [
              0.6666666666666666,
              "#ed7953"
             ],
             [
              0.7777777777777778,
              "#fb9f3a"
             ],
             [
              0.8888888888888888,
              "#fdca26"
             ],
             [
              1,
              "#f0f921"
             ]
            ],
            "type": "surface"
           }
          ],
          "table": [
           {
            "cells": {
             "fill": {
              "color": "#EBF0F8"
             },
             "line": {
              "color": "white"
             }
            },
            "header": {
             "fill": {
              "color": "#C8D4E3"
             },
             "line": {
              "color": "white"
             }
            },
            "type": "table"
           }
          ]
         },
         "layout": {
          "annotationdefaults": {
           "arrowcolor": "#2a3f5f",
           "arrowhead": 0,
           "arrowwidth": 1
          },
          "autotypenumbers": "strict",
          "coloraxis": {
           "colorbar": {
            "outlinewidth": 0,
            "ticks": ""
           }
          },
          "colorscale": {
           "diverging": [
            [
             0,
             "#8e0152"
            ],
            [
             0.1,
             "#c51b7d"
            ],
            [
             0.2,
             "#de77ae"
            ],
            [
             0.3,
             "#f1b6da"
            ],
            [
             0.4,
             "#fde0ef"
            ],
            [
             0.5,
             "#f7f7f7"
            ],
            [
             0.6,
             "#e6f5d0"
            ],
            [
             0.7,
             "#b8e186"
            ],
            [
             0.8,
             "#7fbc41"
            ],
            [
             0.9,
             "#4d9221"
            ],
            [
             1,
             "#276419"
            ]
           ],
           "sequential": [
            [
             0,
             "#0d0887"
            ],
            [
             0.1111111111111111,
             "#46039f"
            ],
            [
             0.2222222222222222,
             "#7201a8"
            ],
            [
             0.3333333333333333,
             "#9c179e"
            ],
            [
             0.4444444444444444,
             "#bd3786"
            ],
            [
             0.5555555555555556,
             "#d8576b"
            ],
            [
             0.6666666666666666,
             "#ed7953"
            ],
            [
             0.7777777777777778,
             "#fb9f3a"
            ],
            [
             0.8888888888888888,
             "#fdca26"
            ],
            [
             1,
             "#f0f921"
            ]
           ],
           "sequentialminus": [
            [
             0,
             "#0d0887"
            ],
            [
             0.1111111111111111,
             "#46039f"
            ],
            [
             0.2222222222222222,
             "#7201a8"
            ],
            [
             0.3333333333333333,
             "#9c179e"
            ],
            [
             0.4444444444444444,
             "#bd3786"
            ],
            [
             0.5555555555555556,
             "#d8576b"
            ],
            [
             0.6666666666666666,
             "#ed7953"
            ],
            [
             0.7777777777777778,
             "#fb9f3a"
            ],
            [
             0.8888888888888888,
             "#fdca26"
            ],
            [
             1,
             "#f0f921"
            ]
           ]
          },
          "colorway": [
           "#636efa",
           "#EF553B",
           "#00cc96",
           "#ab63fa",
           "#FFA15A",
           "#19d3f3",
           "#FF6692",
           "#B6E880",
           "#FF97FF",
           "#FECB52"
          ],
          "font": {
           "color": "#2a3f5f"
          },
          "geo": {
           "bgcolor": "white",
           "lakecolor": "white",
           "landcolor": "#E5ECF6",
           "showlakes": true,
           "showland": true,
           "subunitcolor": "white"
          },
          "hoverlabel": {
           "align": "left"
          },
          "hovermode": "closest",
          "mapbox": {
           "style": "light"
          },
          "paper_bgcolor": "white",
          "plot_bgcolor": "#E5ECF6",
          "polar": {
           "angularaxis": {
            "gridcolor": "white",
            "linecolor": "white",
            "ticks": ""
           },
           "bgcolor": "#E5ECF6",
           "radialaxis": {
            "gridcolor": "white",
            "linecolor": "white",
            "ticks": ""
           }
          },
          "scene": {
           "xaxis": {
            "backgroundcolor": "#E5ECF6",
            "gridcolor": "white",
            "gridwidth": 2,
            "linecolor": "white",
            "showbackground": true,
            "ticks": "",
            "zerolinecolor": "white"
           },
           "yaxis": {
            "backgroundcolor": "#E5ECF6",
            "gridcolor": "white",
            "gridwidth": 2,
            "linecolor": "white",
            "showbackground": true,
            "ticks": "",
            "zerolinecolor": "white"
           },
           "zaxis": {
            "backgroundcolor": "#E5ECF6",
            "gridcolor": "white",
            "gridwidth": 2,
            "linecolor": "white",
            "showbackground": true,
            "ticks": "",
            "zerolinecolor": "white"
           }
          },
          "shapedefaults": {
           "line": {
            "color": "#2a3f5f"
           }
          },
          "ternary": {
           "aaxis": {
            "gridcolor": "white",
            "linecolor": "white",
            "ticks": ""
           },
           "baxis": {
            "gridcolor": "white",
            "linecolor": "white",
            "ticks": ""
           },
           "bgcolor": "#E5ECF6",
           "caxis": {
            "gridcolor": "white",
            "linecolor": "white",
            "ticks": ""
           }
          },
          "title": {
           "x": 0.05
          },
          "xaxis": {
           "automargin": true,
           "gridcolor": "white",
           "linecolor": "white",
           "ticks": "",
           "title": {
            "standoff": 15
           },
           "zerolinecolor": "white",
           "zerolinewidth": 2
          },
          "yaxis": {
           "automargin": true,
           "gridcolor": "white",
           "linecolor": "white",
           "ticks": "",
           "title": {
            "standoff": 15
           },
           "zerolinecolor": "white",
           "zerolinewidth": 2
          }
         }
        },
        "title": {
         "font": {
          "size": 14
         },
         "text": "Correlation Matrix - Tourism Destination Factors",
         "x": 0.5
        },
        "xaxis": {
         "tickangle": -45,
         "tickfont": {
          "size": 9
         },
         "title": {
          "text": ""
         }
        },
        "yaxis": {
         "tickfont": {
          "size": 9
         },
         "title": {
          "text": ""
         }
        }
       }
      }
     },
     "metadata": {},
     "output_type": "display_data"
    },
    {
     "name": "stdout",
     "output_type": "stream",
     "text": [
      "\n",
      "Correlation heatmap saved as '../assets/correlation_heatmap.html'!\n"
     ]
    }
   ],
   "source": [
    "import pandas as pd\n",
    "import numpy as np\n",
    "import plotly.graph_objects as go\n",
    "import os\n",
    "\n",
    "# Load the data files\n",
    "cost_df = pd.read_csv(\"../data/CostOfLiving.csv\")\n",
    "gpi_df = pd.read_csv(\"../data/GPI.csv\")\n",
    "temp_df = pd.read_csv(\"../data/combined_temperature.csv\")\n",
    "CO2_df = pd.read_csv(\"../data/CO2Emission.csv\")\n",
    "\n",
    "# Clean and prepare the data\n",
    "cost_df.columns = cost_df.columns.str.strip()\n",
    "cost_df['Country'] = cost_df['Country'].str.strip()\n",
    "\n",
    "# Clean CO2 data\n",
    "CO2_df.columns = CO2_df.columns.str.strip()\n",
    "CO2_df['Country'] = CO2_df['Country'].str.strip()\n",
    "\n",
    "# Process temperature data\n",
    "temp_df_latest = temp_df.sort_values('Year').groupby('Country').last().reset_index()\n",
    "temp_df_latest = temp_df_latest[['Country', 'Annual Mean']]\n",
    "temp_df_latest.columns = ['Country', 'Annual_Mean_Temperature']\n",
    "\n",
    "# Process GPI data\n",
    "gpi_latest = gpi_df[['Country', '2023']]\n",
    "gpi_latest.columns = ['Country', 'GPI']\n",
    "\n",
    "# Simplified country name mapping\n",
    "country_name_map = {\n",
    "    'United States': 'United States',\n",
    "    'Russia': 'Russia',\n",
    "    'South Korea': 'South Korea',\n",
    "    'Bosnia And Herzegovina': 'Bosnia And Herzegovina',\n",
    "    'United Kingdom': 'United Kingdom',\n",
    "    'Czech Republic': 'Czech Republic',\n",
    "    'Dominican Republic': 'Dominican Republic',\n",
    "    'Costa Rica': 'Costa Rica',\n",
    "    'Saudi Arabia': 'Saudi Arabia',\n",
    "    'South Africa': 'South Africa',\n",
    "    'New Zealand': 'New Zealand',\n",
    "    'United Arab Emirates': 'United Arab Emirates',\n",
    "    'Trinidad And Tobago': 'Trinidad And Tobago',\n",
    "    'Papua New Guinea': 'Papua New Guinea'\n",
    "}\n",
    "\n",
    "# Create standardized country name column for each dataframe\n",
    "cost_df['Country_Mapped'] = cost_df['Country'].map(country_name_map).fillna(cost_df['Country'])\n",
    "gpi_latest['Country_Mapped'] = gpi_latest['Country'].map(country_name_map).fillna(gpi_latest['Country'])\n",
    "temp_df_latest['Country_Mapped'] = temp_df_latest['Country'].map(country_name_map).fillna(temp_df_latest['Country'])\n",
    "CO2_df['Country_Mapped'] = CO2_df['Country'].map(country_name_map).fillna(CO2_df['Country'])\n",
    "\n",
    "# Select only needed columns for each dataframe\n",
    "cost_cols = ['Country_Mapped', 'Cost of Living Index', 'Rent Index', 'Groceries Index', 'Restaurant Price Index']\n",
    "gpi_cols = ['Country_Mapped', 'GPI']\n",
    "temp_cols = ['Country_Mapped', 'Annual_Mean_Temperature']\n",
    "co2_cols = ['Country_Mapped', 'CO2'] # Assuming 'CO2' is the correct column name after stripping\n",
    "\n",
    "# Merge datasets step by step\n",
    "merged_df = cost_df[cost_cols].merge(gpi_latest[gpi_cols], on='Country_Mapped', how='outer')\n",
    "merged_df = merged_df.merge(temp_df_latest[temp_cols], on='Country_Mapped', how='outer')\n",
    "merged_df = merged_df.merge(CO2_df[co2_cols], on='Country_Mapped', how='outer')\n",
    "\n",
    "# Define metrics for correlation analysis\n",
    "available_metrics = [\n",
    "    ('Cost of Living Index', 'Cost of Living Index'),\n",
    "    ('GPI', 'Global Peace Index'),\n",
    "    ('Rent Index', 'Rent Index'),\n",
    "    ('Annual_Mean_Temperature', 'Temperature (°C)'),\n",
    "    ('Groceries Index', 'Groceries Index'),\n",
    "    ('CO2', 'CO2 Emissions (kg)'),\n",
    "    ('Restaurant Price Index', 'Restaurant Prices')\n",
    "]\n",
    "\n",
    "# Create a comprehensive correlation matrix\n",
    "metric_keys = [metric[0] for metric in available_metrics]\n",
    "# Ensure only existing columns are selected, especially after potential merge issues or if CO2 column name was different\n",
    "valid_metric_keys = [key for key in metric_keys if key in merged_df.columns]\n",
    "correlation_data = merged_df[valid_metric_keys].copy()\n",
    "\n",
    "\n",
    "# Calculate correlation matrix\n",
    "corr_matrix = correlation_data.corr()\n",
    "\n",
    "# Ensure metric names for x and y axes match the actual data used for corr_matrix\n",
    "heatmap_x_labels = [metric[1] for metric in available_metrics if metric[0] in valid_metric_keys]\n",
    "heatmap_y_labels = [metric[1] for metric in available_metrics if metric[0] in valid_metric_keys]\n",
    "\n",
    "\n",
    "# Create interactive correlation heatmap\n",
    "fig_heatmap = go.Figure(data=go.Heatmap(\n",
    "    z=corr_matrix.values,\n",
    "    x=heatmap_x_labels,\n",
    "    y=heatmap_y_labels,\n",
    "    colorscale='RdBu',\n",
    "    zmid=0,\n",
    "    text=np.round(corr_matrix.values, 3),\n",
    "    texttemplate='%{text}',\n",
    "    textfont={\"size\": 9}, # Slightly reduced for potentially tighter fit\n",
    "    colorbar=dict(title=dict(text=\"Correlation\"), tickfont=dict(size=9))\n",
    "))\n",
    "\n",
    "fig_heatmap.update_layout(\n",
    "    title=dict(\n",
    "        text='Correlation Matrix - Tourism Destination Factors',\n",
    "        x=0.5, # Center title\n",
    "        font=dict(size=14)\n",
    "    ),\n",
    "    xaxis_title='',\n",
    "    yaxis_title='',\n",
    "    autosize=True, # Key change: allow autosizing\n",
    "    # Remove fixed width and height to allow iframe to control it\n",
    "    # width=800, # Removed\n",
    "    # height=700, # Removed\n",
    "    margin=dict(l=130, r=50, t=60, b=100, pad=4), # Adjust margins: l(left), r(right), t(top), b(bottom)\n",
    "                                                # Increased left/bottom margin for potentially longer labels\n",
    "    font=dict(size=10) # General font size for axis titles etc.\n",
    ")\n",
    "fig_heatmap.update_xaxes(tickangle=-45, tickfont=dict(size=9)) # Angle labels to save space\n",
    "fig_heatmap.update_yaxes(tickfont=dict(size=9))\n",
    "\n",
    "\n",
    "# Show the heatmap (optional, for testing in script environment)\n",
    "# fig_heatmap.show()\n",
    "\n",
    "# Create a summary table of key correlations\n",
    "key_correlations = []\n",
    "for i, (metric1_key, metric1_name) in enumerate(available_metrics):\n",
    "    # Ensure metric1_key is in corr_matrix columns (i.e., was in valid_metric_keys)\n",
    "    if metric1_key not in corr_matrix.columns:\n",
    "        continue\n",
    "    for j, (metric2_key, metric2_name) in enumerate(available_metrics):\n",
    "        # Ensure metric2_key is in corr_matrix columns\n",
    "        if metric2_key not in corr_matrix.columns:\n",
    "            continue\n",
    "        if i < j:\n",
    "            valid_data = merged_df[\n",
    "                (merged_df[metric1_key].notna()) &\n",
    "                (merged_df[metric2_key].notna())\n",
    "            ]\n",
    "            if len(valid_data) > 10:  # Only show correlations with enough data points\n",
    "                # Ensure the correlation value exists in the matrix\n",
    "                if metric1_key in corr_matrix.index and metric2_key in corr_matrix.columns:\n",
    "                    correlation = corr_matrix.loc[metric1_key, metric2_key]\n",
    "                    key_correlations.append({\n",
    "                        'Metric 1': metric1_name,\n",
    "                        'Metric 2': metric2_name,\n",
    "                        'Correlation': correlation,\n",
    "                        'Countries': len(valid_data)\n",
    "                    })\n",
    "                else:\n",
    "                     print(f\"Warning: Could not find correlation between {metric1_key} and {metric2_key} in matrix.\")\n",
    "\n",
    "\n",
    "# Sort by absolute correlation value\n",
    "if key_correlations:\n",
    "    key_correlations_df = pd.DataFrame(key_correlations)\n",
    "    key_correlations_df['Abs_Correlation'] = key_correlations_df['Correlation'].abs()\n",
    "    key_correlations_df = key_correlations_df.sort_values('Abs_Correlation', ascending=False)\n",
    "\n",
    "    print(\"\\nKey Correlations (sorted by strength):\")\n",
    "    print(key_correlations_df[['Metric 1', 'Metric 2', 'Correlation', 'Countries']].head(10))\n",
    "\n",
    "# Save the heatmap\n",
    "# Ensure the target directory exists\n",
    "output_dir = '../assets'\n",
    "if not os.path.exists(output_dir):\n",
    "    os.makedirs(output_dir)\n",
    "    print(f\"Created directory: {output_dir}\")\n",
    "\n",
    "heatmap_path = os.path.join(output_dir, 'correlation_heatmap.html')\n",
    "fig_heatmap.write_html(heatmap_path, include_plotlyjs='cdn') # Using 'cdn' can reduce file size\n",
    "\n",
    "# Display the heatmap\n",
    "fig_heatmap.show()\n",
    "print(f\"\\nCorrelation heatmap saved as '{heatmap_path}'!\")"
   ]
  }
 ],
 "metadata": {
  "kernelspec": {
   "display_name": "social_graphs",
   "language": "python",
   "name": "python3"
  },
  "language_info": {
   "codemirror_mode": {
    "name": "ipython",
    "version": 3
   },
   "file_extension": ".py",
   "mimetype": "text/x-python",
   "name": "python",
   "nbconvert_exporter": "python",
   "pygments_lexer": "ipython3",
   "version": "3.11.11"
  }
 },
 "nbformat": 4,
 "nbformat_minor": 5
}
