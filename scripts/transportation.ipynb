{
 "cells": [
  {
   "cell_type": "markdown",
   "metadata": {},
   "source": [
    "# Imports"
   ]
  },
  {
   "cell_type": "code",
   "execution_count": 237,
   "metadata": {},
   "outputs": [],
   "source": [
    "import pandas as pd\n",
    "import numpy as np"
   ]
  },
  {
   "cell_type": "markdown",
   "metadata": {},
   "source": [
    "# Load Data"
   ]
  },
  {
   "cell_type": "code",
   "execution_count": 238,
   "metadata": {},
   "outputs": [],
   "source": [
    "data = pd.read_csv('../data/transportation_world.csv', encoding='unicode_escape', sep=';', header=None).drop(0, axis=1)\n",
    "data.columns = ['Duration', 'Type', 'Year', 'Vacations']\n",
    "data['Vacations'] = data['Vacations'].apply(lambda x: 0 if x=='..' else int(x))"
   ]
  },
  {
   "cell_type": "code",
   "execution_count": 239,
   "metadata": {},
   "outputs": [
    {
     "data": {
      "text/html": [
       "<div>\n",
       "<style scoped>\n",
       "    .dataframe tbody tr th:only-of-type {\n",
       "        vertical-align: middle;\n",
       "    }\n",
       "\n",
       "    .dataframe tbody tr th {\n",
       "        vertical-align: top;\n",
       "    }\n",
       "\n",
       "    .dataframe thead th {\n",
       "        text-align: right;\n",
       "    }\n",
       "</style>\n",
       "<table border=\"1\" class=\"dataframe\">\n",
       "  <thead>\n",
       "    <tr style=\"text-align: right;\">\n",
       "      <th></th>\n",
       "      <th>Duration</th>\n",
       "      <th>Type</th>\n",
       "      <th>Year</th>\n",
       "      <th>Vacations</th>\n",
       "    </tr>\n",
       "  </thead>\n",
       "  <tbody>\n",
       "    <tr>\n",
       "      <th>0</th>\n",
       "      <td>Mindre end fire overnatninger</td>\n",
       "      <td>Bil</td>\n",
       "      <td>2017</td>\n",
       "      <td>1074671</td>\n",
       "    </tr>\n",
       "    <tr>\n",
       "      <th>1</th>\n",
       "      <td>Mindre end fire overnatninger</td>\n",
       "      <td>Bil</td>\n",
       "      <td>2018</td>\n",
       "      <td>928717</td>\n",
       "    </tr>\n",
       "    <tr>\n",
       "      <th>2</th>\n",
       "      <td>Mindre end fire overnatninger</td>\n",
       "      <td>Bil</td>\n",
       "      <td>2019</td>\n",
       "      <td>779540</td>\n",
       "    </tr>\n",
       "    <tr>\n",
       "      <th>3</th>\n",
       "      <td>Mindre end fire overnatninger</td>\n",
       "      <td>Bil</td>\n",
       "      <td>2020</td>\n",
       "      <td>610632</td>\n",
       "    </tr>\n",
       "    <tr>\n",
       "      <th>4</th>\n",
       "      <td>Mindre end fire overnatninger</td>\n",
       "      <td>Bil</td>\n",
       "      <td>2021</td>\n",
       "      <td>477843</td>\n",
       "    </tr>\n",
       "    <tr>\n",
       "      <th>...</th>\n",
       "      <td>...</td>\n",
       "      <td>...</td>\n",
       "      <td>...</td>\n",
       "      <td>...</td>\n",
       "    </tr>\n",
       "    <tr>\n",
       "      <th>107</th>\n",
       "      <td>Mindst fire overnatninger</td>\n",
       "      <td>Andre transportmidler</td>\n",
       "      <td>2019</td>\n",
       "      <td>28908</td>\n",
       "    </tr>\n",
       "    <tr>\n",
       "      <th>108</th>\n",
       "      <td>Mindst fire overnatninger</td>\n",
       "      <td>Andre transportmidler</td>\n",
       "      <td>2020</td>\n",
       "      <td>5348</td>\n",
       "    </tr>\n",
       "    <tr>\n",
       "      <th>109</th>\n",
       "      <td>Mindst fire overnatninger</td>\n",
       "      <td>Andre transportmidler</td>\n",
       "      <td>2021</td>\n",
       "      <td>3896</td>\n",
       "    </tr>\n",
       "    <tr>\n",
       "      <th>110</th>\n",
       "      <td>Mindst fire overnatninger</td>\n",
       "      <td>Andre transportmidler</td>\n",
       "      <td>2022</td>\n",
       "      <td>20914</td>\n",
       "    </tr>\n",
       "    <tr>\n",
       "      <th>111</th>\n",
       "      <td>Mindst fire overnatninger</td>\n",
       "      <td>Andre transportmidler</td>\n",
       "      <td>2023</td>\n",
       "      <td>12400</td>\n",
       "    </tr>\n",
       "  </tbody>\n",
       "</table>\n",
       "<p>112 rows × 4 columns</p>\n",
       "</div>"
      ],
      "text/plain": [
       "                          Duration                   Type  Year  Vacations\n",
       "0    Mindre end fire overnatninger                    Bil  2017    1074671\n",
       "1    Mindre end fire overnatninger                    Bil  2018     928717\n",
       "2    Mindre end fire overnatninger                    Bil  2019     779540\n",
       "3    Mindre end fire overnatninger                    Bil  2020     610632\n",
       "4    Mindre end fire overnatninger                    Bil  2021     477843\n",
       "..                             ...                    ...   ...        ...\n",
       "107      Mindst fire overnatninger  Andre transportmidler  2019      28908\n",
       "108      Mindst fire overnatninger  Andre transportmidler  2020       5348\n",
       "109      Mindst fire overnatninger  Andre transportmidler  2021       3896\n",
       "110      Mindst fire overnatninger  Andre transportmidler  2022      20914\n",
       "111      Mindst fire overnatninger  Andre transportmidler  2023      12400\n",
       "\n",
       "[112 rows x 4 columns]"
      ]
     },
     "execution_count": 239,
     "metadata": {},
     "output_type": "execute_result"
    }
   ],
   "source": [
    "data"
   ]
  },
  {
   "cell_type": "code",
   "execution_count": 240,
   "metadata": {},
   "outputs": [],
   "source": [
    "data_long = data[data['Duration'] == 'Mindst fire overnatninger'].drop('Duration', axis=1)"
   ]
  },
  {
   "cell_type": "markdown",
   "metadata": {},
   "source": [
    "# Transportation across time and type"
   ]
  },
  {
   "cell_type": "code",
   "execution_count": 241,
   "metadata": {},
   "outputs": [],
   "source": [
    "data_long = data_long.pivot(index='Year', columns='Type', values='Vacations')\n",
    "data_long = data_long.reset_index().drop(['Cykel', 'Sejlbåd'], axis=1)\n",
    "data_long = data_long.rename_axis(None, axis=1)\n",
    "data_long['Year'] = data_long['Year'].astype(str)\n",
    "data_long = data_long[['Year','Fly', 'Bil', 'Tog', 'Skib', 'Bus', 'Andre transportmidler']]"
   ]
  },
  {
   "cell_type": "code",
   "execution_count": 242,
   "metadata": {},
   "outputs": [],
   "source": [
    "data_long = data_long.rename(columns={'Bil': 'Car', 'Tog': 'Train', 'Skib': 'Ship', 'Fly': 'Airplane', 'Andre transportmidler': 'Other forms of transportation'})"
   ]
  },
  {
   "cell_type": "code",
   "execution_count": 243,
   "metadata": {},
   "outputs": [
    {
     "data": {
      "text/plain": [
       "['Airplane', 'Car', 'Train', 'Ship', 'Bus', 'Other forms of transportation']"
      ]
     },
     "execution_count": 243,
     "metadata": {},
     "output_type": "execute_result"
    }
   ],
   "source": [
    "transportation_types = list(data_long.columns[1:])\n",
    "transportation_types"
   ]
  },
  {
   "cell_type": "code",
   "execution_count": 244,
   "metadata": {},
   "outputs": [
    {
     "data": {
      "text/html": [
       "\n",
       "  <div id=\"a62d86e3-ba16-4190-87be-0be1b014b8d9\" data-root-id=\"p5656\" style=\"display: contents;\"></div>\n"
      ]
     },
     "metadata": {},
     "output_type": "display_data"
    },
    {
     "data": {
      "application/javascript": "(function(root) {\n  function embed_document(root) {\n  const docs_json = {\"461ec9b9-c84a-4388-82cb-e42ea772c0d9\":{\"version\":\"3.6.3\",\"title\":\"Bokeh Application\",\"roots\":[{\"type\":\"object\",\"name\":\"Figure\",\"id\":\"p5656\",\"attributes\":{\"width\":900,\"x_range\":{\"type\":\"object\",\"name\":\"FactorRange\",\"id\":\"p5666\",\"attributes\":{\"factors\":[\"2017\",\"2018\",\"2019\",\"2020\",\"2021\",\"2022\",\"2023\"]}},\"y_range\":{\"type\":\"object\",\"name\":\"DataRange1d\",\"id\":\"p5658\",\"attributes\":{\"start\":0}},\"x_scale\":{\"type\":\"object\",\"name\":\"CategoricalScale\",\"id\":\"p5667\"},\"y_scale\":{\"type\":\"object\",\"name\":\"LinearScale\",\"id\":\"p5668\"},\"title\":{\"type\":\"object\",\"name\":\"Title\",\"id\":\"p5659\",\"attributes\":{\"text\":\"Forms of transport for vacation\"}},\"outline_line_color\":null,\"renderers\":[{\"type\":\"object\",\"name\":\"GlyphRenderer\",\"id\":\"p5698\",\"attributes\":{\"name\":\"Airplane\",\"data_source\":{\"type\":\"object\",\"name\":\"ColumnDataSource\",\"id\":\"p5653\",\"attributes\":{\"selected\":{\"type\":\"object\",\"name\":\"Selection\",\"id\":\"p5654\",\"attributes\":{\"indices\":[],\"line_indices\":[]}},\"selection_policy\":{\"type\":\"object\",\"name\":\"UnionRenderers\",\"id\":\"p5655\"},\"data\":{\"type\":\"map\",\"entries\":[[\"index\",{\"type\":\"ndarray\",\"array\":{\"type\":\"bytes\",\"data\":\"AAAAAAEAAAACAAAAAwAAAAQAAAAFAAAABgAAAA==\"},\"shape\":[7],\"dtype\":\"int32\",\"order\":\"little\"}],[\"Year\",{\"type\":\"ndarray\",\"array\":[\"2017\",\"2018\",\"2019\",\"2020\",\"2021\",\"2022\",\"2023\"],\"shape\":[7],\"dtype\":\"object\",\"order\":\"little\"}],[\"Airplane\",{\"type\":\"ndarray\",\"array\":{\"type\":\"bytes\",\"data\":\"iukzALB6NwCt8DIAakMZAGZbFABJXicAIX0rAA==\"},\"shape\":[7],\"dtype\":\"int32\",\"order\":\"little\"}],[\"Car\",{\"type\":\"ndarray\",\"array\":{\"type\":\"bytes\",\"data\":\"osQPAMAvCgD5RhAAl+0MAGP2BwDC4Q4Ai7EPAA==\"},\"shape\":[7],\"dtype\":\"int32\",\"order\":\"little\"}],[\"Train\",{\"type\":\"ndarray\",\"array\":{\"type\":\"bytes\",\"data\":\"V88AAI1DAADGHgEA0FkBAFFkAQDSBgIAFMQBAA==\"},\"shape\":[7],\"dtype\":\"int32\",\"order\":\"little\"}],[\"Ship\",{\"type\":\"ndarray\",\"array\":{\"type\":\"bytes\",\"data\":\"/lcBAIDzAADkSgIASdsBALPlAAAYKQIA/3oBAA==\"},\"shape\":[7],\"dtype\":\"int32\",\"order\":\"little\"}],[\"Bus\",{\"type\":\"ndarray\",\"array\":{\"type\":\"bytes\",\"data\":\"xxUDAMW1AQBtVwMASwcCACywAACZQgIAc4cCAA==\"},\"shape\":[7],\"dtype\":\"int32\",\"order\":\"little\"}],[\"Other forms of transportation\",{\"type\":\"ndarray\",\"array\":{\"type\":\"bytes\",\"data\":\"bwkAAO4aAADscAAA5BQAADgPAACyUQAAcDAAAA==\"},\"shape\":[7],\"dtype\":\"int32\",\"order\":\"little\"}]]}}},\"view\":{\"type\":\"object\",\"name\":\"CDSView\",\"id\":\"p5699\",\"attributes\":{\"filter\":{\"type\":\"object\",\"name\":\"AllIndices\",\"id\":\"p5700\"}}},\"glyph\":{\"type\":\"object\",\"name\":\"VBar\",\"id\":\"p5695\",\"attributes\":{\"x\":{\"type\":\"field\",\"field\":\"Year\"},\"width\":{\"type\":\"value\",\"value\":0.9},\"bottom\":{\"type\":\"expr\",\"expr\":{\"type\":\"object\",\"name\":\"Stack\",\"id\":\"p5680\",\"attributes\":{\"fields\":[]}}},\"top\":{\"type\":\"expr\",\"expr\":{\"type\":\"object\",\"name\":\"Stack\",\"id\":\"p5681\",\"attributes\":{\"fields\":[\"Airplane\"]}}},\"line_color\":{\"type\":\"value\",\"value\":\"#1f77b4\"},\"fill_color\":{\"type\":\"value\",\"value\":\"#1f77b4\"},\"hatch_color\":{\"type\":\"value\",\"value\":\"#1f77b4\"}}},\"nonselection_glyph\":{\"type\":\"object\",\"name\":\"VBar\",\"id\":\"p5696\",\"attributes\":{\"x\":{\"type\":\"field\",\"field\":\"Year\"},\"width\":{\"type\":\"value\",\"value\":0.9},\"bottom\":{\"type\":\"expr\",\"expr\":{\"id\":\"p5680\"}},\"top\":{\"type\":\"expr\",\"expr\":{\"id\":\"p5681\"}},\"line_color\":{\"type\":\"value\",\"value\":\"#1f77b4\"},\"line_alpha\":{\"type\":\"value\",\"value\":0.1},\"fill_color\":{\"type\":\"value\",\"value\":\"#1f77b4\"},\"fill_alpha\":{\"type\":\"value\",\"value\":0.1},\"hatch_color\":{\"type\":\"value\",\"value\":\"#1f77b4\"},\"hatch_alpha\":{\"type\":\"value\",\"value\":0.1}}},\"muted_glyph\":{\"type\":\"object\",\"name\":\"VBar\",\"id\":\"p5697\",\"attributes\":{\"x\":{\"type\":\"field\",\"field\":\"Year\"},\"width\":{\"type\":\"value\",\"value\":0.9},\"bottom\":{\"type\":\"expr\",\"expr\":{\"id\":\"p5680\"}},\"top\":{\"type\":\"expr\",\"expr\":{\"id\":\"p5681\"}},\"line_color\":{\"type\":\"value\",\"value\":\"#1f77b4\"},\"line_alpha\":{\"type\":\"value\",\"value\":0.2},\"fill_color\":{\"type\":\"value\",\"value\":\"#1f77b4\"},\"fill_alpha\":{\"type\":\"value\",\"value\":0.2},\"hatch_color\":{\"type\":\"value\",\"value\":\"#1f77b4\"},\"hatch_alpha\":{\"type\":\"value\",\"value\":0.2}}}}},{\"type\":\"object\",\"name\":\"GlyphRenderer\",\"id\":\"p5709\",\"attributes\":{\"name\":\"Car\",\"data_source\":{\"id\":\"p5653\"},\"view\":{\"type\":\"object\",\"name\":\"CDSView\",\"id\":\"p5710\",\"attributes\":{\"filter\":{\"type\":\"object\",\"name\":\"AllIndices\",\"id\":\"p5711\"}}},\"glyph\":{\"type\":\"object\",\"name\":\"VBar\",\"id\":\"p5706\",\"attributes\":{\"x\":{\"type\":\"field\",\"field\":\"Year\"},\"width\":{\"type\":\"value\",\"value\":0.9},\"bottom\":{\"type\":\"expr\",\"expr\":{\"type\":\"object\",\"name\":\"Stack\",\"id\":\"p5682\",\"attributes\":{\"fields\":[\"Airplane\"]}}},\"top\":{\"type\":\"expr\",\"expr\":{\"type\":\"object\",\"name\":\"Stack\",\"id\":\"p5683\",\"attributes\":{\"fields\":[\"Airplane\",\"Car\"]}}},\"line_color\":{\"type\":\"value\",\"value\":\"#aec7e8\"},\"fill_color\":{\"type\":\"value\",\"value\":\"#aec7e8\"},\"hatch_color\":{\"type\":\"value\",\"value\":\"#aec7e8\"}}},\"nonselection_glyph\":{\"type\":\"object\",\"name\":\"VBar\",\"id\":\"p5707\",\"attributes\":{\"x\":{\"type\":\"field\",\"field\":\"Year\"},\"width\":{\"type\":\"value\",\"value\":0.9},\"bottom\":{\"type\":\"expr\",\"expr\":{\"id\":\"p5682\"}},\"top\":{\"type\":\"expr\",\"expr\":{\"id\":\"p5683\"}},\"line_color\":{\"type\":\"value\",\"value\":\"#aec7e8\"},\"line_alpha\":{\"type\":\"value\",\"value\":0.1},\"fill_color\":{\"type\":\"value\",\"value\":\"#aec7e8\"},\"fill_alpha\":{\"type\":\"value\",\"value\":0.1},\"hatch_color\":{\"type\":\"value\",\"value\":\"#aec7e8\"},\"hatch_alpha\":{\"type\":\"value\",\"value\":0.1}}},\"muted_glyph\":{\"type\":\"object\",\"name\":\"VBar\",\"id\":\"p5708\",\"attributes\":{\"x\":{\"type\":\"field\",\"field\":\"Year\"},\"width\":{\"type\":\"value\",\"value\":0.9},\"bottom\":{\"type\":\"expr\",\"expr\":{\"id\":\"p5682\"}},\"top\":{\"type\":\"expr\",\"expr\":{\"id\":\"p5683\"}},\"line_color\":{\"type\":\"value\",\"value\":\"#aec7e8\"},\"line_alpha\":{\"type\":\"value\",\"value\":0.2},\"fill_color\":{\"type\":\"value\",\"value\":\"#aec7e8\"},\"fill_alpha\":{\"type\":\"value\",\"value\":0.2},\"hatch_color\":{\"type\":\"value\",\"value\":\"#aec7e8\"},\"hatch_alpha\":{\"type\":\"value\",\"value\":0.2}}}}},{\"type\":\"object\",\"name\":\"GlyphRenderer\",\"id\":\"p5719\",\"attributes\":{\"name\":\"Train\",\"data_source\":{\"id\":\"p5653\"},\"view\":{\"type\":\"object\",\"name\":\"CDSView\",\"id\":\"p5720\",\"attributes\":{\"filter\":{\"type\":\"object\",\"name\":\"AllIndices\",\"id\":\"p5721\"}}},\"glyph\":{\"type\":\"object\",\"name\":\"VBar\",\"id\":\"p5716\",\"attributes\":{\"x\":{\"type\":\"field\",\"field\":\"Year\"},\"width\":{\"type\":\"value\",\"value\":0.9},\"bottom\":{\"type\":\"expr\",\"expr\":{\"type\":\"object\",\"name\":\"Stack\",\"id\":\"p5684\",\"attributes\":{\"fields\":[\"Airplane\",\"Car\"]}}},\"top\":{\"type\":\"expr\",\"expr\":{\"type\":\"object\",\"name\":\"Stack\",\"id\":\"p5685\",\"attributes\":{\"fields\":[\"Airplane\",\"Car\",\"Train\"]}}},\"line_color\":{\"type\":\"value\",\"value\":\"#ff7f0e\"},\"fill_color\":{\"type\":\"value\",\"value\":\"#ff7f0e\"},\"hatch_color\":{\"type\":\"value\",\"value\":\"#ff7f0e\"}}},\"nonselection_glyph\":{\"type\":\"object\",\"name\":\"VBar\",\"id\":\"p5717\",\"attributes\":{\"x\":{\"type\":\"field\",\"field\":\"Year\"},\"width\":{\"type\":\"value\",\"value\":0.9},\"bottom\":{\"type\":\"expr\",\"expr\":{\"id\":\"p5684\"}},\"top\":{\"type\":\"expr\",\"expr\":{\"id\":\"p5685\"}},\"line_color\":{\"type\":\"value\",\"value\":\"#ff7f0e\"},\"line_alpha\":{\"type\":\"value\",\"value\":0.1},\"fill_color\":{\"type\":\"value\",\"value\":\"#ff7f0e\"},\"fill_alpha\":{\"type\":\"value\",\"value\":0.1},\"hatch_color\":{\"type\":\"value\",\"value\":\"#ff7f0e\"},\"hatch_alpha\":{\"type\":\"value\",\"value\":0.1}}},\"muted_glyph\":{\"type\":\"object\",\"name\":\"VBar\",\"id\":\"p5718\",\"attributes\":{\"x\":{\"type\":\"field\",\"field\":\"Year\"},\"width\":{\"type\":\"value\",\"value\":0.9},\"bottom\":{\"type\":\"expr\",\"expr\":{\"id\":\"p5684\"}},\"top\":{\"type\":\"expr\",\"expr\":{\"id\":\"p5685\"}},\"line_color\":{\"type\":\"value\",\"value\":\"#ff7f0e\"},\"line_alpha\":{\"type\":\"value\",\"value\":0.2},\"fill_color\":{\"type\":\"value\",\"value\":\"#ff7f0e\"},\"fill_alpha\":{\"type\":\"value\",\"value\":0.2},\"hatch_color\":{\"type\":\"value\",\"value\":\"#ff7f0e\"},\"hatch_alpha\":{\"type\":\"value\",\"value\":0.2}}}}},{\"type\":\"object\",\"name\":\"GlyphRenderer\",\"id\":\"p5729\",\"attributes\":{\"name\":\"Ship\",\"data_source\":{\"id\":\"p5653\"},\"view\":{\"type\":\"object\",\"name\":\"CDSView\",\"id\":\"p5730\",\"attributes\":{\"filter\":{\"type\":\"object\",\"name\":\"AllIndices\",\"id\":\"p5731\"}}},\"glyph\":{\"type\":\"object\",\"name\":\"VBar\",\"id\":\"p5726\",\"attributes\":{\"x\":{\"type\":\"field\",\"field\":\"Year\"},\"width\":{\"type\":\"value\",\"value\":0.9},\"bottom\":{\"type\":\"expr\",\"expr\":{\"type\":\"object\",\"name\":\"Stack\",\"id\":\"p5686\",\"attributes\":{\"fields\":[\"Airplane\",\"Car\",\"Train\"]}}},\"top\":{\"type\":\"expr\",\"expr\":{\"type\":\"object\",\"name\":\"Stack\",\"id\":\"p5687\",\"attributes\":{\"fields\":[\"Airplane\",\"Car\",\"Train\",\"Ship\"]}}},\"line_color\":{\"type\":\"value\",\"value\":\"#ffbb78\"},\"fill_color\":{\"type\":\"value\",\"value\":\"#ffbb78\"},\"hatch_color\":{\"type\":\"value\",\"value\":\"#ffbb78\"}}},\"nonselection_glyph\":{\"type\":\"object\",\"name\":\"VBar\",\"id\":\"p5727\",\"attributes\":{\"x\":{\"type\":\"field\",\"field\":\"Year\"},\"width\":{\"type\":\"value\",\"value\":0.9},\"bottom\":{\"type\":\"expr\",\"expr\":{\"id\":\"p5686\"}},\"top\":{\"type\":\"expr\",\"expr\":{\"id\":\"p5687\"}},\"line_color\":{\"type\":\"value\",\"value\":\"#ffbb78\"},\"line_alpha\":{\"type\":\"value\",\"value\":0.1},\"fill_color\":{\"type\":\"value\",\"value\":\"#ffbb78\"},\"fill_alpha\":{\"type\":\"value\",\"value\":0.1},\"hatch_color\":{\"type\":\"value\",\"value\":\"#ffbb78\"},\"hatch_alpha\":{\"type\":\"value\",\"value\":0.1}}},\"muted_glyph\":{\"type\":\"object\",\"name\":\"VBar\",\"id\":\"p5728\",\"attributes\":{\"x\":{\"type\":\"field\",\"field\":\"Year\"},\"width\":{\"type\":\"value\",\"value\":0.9},\"bottom\":{\"type\":\"expr\",\"expr\":{\"id\":\"p5686\"}},\"top\":{\"type\":\"expr\",\"expr\":{\"id\":\"p5687\"}},\"line_color\":{\"type\":\"value\",\"value\":\"#ffbb78\"},\"line_alpha\":{\"type\":\"value\",\"value\":0.2},\"fill_color\":{\"type\":\"value\",\"value\":\"#ffbb78\"},\"fill_alpha\":{\"type\":\"value\",\"value\":0.2},\"hatch_color\":{\"type\":\"value\",\"value\":\"#ffbb78\"},\"hatch_alpha\":{\"type\":\"value\",\"value\":0.2}}}}},{\"type\":\"object\",\"name\":\"GlyphRenderer\",\"id\":\"p5739\",\"attributes\":{\"name\":\"Bus\",\"data_source\":{\"id\":\"p5653\"},\"view\":{\"type\":\"object\",\"name\":\"CDSView\",\"id\":\"p5740\",\"attributes\":{\"filter\":{\"type\":\"object\",\"name\":\"AllIndices\",\"id\":\"p5741\"}}},\"glyph\":{\"type\":\"object\",\"name\":\"VBar\",\"id\":\"p5736\",\"attributes\":{\"x\":{\"type\":\"field\",\"field\":\"Year\"},\"width\":{\"type\":\"value\",\"value\":0.9},\"bottom\":{\"type\":\"expr\",\"expr\":{\"type\":\"object\",\"name\":\"Stack\",\"id\":\"p5688\",\"attributes\":{\"fields\":[\"Airplane\",\"Car\",\"Train\",\"Ship\"]}}},\"top\":{\"type\":\"expr\",\"expr\":{\"type\":\"object\",\"name\":\"Stack\",\"id\":\"p5689\",\"attributes\":{\"fields\":[\"Airplane\",\"Car\",\"Train\",\"Ship\",\"Bus\"]}}},\"line_color\":{\"type\":\"value\",\"value\":\"#2ca02c\"},\"fill_color\":{\"type\":\"value\",\"value\":\"#2ca02c\"},\"hatch_color\":{\"type\":\"value\",\"value\":\"#2ca02c\"}}},\"nonselection_glyph\":{\"type\":\"object\",\"name\":\"VBar\",\"id\":\"p5737\",\"attributes\":{\"x\":{\"type\":\"field\",\"field\":\"Year\"},\"width\":{\"type\":\"value\",\"value\":0.9},\"bottom\":{\"type\":\"expr\",\"expr\":{\"id\":\"p5688\"}},\"top\":{\"type\":\"expr\",\"expr\":{\"id\":\"p5689\"}},\"line_color\":{\"type\":\"value\",\"value\":\"#2ca02c\"},\"line_alpha\":{\"type\":\"value\",\"value\":0.1},\"fill_color\":{\"type\":\"value\",\"value\":\"#2ca02c\"},\"fill_alpha\":{\"type\":\"value\",\"value\":0.1},\"hatch_color\":{\"type\":\"value\",\"value\":\"#2ca02c\"},\"hatch_alpha\":{\"type\":\"value\",\"value\":0.1}}},\"muted_glyph\":{\"type\":\"object\",\"name\":\"VBar\",\"id\":\"p5738\",\"attributes\":{\"x\":{\"type\":\"field\",\"field\":\"Year\"},\"width\":{\"type\":\"value\",\"value\":0.9},\"bottom\":{\"type\":\"expr\",\"expr\":{\"id\":\"p5688\"}},\"top\":{\"type\":\"expr\",\"expr\":{\"id\":\"p5689\"}},\"line_color\":{\"type\":\"value\",\"value\":\"#2ca02c\"},\"line_alpha\":{\"type\":\"value\",\"value\":0.2},\"fill_color\":{\"type\":\"value\",\"value\":\"#2ca02c\"},\"fill_alpha\":{\"type\":\"value\",\"value\":0.2},\"hatch_color\":{\"type\":\"value\",\"value\":\"#2ca02c\"},\"hatch_alpha\":{\"type\":\"value\",\"value\":0.2}}}}},{\"type\":\"object\",\"name\":\"GlyphRenderer\",\"id\":\"p5749\",\"attributes\":{\"name\":\"Other forms of transportation\",\"data_source\":{\"id\":\"p5653\"},\"view\":{\"type\":\"object\",\"name\":\"CDSView\",\"id\":\"p5750\",\"attributes\":{\"filter\":{\"type\":\"object\",\"name\":\"AllIndices\",\"id\":\"p5751\"}}},\"glyph\":{\"type\":\"object\",\"name\":\"VBar\",\"id\":\"p5746\",\"attributes\":{\"x\":{\"type\":\"field\",\"field\":\"Year\"},\"width\":{\"type\":\"value\",\"value\":0.9},\"bottom\":{\"type\":\"expr\",\"expr\":{\"type\":\"object\",\"name\":\"Stack\",\"id\":\"p5690\",\"attributes\":{\"fields\":[\"Airplane\",\"Car\",\"Train\",\"Ship\",\"Bus\"]}}},\"top\":{\"type\":\"expr\",\"expr\":{\"type\":\"object\",\"name\":\"Stack\",\"id\":\"p5691\",\"attributes\":{\"fields\":[\"Airplane\",\"Car\",\"Train\",\"Ship\",\"Bus\",\"Other forms of transportation\"]}}},\"line_color\":{\"type\":\"value\",\"value\":\"#98df8a\"},\"fill_color\":{\"type\":\"value\",\"value\":\"#98df8a\"},\"hatch_color\":{\"type\":\"value\",\"value\":\"#98df8a\"}}},\"nonselection_glyph\":{\"type\":\"object\",\"name\":\"VBar\",\"id\":\"p5747\",\"attributes\":{\"x\":{\"type\":\"field\",\"field\":\"Year\"},\"width\":{\"type\":\"value\",\"value\":0.9},\"bottom\":{\"type\":\"expr\",\"expr\":{\"id\":\"p5690\"}},\"top\":{\"type\":\"expr\",\"expr\":{\"id\":\"p5691\"}},\"line_color\":{\"type\":\"value\",\"value\":\"#98df8a\"},\"line_alpha\":{\"type\":\"value\",\"value\":0.1},\"fill_color\":{\"type\":\"value\",\"value\":\"#98df8a\"},\"fill_alpha\":{\"type\":\"value\",\"value\":0.1},\"hatch_color\":{\"type\":\"value\",\"value\":\"#98df8a\"},\"hatch_alpha\":{\"type\":\"value\",\"value\":0.1}}},\"muted_glyph\":{\"type\":\"object\",\"name\":\"VBar\",\"id\":\"p5748\",\"attributes\":{\"x\":{\"type\":\"field\",\"field\":\"Year\"},\"width\":{\"type\":\"value\",\"value\":0.9},\"bottom\":{\"type\":\"expr\",\"expr\":{\"id\":\"p5690\"}},\"top\":{\"type\":\"expr\",\"expr\":{\"id\":\"p5691\"}},\"line_color\":{\"type\":\"value\",\"value\":\"#98df8a\"},\"line_alpha\":{\"type\":\"value\",\"value\":0.2},\"fill_color\":{\"type\":\"value\",\"value\":\"#98df8a\"},\"fill_alpha\":{\"type\":\"value\",\"value\":0.2},\"hatch_color\":{\"type\":\"value\",\"value\":\"#98df8a\"},\"hatch_alpha\":{\"type\":\"value\",\"value\":0.2}}}}}],\"toolbar\":{\"type\":\"object\",\"name\":\"Toolbar\",\"id\":\"p5665\",\"attributes\":{\"tools\":[{\"type\":\"object\",\"name\":\"HoverTool\",\"id\":\"p5679\",\"attributes\":{\"renderers\":\"auto\",\"tooltips\":\"$name: @$name\"}}]}},\"toolbar_location\":null,\"left\":[{\"type\":\"object\",\"name\":\"LinearAxis\",\"id\":\"p5674\",\"attributes\":{\"ticker\":{\"type\":\"object\",\"name\":\"BasicTicker\",\"id\":\"p5675\",\"attributes\":{\"mantissas\":[1,2,5]}},\"formatter\":{\"type\":\"object\",\"name\":\"BasicTickFormatter\",\"id\":\"p5676\"},\"major_label_policy\":{\"type\":\"object\",\"name\":\"AllLabels\",\"id\":\"p5677\"},\"minor_tick_line_color\":null}},{\"type\":\"object\",\"name\":\"Legend\",\"id\":\"p5701\",\"attributes\":{\"location\":\"center\",\"click_policy\":\"mute\",\"items\":[{\"type\":\"object\",\"name\":\"LegendItem\",\"id\":\"p5702\",\"attributes\":{\"label\":{\"type\":\"value\",\"value\":\"Airplane\"},\"renderers\":[{\"id\":\"p5698\"}]}},{\"type\":\"object\",\"name\":\"LegendItem\",\"id\":\"p5712\",\"attributes\":{\"label\":{\"type\":\"value\",\"value\":\"Car\"},\"renderers\":[{\"id\":\"p5709\"}]}},{\"type\":\"object\",\"name\":\"LegendItem\",\"id\":\"p5722\",\"attributes\":{\"label\":{\"type\":\"value\",\"value\":\"Train\"},\"renderers\":[{\"id\":\"p5719\"}]}},{\"type\":\"object\",\"name\":\"LegendItem\",\"id\":\"p5732\",\"attributes\":{\"label\":{\"type\":\"value\",\"value\":\"Ship\"},\"renderers\":[{\"id\":\"p5729\"}]}},{\"type\":\"object\",\"name\":\"LegendItem\",\"id\":\"p5742\",\"attributes\":{\"label\":{\"type\":\"value\",\"value\":\"Bus\"},\"renderers\":[{\"id\":\"p5739\"}]}},{\"type\":\"object\",\"name\":\"LegendItem\",\"id\":\"p5752\",\"attributes\":{\"label\":{\"type\":\"value\",\"value\":\"Other forms of transportation\"},\"renderers\":[{\"id\":\"p5749\"}]}}]}}],\"below\":[{\"type\":\"object\",\"name\":\"CategoricalAxis\",\"id\":\"p5669\",\"attributes\":{\"ticker\":{\"type\":\"object\",\"name\":\"CategoricalTicker\",\"id\":\"p5670\"},\"formatter\":{\"type\":\"object\",\"name\":\"CategoricalTickFormatter\",\"id\":\"p5671\"},\"major_label_policy\":{\"type\":\"object\",\"name\":\"AllLabels\",\"id\":\"p5672\"},\"minor_tick_line_color\":null}}],\"center\":[{\"type\":\"object\",\"name\":\"Grid\",\"id\":\"p5673\",\"attributes\":{\"axis\":{\"id\":\"p5669\"},\"grid_line_color\":null}},{\"type\":\"object\",\"name\":\"Grid\",\"id\":\"p5678\",\"attributes\":{\"dimension\":1,\"axis\":{\"id\":\"p5674\"}}},{\"id\":\"p5701\"}]}}]}};\n  const render_items = [{\"docid\":\"461ec9b9-c84a-4388-82cb-e42ea772c0d9\",\"roots\":{\"p5656\":\"a62d86e3-ba16-4190-87be-0be1b014b8d9\"},\"root_ids\":[\"p5656\"]}];\n  void root.Bokeh.embed.embed_items_notebook(docs_json, render_items);\n  }\n  if (root.Bokeh !== undefined) {\n    embed_document(root);\n  } else {\n    let attempts = 0;\n    const timer = setInterval(function(root) {\n      if (root.Bokeh !== undefined) {\n        clearInterval(timer);\n        embed_document(root);\n      } else {\n        attempts++;\n        if (attempts > 100) {\n          clearInterval(timer);\n          console.log(\"Bokeh: ERROR: Unable to run BokehJS code because BokehJS library is missing\");\n        }\n      }\n    }, 10, root)\n  }\n})(window);",
      "application/vnd.bokehjs_exec.v0+json": ""
     },
     "metadata": {
      "application/vnd.bokehjs_exec.v0+json": {
       "id": "p5656"
      }
     },
     "output_type": "display_data"
    }
   ],
   "source": [
    "from bokeh.io import show\n",
    "from bokeh.models import ColumnDataSource\n",
    "from bokeh.plotting import figure\n",
    "from bokeh.palettes import Category20\n",
    "\n",
    "\n",
    "# Ensure numeric types\n",
    "#for col in data_long.columns[1:]:  # skip 'Year' if it's a string category\n",
    "#    data_long[col] = pd.to_numeric(data_long[col], errors='coerce')\n",
    "#print(data_long['Year'].values)\n",
    "# Categories to stack\n",
    "\n",
    "# Create the source\n",
    "source = ColumnDataSource(data_long)\n",
    "\n",
    "# Set up the figure\n",
    "p = figure(x_range=data_long[\"Year\"], height=600, width=900, title=\"Forms of transport for vacation\",\n",
    "           toolbar_location=None, tools=\"hover\", tooltips=\"$name: @$name\")\n",
    "\n",
    "# Assign colors (Bokeh palettes are limited, so repeat if needed)\n",
    "colors = Category20[len(transportation_types)]\n",
    "\n",
    "# Add stacked bars\n",
    "p.vbar_stack(transportation_types, x='Year', width=0.9, color=colors, source=source, legend_label=transportation_types)\n",
    "\n",
    "# Style tweaks\n",
    "p.y_range.start = 0\n",
    "p.xgrid.grid_line_color = None\n",
    "p.axis.minor_tick_line_color = None\n",
    "p.outline_line_color = None\n",
    "\n",
    "\n",
    "p.legend.click_policy=\"mute\" ### assigns the click policy (you can try to use ''hide'\n",
    "p.legend.location = \"center\"\n",
    "\n",
    "########################################################\n",
    "# This line puts the legend outside of the plot area\n",
    "\n",
    "p.add_layout(p.legend[0], 'left')\n",
    "\n",
    "\n",
    "# Show the plot\n",
    "show(p)\n"
   ]
  },
  {
   "cell_type": "code",
   "execution_count": null,
   "metadata": {},
   "outputs": [],
   "source": [
    "## Can compare to DK where we primarily drive."
   ]
  }
 ],
 "metadata": {
  "kernelspec": {
   "display_name": "social_graphs",
   "language": "python",
   "name": "python3"
  },
  "language_info": {
   "codemirror_mode": {
    "name": "ipython",
    "version": 3
   },
   "file_extension": ".py",
   "mimetype": "text/x-python",
   "name": "python",
   "nbconvert_exporter": "python",
   "pygments_lexer": "ipython3",
   "version": "3.11.11"
  }
 },
 "nbformat": 4,
 "nbformat_minor": 2
}
